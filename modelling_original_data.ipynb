{
 "cells": [
  {
   "cell_type": "code",
   "execution_count": 1,
   "metadata": {},
   "outputs": [],
   "source": [
    "import numpy as np\n",
    "import pandas as pd\n",
    "import seaborn as sns\n",
    "import matplotlib.pyplot as plt\n",
    "%matplotlib inline\n",
    "%config InlineBackend.figure_format = 'retina'"
   ]
  },
  {
   "cell_type": "markdown",
   "metadata": {},
   "source": [
    "### Loading data"
   ]
  },
  {
   "cell_type": "code",
   "execution_count": 2,
   "metadata": {},
   "outputs": [],
   "source": [
    "X_train = pd.read_csv('./original_data/X_train.csv')\n",
    "X_test = pd.read_csv('./original_data/X_test.csv')\n",
    "y_train = pd.read_csv('./original_data/y_train.csv',header = None)\n",
    "y_test = pd.read_csv('./original_data/y_test.csv',header = None)"
   ]
  },
  {
   "cell_type": "code",
   "execution_count": 3,
   "metadata": {},
   "outputs": [
    {
     "data": {
      "text/plain": [
       "(35000, 15)"
      ]
     },
     "execution_count": 3,
     "metadata": {},
     "output_type": "execute_result"
    }
   ],
   "source": [
    "X_train.shape"
   ]
  },
  {
   "cell_type": "code",
   "execution_count": 4,
   "metadata": {},
   "outputs": [
    {
     "data": {
      "text/plain": [
       "(35000, 2)"
      ]
     },
     "execution_count": 4,
     "metadata": {},
     "output_type": "execute_result"
    }
   ],
   "source": [
    "y_train.shape"
   ]
  },
  {
   "cell_type": "code",
   "execution_count": 5,
   "metadata": {},
   "outputs": [],
   "source": [
    "X_train.drop(columns = ['Unnamed: 0'], inplace = True)\n",
    "X_test.drop(columns = ['Unnamed: 0'], inplace = True)"
   ]
  },
  {
   "cell_type": "code",
   "execution_count": 6,
   "metadata": {},
   "outputs": [],
   "source": [
    "y_train.drop(columns = [y_train.columns.values.tolist()[0]], inplace = True)\n",
    "y_test.drop(columns = [y_test.columns.values.tolist()[0]], inplace = True)"
   ]
  },
  {
   "cell_type": "code",
   "execution_count": 7,
   "metadata": {},
   "outputs": [],
   "source": [
    "y_train.columns = ['subscribed']\n",
    "y_test.columns = ['subscribed']"
   ]
  },
  {
   "cell_type": "code",
   "execution_count": 8,
   "metadata": {},
   "outputs": [
    {
     "data": {
      "text/plain": [
       "(35000, 14)"
      ]
     },
     "execution_count": 8,
     "metadata": {},
     "output_type": "execute_result"
    }
   ],
   "source": [
    "X_train.shape"
   ]
  },
  {
   "cell_type": "code",
   "execution_count": 9,
   "metadata": {},
   "outputs": [],
   "source": [
    "y_train = y_train['subscribed']"
   ]
  },
  {
   "cell_type": "code",
   "execution_count": 48,
   "metadata": {},
   "outputs": [],
   "source": [
    "baseline = 1 - y_train.mean()"
   ]
  },
  {
   "cell_type": "code",
   "execution_count": 49,
   "metadata": {},
   "outputs": [
    {
     "data": {
      "text/plain": [
       "0.7034571428571428"
      ]
     },
     "execution_count": 49,
     "metadata": {},
     "output_type": "execute_result"
    }
   ],
   "source": [
    "baseline"
   ]
  },
  {
   "cell_type": "markdown",
   "metadata": {},
   "source": [
    "### Feature Selection"
   ]
  },
  {
   "cell_type": "code",
   "execution_count": 10,
   "metadata": {},
   "outputs": [],
   "source": [
    "from cLiML.model_prep import feature_select_logistic_reg"
   ]
  },
  {
   "cell_type": "code",
   "execution_count": 11,
   "metadata": {},
   "outputs": [],
   "source": [
    "df_feature = feature_select_logistic_reg(X_train, y_train, cv = 5)"
   ]
  },
  {
   "cell_type": "code",
   "execution_count": 12,
   "metadata": {},
   "outputs": [
    {
     "data": {
      "text/html": [
       "<div>\n",
       "<style scoped>\n",
       "    .dataframe tbody tr th:only-of-type {\n",
       "        vertical-align: middle;\n",
       "    }\n",
       "\n",
       "    .dataframe tbody tr th {\n",
       "        vertical-align: top;\n",
       "    }\n",
       "\n",
       "    .dataframe thead th {\n",
       "        text-align: right;\n",
       "    }\n",
       "</style>\n",
       "<table border=\"1\" class=\"dataframe\">\n",
       "  <thead>\n",
       "    <tr style=\"text-align: right;\">\n",
       "      <th></th>\n",
       "      <th>variable_RFECV</th>\n",
       "      <th>support</th>\n",
       "      <th>ranking</th>\n",
       "      <th>variable_skb</th>\n",
       "      <th>score</th>\n",
       "    </tr>\n",
       "  </thead>\n",
       "  <tbody>\n",
       "    <tr>\n",
       "      <th>0</th>\n",
       "      <td>time_in_product_mins</td>\n",
       "      <td>True</td>\n",
       "      <td>1</td>\n",
       "      <td>time_in_product_mins</td>\n",
       "      <td>717.519739</td>\n",
       "    </tr>\n",
       "    <tr>\n",
       "      <th>1</th>\n",
       "      <td>country_AU</td>\n",
       "      <td>True</td>\n",
       "      <td>1</td>\n",
       "      <td>referrer_channels_Direct</td>\n",
       "      <td>318.436061</td>\n",
       "    </tr>\n",
       "    <tr>\n",
       "      <th>2</th>\n",
       "      <td>devices_Desktop</td>\n",
       "      <td>True</td>\n",
       "      <td>1</td>\n",
       "      <td>devices_Desktop</td>\n",
       "      <td>201.486010</td>\n",
       "    </tr>\n",
       "    <tr>\n",
       "      <th>3</th>\n",
       "      <td>referrer_channels_Direct</td>\n",
       "      <td>True</td>\n",
       "      <td>1</td>\n",
       "      <td>campaigns_au_nz_mobile_product_launch</td>\n",
       "      <td>157.452346</td>\n",
       "    </tr>\n",
       "    <tr>\n",
       "      <th>4</th>\n",
       "      <td>referrer_channels_None</td>\n",
       "      <td>True</td>\n",
       "      <td>1</td>\n",
       "      <td>referrer_channels_Organic</td>\n",
       "      <td>86.253533</td>\n",
       "    </tr>\n",
       "    <tr>\n",
       "      <th>5</th>\n",
       "      <td>referrer_channels_Organic</td>\n",
       "      <td>True</td>\n",
       "      <td>1</td>\n",
       "      <td>campaigns_au_nz_eofy</td>\n",
       "      <td>66.939779</td>\n",
       "    </tr>\n",
       "    <tr>\n",
       "      <th>6</th>\n",
       "      <td>campaigns_au_nz_eofy</td>\n",
       "      <td>True</td>\n",
       "      <td>1</td>\n",
       "      <td>referrer_channels_None</td>\n",
       "      <td>2.475957</td>\n",
       "    </tr>\n",
       "    <tr>\n",
       "      <th>7</th>\n",
       "      <td>campaigns_au_nz_mobile_product_launch</td>\n",
       "      <td>True</td>\n",
       "      <td>1</td>\n",
       "      <td>industries_Healthcare</td>\n",
       "      <td>2.188615</td>\n",
       "    </tr>\n",
       "    <tr>\n",
       "      <th>8</th>\n",
       "      <td>industries_Construction</td>\n",
       "      <td>True</td>\n",
       "      <td>1</td>\n",
       "      <td>industries_Hospitality</td>\n",
       "      <td>1.021016</td>\n",
       "    </tr>\n",
       "    <tr>\n",
       "      <th>9</th>\n",
       "      <td>industries_Education</td>\n",
       "      <td>True</td>\n",
       "      <td>1</td>\n",
       "      <td>industries_Education</td>\n",
       "      <td>0.623498</td>\n",
       "    </tr>\n",
       "    <tr>\n",
       "      <th>10</th>\n",
       "      <td>industries_Finance</td>\n",
       "      <td>True</td>\n",
       "      <td>1</td>\n",
       "      <td>email_open_rate</td>\n",
       "      <td>0.456214</td>\n",
       "    </tr>\n",
       "    <tr>\n",
       "      <th>11</th>\n",
       "      <td>industries_Healthcare</td>\n",
       "      <td>True</td>\n",
       "      <td>1</td>\n",
       "      <td>country_AU</td>\n",
       "      <td>0.338307</td>\n",
       "    </tr>\n",
       "    <tr>\n",
       "      <th>12</th>\n",
       "      <td>industries_Hospitality</td>\n",
       "      <td>True</td>\n",
       "      <td>1</td>\n",
       "      <td>industries_Construction</td>\n",
       "      <td>0.190538</td>\n",
       "    </tr>\n",
       "    <tr>\n",
       "      <th>13</th>\n",
       "      <td>email_open_rate</td>\n",
       "      <td>False</td>\n",
       "      <td>2</td>\n",
       "      <td>industries_Finance</td>\n",
       "      <td>0.000044</td>\n",
       "    </tr>\n",
       "  </tbody>\n",
       "</table>\n",
       "</div>"
      ],
      "text/plain": [
       "                           variable_RFECV  support  ranking  \\\n",
       "0                    time_in_product_mins     True        1   \n",
       "1                              country_AU     True        1   \n",
       "2                         devices_Desktop     True        1   \n",
       "3                referrer_channels_Direct     True        1   \n",
       "4                  referrer_channels_None     True        1   \n",
       "5               referrer_channels_Organic     True        1   \n",
       "6                    campaigns_au_nz_eofy     True        1   \n",
       "7   campaigns_au_nz_mobile_product_launch     True        1   \n",
       "8                 industries_Construction     True        1   \n",
       "9                    industries_Education     True        1   \n",
       "10                     industries_Finance     True        1   \n",
       "11                  industries_Healthcare     True        1   \n",
       "12                 industries_Hospitality     True        1   \n",
       "13                        email_open_rate    False        2   \n",
       "\n",
       "                             variable_skb       score  \n",
       "0                    time_in_product_mins  717.519739  \n",
       "1                referrer_channels_Direct  318.436061  \n",
       "2                         devices_Desktop  201.486010  \n",
       "3   campaigns_au_nz_mobile_product_launch  157.452346  \n",
       "4               referrer_channels_Organic   86.253533  \n",
       "5                    campaigns_au_nz_eofy   66.939779  \n",
       "6                  referrer_channels_None    2.475957  \n",
       "7                   industries_Healthcare    2.188615  \n",
       "8                  industries_Hospitality    1.021016  \n",
       "9                    industries_Education    0.623498  \n",
       "10                        email_open_rate    0.456214  \n",
       "11                             country_AU    0.338307  \n",
       "12                industries_Construction    0.190538  \n",
       "13                     industries_Finance    0.000044  "
      ]
     },
     "execution_count": 12,
     "metadata": {},
     "output_type": "execute_result"
    }
   ],
   "source": [
    "df_feature"
   ]
  },
  {
   "cell_type": "markdown",
   "metadata": {},
   "source": [
    "### Logistic Regression"
   ]
  },
  {
   "cell_type": "code",
   "execution_count": 13,
   "metadata": {},
   "outputs": [],
   "source": [
    "from sklearn.linear_model import LogisticRegression"
   ]
  },
  {
   "cell_type": "code",
   "execution_count": 14,
   "metadata": {},
   "outputs": [
    {
     "data": {
      "text/plain": [
       "0.7049714285714286"
      ]
     },
     "execution_count": 14,
     "metadata": {},
     "output_type": "execute_result"
    }
   ],
   "source": [
    "lr = LogisticRegression()\n",
    "lr.fit(X_train, y_train)\n",
    "lr.score(X_train, y_train)"
   ]
  },
  {
   "cell_type": "code",
   "execution_count": 15,
   "metadata": {},
   "outputs": [
    {
     "data": {
      "text/plain": [
       "0.7054666666666667"
      ]
     },
     "execution_count": 15,
     "metadata": {},
     "output_type": "execute_result"
    }
   ],
   "source": [
    "lr.score(X_test, y_test)"
   ]
  },
  {
   "cell_type": "code",
   "execution_count": 16,
   "metadata": {},
   "outputs": [],
   "source": [
    "lr_coef_df = pd.DataFrame({'Variables': X_train.columns.tolist(),\n",
    "                          'Coefficients': lr.coef_[0].tolist(),\n",
    "                          'Abs_Coefs': abs(lr.coef_[0])})"
   ]
  },
  {
   "cell_type": "code",
   "execution_count": 17,
   "metadata": {},
   "outputs": [
    {
     "data": {
      "text/html": [
       "<div>\n",
       "<style scoped>\n",
       "    .dataframe tbody tr th:only-of-type {\n",
       "        vertical-align: middle;\n",
       "    }\n",
       "\n",
       "    .dataframe tbody tr th {\n",
       "        vertical-align: top;\n",
       "    }\n",
       "\n",
       "    .dataframe thead th {\n",
       "        text-align: right;\n",
       "    }\n",
       "</style>\n",
       "<table border=\"1\" class=\"dataframe\">\n",
       "  <thead>\n",
       "    <tr style=\"text-align: right;\">\n",
       "      <th></th>\n",
       "      <th>Variables</th>\n",
       "      <th>Coefficients</th>\n",
       "      <th>Abs_Coefs</th>\n",
       "    </tr>\n",
       "  </thead>\n",
       "  <tbody>\n",
       "    <tr>\n",
       "      <th>4</th>\n",
       "      <td>referrer_channels_Direct</td>\n",
       "      <td>0.473253</td>\n",
       "      <td>0.473253</td>\n",
       "    </tr>\n",
       "    <tr>\n",
       "      <th>3</th>\n",
       "      <td>devices_Desktop</td>\n",
       "      <td>0.315306</td>\n",
       "      <td>0.315306</td>\n",
       "    </tr>\n",
       "    <tr>\n",
       "      <th>5</th>\n",
       "      <td>referrer_channels_None</td>\n",
       "      <td>0.196253</td>\n",
       "      <td>0.196253</td>\n",
       "    </tr>\n",
       "    <tr>\n",
       "      <th>12</th>\n",
       "      <td>industries_Healthcare</td>\n",
       "      <td>-0.056591</td>\n",
       "      <td>0.056591</td>\n",
       "    </tr>\n",
       "    <tr>\n",
       "      <th>7</th>\n",
       "      <td>campaigns_au_nz_eofy</td>\n",
       "      <td>0.046328</td>\n",
       "      <td>0.046328</td>\n",
       "    </tr>\n",
       "    <tr>\n",
       "      <th>6</th>\n",
       "      <td>referrer_channels_Organic</td>\n",
       "      <td>-0.043530</td>\n",
       "      <td>0.043530</td>\n",
       "    </tr>\n",
       "    <tr>\n",
       "      <th>9</th>\n",
       "      <td>industries_Construction</td>\n",
       "      <td>-0.038201</td>\n",
       "      <td>0.038201</td>\n",
       "    </tr>\n",
       "    <tr>\n",
       "      <th>11</th>\n",
       "      <td>industries_Finance</td>\n",
       "      <td>-0.031434</td>\n",
       "      <td>0.031434</td>\n",
       "    </tr>\n",
       "    <tr>\n",
       "      <th>2</th>\n",
       "      <td>country_AU</td>\n",
       "      <td>-0.019307</td>\n",
       "      <td>0.019307</td>\n",
       "    </tr>\n",
       "    <tr>\n",
       "      <th>8</th>\n",
       "      <td>campaigns_au_nz_mobile_product_launch</td>\n",
       "      <td>-0.014520</td>\n",
       "      <td>0.014520</td>\n",
       "    </tr>\n",
       "    <tr>\n",
       "      <th>1</th>\n",
       "      <td>time_in_product_mins</td>\n",
       "      <td>0.012884</td>\n",
       "      <td>0.012884</td>\n",
       "    </tr>\n",
       "    <tr>\n",
       "      <th>13</th>\n",
       "      <td>industries_Hospitality</td>\n",
       "      <td>0.010550</td>\n",
       "      <td>0.010550</td>\n",
       "    </tr>\n",
       "    <tr>\n",
       "      <th>10</th>\n",
       "      <td>industries_Education</td>\n",
       "      <td>-0.002991</td>\n",
       "      <td>0.002991</td>\n",
       "    </tr>\n",
       "    <tr>\n",
       "      <th>0</th>\n",
       "      <td>email_open_rate</td>\n",
       "      <td>-0.000321</td>\n",
       "      <td>0.000321</td>\n",
       "    </tr>\n",
       "  </tbody>\n",
       "</table>\n",
       "</div>"
      ],
      "text/plain": [
       "                                Variables  Coefficients  Abs_Coefs\n",
       "4                referrer_channels_Direct      0.473253   0.473253\n",
       "3                         devices_Desktop      0.315306   0.315306\n",
       "5                  referrer_channels_None      0.196253   0.196253\n",
       "12                  industries_Healthcare     -0.056591   0.056591\n",
       "7                    campaigns_au_nz_eofy      0.046328   0.046328\n",
       "6               referrer_channels_Organic     -0.043530   0.043530\n",
       "9                 industries_Construction     -0.038201   0.038201\n",
       "11                     industries_Finance     -0.031434   0.031434\n",
       "2                              country_AU     -0.019307   0.019307\n",
       "8   campaigns_au_nz_mobile_product_launch     -0.014520   0.014520\n",
       "1                    time_in_product_mins      0.012884   0.012884\n",
       "13                 industries_Hospitality      0.010550   0.010550\n",
       "10                   industries_Education     -0.002991   0.002991\n",
       "0                         email_open_rate     -0.000321   0.000321"
      ]
     },
     "execution_count": 17,
     "metadata": {},
     "output_type": "execute_result"
    }
   ],
   "source": [
    "lr_coef_df.sort_values('Abs_Coefs', ascending = False)"
   ]
  },
  {
   "cell_type": "markdown",
   "metadata": {},
   "source": [
    "As can be seen here, the referral type of \"Direct\" and device type of \"Desktop\" are the highest indicator of the user will subscribe to the service."
   ]
  },
  {
   "cell_type": "code",
   "execution_count": 18,
   "metadata": {},
   "outputs": [
    {
     "name": "stdout",
     "output_type": "stream",
     "text": [
      "[0.70694087 0.70542857 0.70571429 0.706      0.70428571 0.70657143\n",
      " 0.70314286 0.70342857 0.70628571 0.70248642]\n",
      "0.7050284441585902\n"
     ]
    }
   ],
   "source": [
    "from sklearn.model_selection import cross_val_score\n",
    "LR = LogisticRegression()\n",
    "cv_scores = cross_val_score(LR, X_train, y_train, cv = 10)\n",
    "print(cv_scores)\n",
    "print(cv_scores.mean())"
   ]
  },
  {
   "cell_type": "markdown",
   "metadata": {},
   "source": [
    "Cross validation is just conducted to ensure that result obtained from the train test split is represetative. For smaller data sets, the splitting of data set may be biased, causing the model accuracy to fluctuate wildly depending on how the data set were cut. This problem doesn't usually occur for data set of signifcant size."
   ]
  },
  {
   "cell_type": "markdown",
   "metadata": {},
   "source": [
    "### Random Forest"
   ]
  },
  {
   "cell_type": "code",
   "execution_count": 19,
   "metadata": {},
   "outputs": [
    {
     "name": "stderr",
     "output_type": "stream",
     "text": [
      "/anaconda3/lib/python3.6/site-packages/sklearn/ensemble/weight_boosting.py:29: DeprecationWarning: numpy.core.umath_tests is an internal NumPy module and should not be imported. It will be removed in a future NumPy release.\n",
      "  from numpy.core.umath_tests import inner1d\n"
     ]
    }
   ],
   "source": [
    "from sklearn.ensemble import RandomForestClassifier"
   ]
  },
  {
   "cell_type": "code",
   "execution_count": 20,
   "metadata": {},
   "outputs": [
    {
     "data": {
      "text/plain": [
       "RandomForestClassifier(bootstrap=True, class_weight=None, criterion='gini',\n",
       "            max_depth=None, max_features='auto', max_leaf_nodes=None,\n",
       "            min_impurity_decrease=0.0, min_impurity_split=None,\n",
       "            min_samples_leaf=1, min_samples_split=2,\n",
       "            min_weight_fraction_leaf=0.0, n_estimators=10, n_jobs=1,\n",
       "            oob_score=False, random_state=None, verbose=0,\n",
       "            warm_start=False)"
      ]
     },
     "execution_count": 20,
     "metadata": {},
     "output_type": "execute_result"
    }
   ],
   "source": [
    "rfc = RandomForestClassifier()\n",
    "rfc.fit(X_train, y_train)\n"
   ]
  },
  {
   "cell_type": "code",
   "execution_count": 21,
   "metadata": {},
   "outputs": [
    {
     "data": {
      "text/plain": [
       "0.9671428571428572"
      ]
     },
     "execution_count": 21,
     "metadata": {},
     "output_type": "execute_result"
    }
   ],
   "source": [
    "rfc.score(X_train, y_train)"
   ]
  },
  {
   "cell_type": "code",
   "execution_count": 22,
   "metadata": {},
   "outputs": [
    {
     "data": {
      "text/plain": [
       "0.6528666666666667"
      ]
     },
     "execution_count": 22,
     "metadata": {},
     "output_type": "execute_result"
    }
   ],
   "source": [
    "rfc.score(X_test, y_test)"
   ]
  },
  {
   "cell_type": "markdown",
   "metadata": {},
   "source": [
    "### Random Forest Grid Search"
   ]
  },
  {
   "cell_type": "code",
   "execution_count": 23,
   "metadata": {},
   "outputs": [],
   "source": [
    "from sklearn.model_selection import GridSearchCV"
   ]
  },
  {
   "cell_type": "code",
   "execution_count": 24,
   "metadata": {},
   "outputs": [
    {
     "data": {
      "text/plain": [
       "GridSearchCV(cv=10, error_score='raise',\n",
       "       estimator=RandomForestClassifier(bootstrap=True, class_weight=None, criterion='gini',\n",
       "            max_depth=None, max_features='auto', max_leaf_nodes=None,\n",
       "            min_impurity_decrease=0.0, min_impurity_split=None,\n",
       "            min_samples_leaf=1, min_samples_split=2,\n",
       "            min_weight_fraction_leaf=0.0, n_estimators=10, n_jobs=1,\n",
       "            oob_score=False, random_state=None, verbose=0,\n",
       "            warm_start=False),\n",
       "       fit_params=None, iid=True, n_jobs=-1,\n",
       "       param_grid={'max_depth': [1, 5, 10, 14], 'max_features': [1, 5, 10, 14]},\n",
       "       pre_dispatch='2*n_jobs', refit=True, return_train_score='warn',\n",
       "       scoring=None, verbose=0)"
      ]
     },
     "execution_count": 24,
     "metadata": {},
     "output_type": "execute_result"
    }
   ],
   "source": [
    "params = {'max_depth': [1,5,10,14],\n",
    "         'max_features': [1,5,10,14]}\n",
    "\n",
    "rfct = RandomForestClassifier()\n",
    "rfct_gs = GridSearchCV(rfct, params, n_jobs = -1, cv = 10)\n",
    "rfct_gs.fit(X_train, y_train)"
   ]
  },
  {
   "cell_type": "code",
   "execution_count": 25,
   "metadata": {},
   "outputs": [
    {
     "data": {
      "text/plain": [
       "{'max_depth': 5, 'max_features': 14}"
      ]
     },
     "execution_count": 25,
     "metadata": {},
     "output_type": "execute_result"
    }
   ],
   "source": [
    "rfct_gs.best_params_"
   ]
  },
  {
   "cell_type": "code",
   "execution_count": 26,
   "metadata": {},
   "outputs": [
    {
     "data": {
      "text/plain": [
       "0.7084285714285714"
      ]
     },
     "execution_count": 26,
     "metadata": {},
     "output_type": "execute_result"
    }
   ],
   "source": [
    "rfct_gs.score(X_train, y_train)"
   ]
  },
  {
   "cell_type": "code",
   "execution_count": 27,
   "metadata": {},
   "outputs": [
    {
     "data": {
      "text/plain": [
       "0.7044666666666667"
      ]
     },
     "execution_count": 27,
     "metadata": {},
     "output_type": "execute_result"
    }
   ],
   "source": [
    "rfct_gs.score(X_test, y_test)"
   ]
  },
  {
   "cell_type": "markdown",
   "metadata": {},
   "source": [
    "Usually, I don't bother to tune hyper-parameter if the test accuracy is low. Hyper-parameter tuning is extremely good at getting rid of overfitting, but it does very little to raise the overall accuracy of the model. Given our model's accuracy is around 55%, doing further hyper-parameter tuning will not bring it up much."
   ]
  },
  {
   "cell_type": "markdown",
   "metadata": {},
   "source": [
    "### CATBOOST"
   ]
  },
  {
   "cell_type": "code",
   "execution_count": 28,
   "metadata": {},
   "outputs": [],
   "source": [
    "from catboost import CatBoostClassifier, Pool, cv"
   ]
  },
  {
   "cell_type": "code",
   "execution_count": 29,
   "metadata": {},
   "outputs": [],
   "source": [
    "from sklearn.metrics import accuracy_score"
   ]
  },
  {
   "cell_type": "code",
   "execution_count": 30,
   "metadata": {},
   "outputs": [
    {
     "data": {
      "text/plain": [
       "<catboost.core.CatBoostClassifier at 0x1a1f6b6e48>"
      ]
     },
     "execution_count": 30,
     "metadata": {},
     "output_type": "execute_result"
    }
   ],
   "source": [
    "catboost = CatBoostClassifier(custom_loss=['Accuracy'], logging_level='Silent')\n",
    "\n",
    "catboost.fit(X_train, y_train)"
   ]
  },
  {
   "cell_type": "code",
   "execution_count": 31,
   "metadata": {},
   "outputs": [
    {
     "data": {
      "text/plain": [
       "0.7082285714285714"
      ]
     },
     "execution_count": 31,
     "metadata": {},
     "output_type": "execute_result"
    }
   ],
   "source": [
    "catboost.score(X_train, y_train)"
   ]
  },
  {
   "cell_type": "code",
   "execution_count": 32,
   "metadata": {},
   "outputs": [
    {
     "data": {
      "text/plain": [
       "0.7046"
      ]
     },
     "execution_count": 32,
     "metadata": {},
     "output_type": "execute_result"
    }
   ],
   "source": [
    "catboost.score(X_test, y_test)"
   ]
  },
  {
   "cell_type": "markdown",
   "metadata": {},
   "source": [
    "### Neural Network"
   ]
  },
  {
   "cell_type": "code",
   "execution_count": 33,
   "metadata": {},
   "outputs": [
    {
     "name": "stderr",
     "output_type": "stream",
     "text": [
      "/anaconda3/lib/python3.6/site-packages/h5py/__init__.py:36: FutureWarning: Conversion of the second argument of issubdtype from `float` to `np.floating` is deprecated. In future, it will be treated as `np.float64 == np.dtype(float).type`.\n",
      "  from ._conv import register_converters as _register_converters\n",
      "Using TensorFlow backend.\n"
     ]
    }
   ],
   "source": [
    "from keras.models import Sequential\n",
    "from keras.layers.core import Activation\n",
    "from keras.layers.core import Dropout\n",
    "from keras.layers.core import Dense\n",
    "from keras import optimizers\n"
   ]
  },
  {
   "cell_type": "code",
   "execution_count": 34,
   "metadata": {},
   "outputs": [
    {
     "data": {
      "text/plain": [
       "(35000, 14)"
      ]
     },
     "execution_count": 34,
     "metadata": {},
     "output_type": "execute_result"
    }
   ],
   "source": [
    "X_train.shape"
   ]
  },
  {
   "cell_type": "code",
   "execution_count": 35,
   "metadata": {},
   "outputs": [],
   "source": [
    "model = Sequential()\n",
    "model.add(Dense(units = 14, activation = 'relu', kernel_initializer = 'uniform', input_dim = 14))\n",
    "model.add(Dense(units = 14, activation = 'relu', kernel_initializer = 'uniform', input_dim = 14))\n",
    "model.add(Dense(units = 14, activation = 'relu', kernel_initializer = 'uniform', input_dim = 14))\n",
    "model.add(Dense(units = 1, activation = 'sigmoid'))"
   ]
  },
  {
   "cell_type": "code",
   "execution_count": 36,
   "metadata": {},
   "outputs": [
    {
     "name": "stdout",
     "output_type": "stream",
     "text": [
      "_________________________________________________________________\n",
      "Layer (type)                 Output Shape              Param #   \n",
      "=================================================================\n",
      "dense_1 (Dense)              (None, 14)                210       \n",
      "_________________________________________________________________\n",
      "dense_2 (Dense)              (None, 14)                210       \n",
      "_________________________________________________________________\n",
      "dense_3 (Dense)              (None, 14)                210       \n",
      "_________________________________________________________________\n",
      "dense_4 (Dense)              (None, 1)                 15        \n",
      "=================================================================\n",
      "Total params: 645\n",
      "Trainable params: 645\n",
      "Non-trainable params: 0\n",
      "_________________________________________________________________\n"
     ]
    }
   ],
   "source": [
    "model.compile(loss = 'binary_crossentropy', optimizer = optimizers.Adam(lr = 0.001), metrics = ['binary_accuracy'])\n",
    "model.summary()"
   ]
  },
  {
   "cell_type": "code",
   "execution_count": 37,
   "metadata": {},
   "outputs": [
    {
     "name": "stdout",
     "output_type": "stream",
     "text": [
      "Epoch 1/20\n",
      "35000/35000 [==============================] - 2s 46us/step - loss: 0.6072 - binary_accuracy: 0.7031\n",
      "Epoch 2/20\n",
      "35000/35000 [==============================] - 1s 37us/step - loss: 0.5959 - binary_accuracy: 0.7035: 0s - loss: 0.5964 - binary_accuracy: 0.7\n",
      "Epoch 3/20\n",
      "35000/35000 [==============================] - 1s 36us/step - loss: 0.5947 - binary_accuracy: 0.7035\n",
      "Epoch 4/20\n",
      "35000/35000 [==============================] - 1s 37us/step - loss: 0.5943 - binary_accuracy: 0.7035\n",
      "Epoch 5/20\n",
      "35000/35000 [==============================] - 1s 36us/step - loss: 0.5935 - binary_accuracy: 0.7035\n",
      "Epoch 6/20\n",
      "35000/35000 [==============================] - 1s 37us/step - loss: 0.5925 - binary_accuracy: 0.7035\n",
      "Epoch 7/20\n",
      "35000/35000 [==============================] - 1s 37us/step - loss: 0.5927 - binary_accuracy: 0.7035\n",
      "Epoch 8/20\n",
      "35000/35000 [==============================] - 1s 36us/step - loss: 0.5922 - binary_accuracy: 0.7035\n",
      "Epoch 9/20\n",
      "35000/35000 [==============================] - 1s 38us/step - loss: 0.5921 - binary_accuracy: 0.7035\n",
      "Epoch 10/20\n",
      "35000/35000 [==============================] - 1s 37us/step - loss: 0.5922 - binary_accuracy: 0.7035\n",
      "Epoch 11/20\n",
      "35000/35000 [==============================] - 1s 37us/step - loss: 0.5920 - binary_accuracy: 0.7035\n",
      "Epoch 12/20\n",
      "35000/35000 [==============================] - 1s 38us/step - loss: 0.5917 - binary_accuracy: 0.7035: 0s - loss: 0.5900 - binary_a\n",
      "Epoch 13/20\n",
      "35000/35000 [==============================] - 1s 38us/step - loss: 0.5918 - binary_accuracy: 0.7035\n",
      "Epoch 14/20\n",
      "35000/35000 [==============================] - 1s 38us/step - loss: 0.5918 - binary_accuracy: 0.7035\n",
      "Epoch 15/20\n",
      "35000/35000 [==============================] - 1s 38us/step - loss: 0.5916 - binary_accuracy: 0.7035\n",
      "Epoch 16/20\n",
      "35000/35000 [==============================] - 2s 46us/step - loss: 0.5919 - binary_accuracy: 0.7035\n",
      "Epoch 17/20\n",
      "35000/35000 [==============================] - 2s 48us/step - loss: 0.5917 - binary_accuracy: 0.7035\n",
      "Epoch 18/20\n",
      "35000/35000 [==============================] - 1s 42us/step - loss: 0.5917 - binary_accuracy: 0.7035\n",
      "Epoch 19/20\n",
      "35000/35000 [==============================] - 2s 43us/step - loss: 0.5917 - binary_accuracy: 0.7035: 0s - loss: 0.5916 - binary_accuracy:\n",
      "Epoch 20/20\n",
      "35000/35000 [==============================] - 2s 43us/step - loss: 0.5918 - binary_accuracy: 0.7035\n"
     ]
    },
    {
     "data": {
      "text/plain": [
       "<keras.callbacks.History at 0x111a19a90>"
      ]
     },
     "execution_count": 37,
     "metadata": {},
     "output_type": "execute_result"
    }
   ],
   "source": [
    "model.fit(X_train, y_train, batch_size = 30, epochs = 20)"
   ]
  },
  {
   "cell_type": "code",
   "execution_count": 38,
   "metadata": {},
   "outputs": [],
   "source": [
    "y_pred = model.predict(X_test)"
   ]
  },
  {
   "cell_type": "code",
   "execution_count": 39,
   "metadata": {},
   "outputs": [],
   "source": [
    "y_pred = (y_pred > 0.5)"
   ]
  },
  {
   "cell_type": "code",
   "execution_count": 40,
   "metadata": {},
   "outputs": [],
   "source": [
    "from sklearn.metrics import accuracy_score"
   ]
  },
  {
   "cell_type": "code",
   "execution_count": 41,
   "metadata": {},
   "outputs": [
    {
     "data": {
      "text/plain": [
       "0.7034666666666667"
      ]
     },
     "execution_count": 41,
     "metadata": {},
     "output_type": "execute_result"
    }
   ],
   "source": [
    "accuracy_score(y_test, y_pred)"
   ]
  },
  {
   "cell_type": "code",
   "execution_count": 42,
   "metadata": {},
   "outputs": [],
   "source": [
    "y_train_pred = model.predict(X_train)"
   ]
  },
  {
   "cell_type": "code",
   "execution_count": 43,
   "metadata": {},
   "outputs": [],
   "source": [
    "y_train_pred = (y_train_pred > 0.5)"
   ]
  },
  {
   "cell_type": "code",
   "execution_count": 44,
   "metadata": {},
   "outputs": [
    {
     "data": {
      "text/plain": [
       "0.7034571428571429"
      ]
     },
     "execution_count": 44,
     "metadata": {},
     "output_type": "execute_result"
    }
   ],
   "source": [
    "accuracy_score(y_train, y_train_pred)"
   ]
  }
 ],
 "metadata": {
  "kernelspec": {
   "display_name": "Python 3",
   "language": "python",
   "name": "python3"
  },
  "language_info": {
   "codemirror_mode": {
    "name": "ipython",
    "version": 3
   },
   "file_extension": ".py",
   "mimetype": "text/x-python",
   "name": "python",
   "nbconvert_exporter": "python",
   "pygments_lexer": "ipython3",
   "version": "3.6.5"
  }
 },
 "nbformat": 4,
 "nbformat_minor": 2
}
