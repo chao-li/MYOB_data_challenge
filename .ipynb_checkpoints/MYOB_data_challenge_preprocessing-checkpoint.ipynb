{
 "cells": [
  {
   "cell_type": "code",
   "execution_count": 1,
   "metadata": {},
   "outputs": [],
   "source": [
    "import numpy as np\n",
    "import pandas as pd\n",
    "import json"
   ]
  },
  {
   "cell_type": "code",
   "execution_count": 2,
   "metadata": {},
   "outputs": [
    {
     "name": "stdout",
     "output_type": "stream",
     "text": [
      "\u001b[31mBenefits AU.pdf\u001b[m\u001b[m                  MYOB_data_challenge.ipynb\r\n",
      "\u001b[31mData Scientist.pdf\u001b[m\u001b[m               \u001b[31mmyob_challenge_dataset.csv\u001b[m\u001b[m\r\n",
      "\u001b[31mMYOB data challenge[2].pdf\u001b[m\u001b[m       \u001b[31mmyob_challenge_dataset.csv[2].gz\u001b[m\u001b[m\r\n"
     ]
    }
   ],
   "source": [
    "!ls"
   ]
  },
  {
   "cell_type": "markdown",
   "metadata": {},
   "source": [
    "### Playing around and familiarising with data"
   ]
  },
  {
   "cell_type": "code",
   "execution_count": 2,
   "metadata": {},
   "outputs": [],
   "source": [
    "data = pd.read_csv('myob_challenge_dataset.csv')"
   ]
  },
  {
   "cell_type": "code",
   "execution_count": 3,
   "metadata": {},
   "outputs": [
    {
     "data": {
      "text/html": [
       "<div>\n",
       "<style scoped>\n",
       "    .dataframe tbody tr th:only-of-type {\n",
       "        vertical-align: middle;\n",
       "    }\n",
       "\n",
       "    .dataframe tbody tr th {\n",
       "        vertical-align: top;\n",
       "    }\n",
       "\n",
       "    .dataframe thead th {\n",
       "        text-align: right;\n",
       "    }\n",
       "</style>\n",
       "<table border=\"1\" class=\"dataframe\">\n",
       "  <thead>\n",
       "    <tr style=\"text-align: right;\">\n",
       "      <th></th>\n",
       "      <th>user_id</th>\n",
       "      <th>event_date</th>\n",
       "      <th>country</th>\n",
       "      <th>subscribed</th>\n",
       "      <th>payload</th>\n",
       "    </tr>\n",
       "  </thead>\n",
       "  <tbody>\n",
       "    <tr>\n",
       "      <th>0</th>\n",
       "      <td>e7a484c4-6a87-44b8-a4d4-87f0cba58f18</td>\n",
       "      <td>2017-07-23 04:46:53.433953</td>\n",
       "      <td>NZ</td>\n",
       "      <td>False</td>\n",
       "      <td>{\"analytics\": {\"device\": \"Desktop\", \"email_ope...</td>\n",
       "    </tr>\n",
       "    <tr>\n",
       "      <th>1</th>\n",
       "      <td>5c6d1410-6e36-4cf0-bef1-ffc150e3127b</td>\n",
       "      <td>2017-07-12 12:56:59.982910</td>\n",
       "      <td>NZ</td>\n",
       "      <td>False</td>\n",
       "      <td>{\"analytics\": {\"device\": \"Mobile\", \"email_open...</td>\n",
       "    </tr>\n",
       "    <tr>\n",
       "      <th>2</th>\n",
       "      <td>71207879-645a-4e41-bd46-133ba26524bf</td>\n",
       "      <td>2017-07-21 16:51:50.866545</td>\n",
       "      <td>NZ</td>\n",
       "      <td>False</td>\n",
       "      <td>{\"analytics\": {\"device\": \"Mobile\", \"email_open...</td>\n",
       "    </tr>\n",
       "    <tr>\n",
       "      <th>3</th>\n",
       "      <td>41219462-d4c1-4c94-ac21-7b7846298de5</td>\n",
       "      <td>2017-07-08 21:53:13.940203</td>\n",
       "      <td>NZ</td>\n",
       "      <td>False</td>\n",
       "      <td>{\"analytics\": {\"device\": \"Mobile\", \"email_open...</td>\n",
       "    </tr>\n",
       "    <tr>\n",
       "      <th>4</th>\n",
       "      <td>2eb9a1fe-58e4-4793-8e73-91595d52dacf</td>\n",
       "      <td>2017-08-09 14:23:23.109747</td>\n",
       "      <td>NZ</td>\n",
       "      <td>False</td>\n",
       "      <td>{\"analytics\": {\"device\": \"Mobile\", \"email_open...</td>\n",
       "    </tr>\n",
       "  </tbody>\n",
       "</table>\n",
       "</div>"
      ],
      "text/plain": [
       "                                user_id                  event_date country  \\\n",
       "0  e7a484c4-6a87-44b8-a4d4-87f0cba58f18  2017-07-23 04:46:53.433953      NZ   \n",
       "1  5c6d1410-6e36-4cf0-bef1-ffc150e3127b  2017-07-12 12:56:59.982910      NZ   \n",
       "2  71207879-645a-4e41-bd46-133ba26524bf  2017-07-21 16:51:50.866545      NZ   \n",
       "3  41219462-d4c1-4c94-ac21-7b7846298de5  2017-07-08 21:53:13.940203      NZ   \n",
       "4  2eb9a1fe-58e4-4793-8e73-91595d52dacf  2017-08-09 14:23:23.109747      NZ   \n",
       "\n",
       "   subscribed                                            payload  \n",
       "0       False  {\"analytics\": {\"device\": \"Desktop\", \"email_ope...  \n",
       "1       False  {\"analytics\": {\"device\": \"Mobile\", \"email_open...  \n",
       "2       False  {\"analytics\": {\"device\": \"Mobile\", \"email_open...  \n",
       "3       False  {\"analytics\": {\"device\": \"Mobile\", \"email_open...  \n",
       "4       False  {\"analytics\": {\"device\": \"Mobile\", \"email_open...  "
      ]
     },
     "execution_count": 3,
     "metadata": {},
     "output_type": "execute_result"
    }
   ],
   "source": [
    "data.head()"
   ]
  },
  {
   "cell_type": "code",
   "execution_count": 4,
   "metadata": {},
   "outputs": [],
   "source": [
    "json_object = data.payload.values[0]"
   ]
  },
  {
   "cell_type": "code",
   "execution_count": 5,
   "metadata": {},
   "outputs": [
    {
     "data": {
      "text/plain": [
       "'{\"analytics\": {\"device\": \"Desktop\", \"email_open_rate_percent\": 14.0, \"referrer_channel\": \"Organic\", \"campaign\": \"au_nz_eofy\"}, \"industry\": \"Construction\", \"time_in_product_mins\": 62.45}'"
      ]
     },
     "execution_count": 5,
     "metadata": {},
     "output_type": "execute_result"
    }
   ],
   "source": [
    "json_object"
   ]
  },
  {
   "cell_type": "code",
   "execution_count": 6,
   "metadata": {},
   "outputs": [],
   "source": [
    "temp_dict = json.loads(json_object)"
   ]
  },
  {
   "cell_type": "code",
   "execution_count": 7,
   "metadata": {},
   "outputs": [
    {
     "data": {
      "text/plain": [
       "{'analytics': {'device': 'Desktop',\n",
       "  'email_open_rate_percent': 14.0,\n",
       "  'referrer_channel': 'Organic',\n",
       "  'campaign': 'au_nz_eofy'},\n",
       " 'industry': 'Construction',\n",
       " 'time_in_product_mins': 62.45}"
      ]
     },
     "execution_count": 7,
     "metadata": {},
     "output_type": "execute_result"
    }
   ],
   "source": [
    "temp_dict"
   ]
  },
  {
   "cell_type": "code",
   "execution_count": 8,
   "metadata": {},
   "outputs": [
    {
     "data": {
      "text/plain": [
       "['device', 'email_open_rate_percent', 'referrer_channel', 'campaign']"
      ]
     },
     "execution_count": 8,
     "metadata": {},
     "output_type": "execute_result"
    }
   ],
   "source": [
    "a = temp_dict['analytics']\n",
    "list(a)"
   ]
  },
  {
   "cell_type": "code",
   "execution_count": 9,
   "metadata": {},
   "outputs": [
    {
     "data": {
      "text/plain": [
       "{'device': 'Desktop',\n",
       " 'email_open_rate_percent': 14.0,\n",
       " 'referrer_channel': 'Organic',\n",
       " 'campaign': 'au_nz_eofy'}"
      ]
     },
     "execution_count": 9,
     "metadata": {},
     "output_type": "execute_result"
    }
   ],
   "source": [
    "a"
   ]
  },
  {
   "cell_type": "code",
   "execution_count": 10,
   "metadata": {},
   "outputs": [
    {
     "data": {
      "text/html": [
       "<div>\n",
       "<style scoped>\n",
       "    .dataframe tbody tr th:only-of-type {\n",
       "        vertical-align: middle;\n",
       "    }\n",
       "\n",
       "    .dataframe tbody tr th {\n",
       "        vertical-align: top;\n",
       "    }\n",
       "\n",
       "    .dataframe thead th {\n",
       "        text-align: right;\n",
       "    }\n",
       "</style>\n",
       "<table border=\"1\" class=\"dataframe\">\n",
       "  <thead>\n",
       "    <tr style=\"text-align: right;\">\n",
       "      <th></th>\n",
       "      <th>campaign</th>\n",
       "      <th>device</th>\n",
       "      <th>email_open_rate_percent</th>\n",
       "      <th>referrer_channel</th>\n",
       "    </tr>\n",
       "  </thead>\n",
       "  <tbody>\n",
       "    <tr>\n",
       "      <th>0</th>\n",
       "      <td>au_nz_eofy</td>\n",
       "      <td>Desktop</td>\n",
       "      <td>14.0</td>\n",
       "      <td>Organic</td>\n",
       "    </tr>\n",
       "  </tbody>\n",
       "</table>\n",
       "</div>"
      ],
      "text/plain": [
       "     campaign   device  email_open_rate_percent referrer_channel\n",
       "0  au_nz_eofy  Desktop                     14.0          Organic"
      ]
     },
     "execution_count": 10,
     "metadata": {},
     "output_type": "execute_result"
    }
   ],
   "source": [
    "pd.DataFrame([a])"
   ]
  },
  {
   "cell_type": "code",
   "execution_count": 48,
   "metadata": {},
   "outputs": [
    {
     "data": {
      "text/html": [
       "<div>\n",
       "<style scoped>\n",
       "    .dataframe tbody tr th:only-of-type {\n",
       "        vertical-align: middle;\n",
       "    }\n",
       "\n",
       "    .dataframe tbody tr th {\n",
       "        vertical-align: top;\n",
       "    }\n",
       "\n",
       "    .dataframe thead th {\n",
       "        text-align: right;\n",
       "    }\n",
       "</style>\n",
       "<table border=\"1\" class=\"dataframe\">\n",
       "  <thead>\n",
       "    <tr style=\"text-align: right;\">\n",
       "      <th></th>\n",
       "      <th>analytics</th>\n",
       "      <th>industry</th>\n",
       "      <th>time_in_product_mins</th>\n",
       "    </tr>\n",
       "  </thead>\n",
       "  <tbody>\n",
       "    <tr>\n",
       "      <th>0</th>\n",
       "      <td>{'device': 'Desktop', 'email_open_rate_percent...</td>\n",
       "      <td>Construction</td>\n",
       "      <td>62.45</td>\n",
       "    </tr>\n",
       "  </tbody>\n",
       "</table>\n",
       "</div>"
      ],
      "text/plain": [
       "                                           analytics      industry  \\\n",
       "0  {'device': 'Desktop', 'email_open_rate_percent...  Construction   \n",
       "\n",
       "   time_in_product_mins  \n",
       "0                 62.45  "
      ]
     },
     "execution_count": 48,
     "metadata": {},
     "output_type": "execute_result"
    }
   ],
   "source": [
    "pd.DataFrame([temp_dict])"
   ]
  },
  {
   "cell_type": "markdown",
   "metadata": {},
   "source": [
    "### Combining data"
   ]
  },
  {
   "cell_type": "code",
   "execution_count": null,
   "metadata": {},
   "outputs": [],
   "source": [
    "## for each row in payload, grab the analytic data and grab the industry and time in product  data"
   ]
  },
  {
   "cell_type": "code",
   "execution_count": 12,
   "metadata": {},
   "outputs": [],
   "source": [
    "payload = data.payload.values"
   ]
  },
  {
   "cell_type": "code",
   "execution_count": 14,
   "metadata": {},
   "outputs": [
    {
     "data": {
      "text/plain": [
       "(50000, 5)"
      ]
     },
     "execution_count": 14,
     "metadata": {},
     "output_type": "execute_result"
    }
   ],
   "source": [
    "data.shape"
   ]
  },
  {
   "cell_type": "code",
   "execution_count": 22,
   "metadata": {},
   "outputs": [],
   "source": [
    "devices = []\n",
    "email_open_rate_percents = []\n",
    "referrer_channels = []\n",
    "campaigns = []\n",
    "industries = []\n",
    "time_in_product_mins = []\n",
    "user_ids = []\n",
    "\n",
    "for i,item in enumerate(payload):\n",
    "    user_ids.append(data.user_id.values[i])\n",
    "    item_dict = json.loads(item)\n",
    "    analytics = item_dict['analytics']\n",
    "    \n",
    "    devices.append(analytics['device'])\n",
    "    email_open_rate_percents.append(analytics['email_open_rate_percent'])\n",
    "    referrer_channels.append(analytics['referrer_channel'])\n",
    "    campaigns.append(analytics['campaign'])\n",
    "    \n",
    "    industries.append(item_dict['industry'])\n",
    "    time_in_product_mins.append(item_dict['time_in_product_mins'])\n",
    "    \n",
    "    \n",
    "    \n",
    "    "
   ]
  },
  {
   "cell_type": "code",
   "execution_count": 30,
   "metadata": {},
   "outputs": [],
   "source": [
    "extracted_data = pd.DataFrame({'user_id': user_ids,\n",
    "                              'devices': devices,\n",
    "                              'email_open_rate': email_open_rate_percents,\n",
    "                              'referrer_channels': referrer_channels,\n",
    "                              'campaigns': campaigns,\n",
    "                              'industries': industries,\n",
    "                              'time_in_product_mins': time_in_product_mins})"
   ]
  },
  {
   "cell_type": "code",
   "execution_count": 32,
   "metadata": {},
   "outputs": [],
   "source": [
    "all_data = data.merge(extracted_data, how = 'left',on = 'user_id')"
   ]
  },
  {
   "cell_type": "code",
   "execution_count": 37,
   "metadata": {},
   "outputs": [],
   "source": [
    "all_data.drop(columns = ['payload'], inplace = True)"
   ]
  },
  {
   "cell_type": "code",
   "execution_count": 38,
   "metadata": {},
   "outputs": [
    {
     "data": {
      "text/html": [
       "<div>\n",
       "<style scoped>\n",
       "    .dataframe tbody tr th:only-of-type {\n",
       "        vertical-align: middle;\n",
       "    }\n",
       "\n",
       "    .dataframe tbody tr th {\n",
       "        vertical-align: top;\n",
       "    }\n",
       "\n",
       "    .dataframe thead th {\n",
       "        text-align: right;\n",
       "    }\n",
       "</style>\n",
       "<table border=\"1\" class=\"dataframe\">\n",
       "  <thead>\n",
       "    <tr style=\"text-align: right;\">\n",
       "      <th></th>\n",
       "      <th>user_id</th>\n",
       "      <th>event_date</th>\n",
       "      <th>country</th>\n",
       "      <th>subscribed</th>\n",
       "      <th>devices</th>\n",
       "      <th>email_open_rate</th>\n",
       "      <th>referrer_channels</th>\n",
       "      <th>campaigns</th>\n",
       "      <th>industries</th>\n",
       "      <th>time_in_product_mins</th>\n",
       "    </tr>\n",
       "  </thead>\n",
       "  <tbody>\n",
       "    <tr>\n",
       "      <th>0</th>\n",
       "      <td>e7a484c4-6a87-44b8-a4d4-87f0cba58f18</td>\n",
       "      <td>2017-07-23 04:46:53.433953</td>\n",
       "      <td>NZ</td>\n",
       "      <td>False</td>\n",
       "      <td>Desktop</td>\n",
       "      <td>14.0</td>\n",
       "      <td>Organic</td>\n",
       "      <td>au_nz_eofy</td>\n",
       "      <td>Construction</td>\n",
       "      <td>62.45</td>\n",
       "    </tr>\n",
       "    <tr>\n",
       "      <th>1</th>\n",
       "      <td>5c6d1410-6e36-4cf0-bef1-ffc150e3127b</td>\n",
       "      <td>2017-07-12 12:56:59.982910</td>\n",
       "      <td>NZ</td>\n",
       "      <td>False</td>\n",
       "      <td>Mobile</td>\n",
       "      <td>23.0</td>\n",
       "      <td>Direct</td>\n",
       "      <td>au_nz_mobile_product_launch</td>\n",
       "      <td>Education</td>\n",
       "      <td>19.35</td>\n",
       "    </tr>\n",
       "    <tr>\n",
       "      <th>2</th>\n",
       "      <td>71207879-645a-4e41-bd46-133ba26524bf</td>\n",
       "      <td>2017-07-21 16:51:50.866545</td>\n",
       "      <td>NZ</td>\n",
       "      <td>False</td>\n",
       "      <td>Mobile</td>\n",
       "      <td>97.0</td>\n",
       "      <td>Paid adversiting</td>\n",
       "      <td>au_nz_mobile_product_launch</td>\n",
       "      <td>Education</td>\n",
       "      <td>76.48</td>\n",
       "    </tr>\n",
       "    <tr>\n",
       "      <th>3</th>\n",
       "      <td>41219462-d4c1-4c94-ac21-7b7846298de5</td>\n",
       "      <td>2017-07-08 21:53:13.940203</td>\n",
       "      <td>NZ</td>\n",
       "      <td>False</td>\n",
       "      <td>Mobile</td>\n",
       "      <td>57.0</td>\n",
       "      <td>Paid adversiting</td>\n",
       "      <td>au_nz_mobile_product_launch</td>\n",
       "      <td>Construction</td>\n",
       "      <td>22.53</td>\n",
       "    </tr>\n",
       "    <tr>\n",
       "      <th>4</th>\n",
       "      <td>2eb9a1fe-58e4-4793-8e73-91595d52dacf</td>\n",
       "      <td>2017-08-09 14:23:23.109747</td>\n",
       "      <td>NZ</td>\n",
       "      <td>False</td>\n",
       "      <td>Mobile</td>\n",
       "      <td>83.0</td>\n",
       "      <td>Direct</td>\n",
       "      <td>au_nz_mobile_product_launch</td>\n",
       "      <td>Construction</td>\n",
       "      <td>24.50</td>\n",
       "    </tr>\n",
       "  </tbody>\n",
       "</table>\n",
       "</div>"
      ],
      "text/plain": [
       "                                user_id                  event_date country  \\\n",
       "0  e7a484c4-6a87-44b8-a4d4-87f0cba58f18  2017-07-23 04:46:53.433953      NZ   \n",
       "1  5c6d1410-6e36-4cf0-bef1-ffc150e3127b  2017-07-12 12:56:59.982910      NZ   \n",
       "2  71207879-645a-4e41-bd46-133ba26524bf  2017-07-21 16:51:50.866545      NZ   \n",
       "3  41219462-d4c1-4c94-ac21-7b7846298de5  2017-07-08 21:53:13.940203      NZ   \n",
       "4  2eb9a1fe-58e4-4793-8e73-91595d52dacf  2017-08-09 14:23:23.109747      NZ   \n",
       "\n",
       "   subscribed  devices  email_open_rate referrer_channels  \\\n",
       "0       False  Desktop             14.0           Organic   \n",
       "1       False   Mobile             23.0            Direct   \n",
       "2       False   Mobile             97.0  Paid adversiting   \n",
       "3       False   Mobile             57.0  Paid adversiting   \n",
       "4       False   Mobile             83.0            Direct   \n",
       "\n",
       "                     campaigns    industries  time_in_product_mins  \n",
       "0                   au_nz_eofy  Construction                 62.45  \n",
       "1  au_nz_mobile_product_launch     Education                 19.35  \n",
       "2  au_nz_mobile_product_launch     Education                 76.48  \n",
       "3  au_nz_mobile_product_launch  Construction                 22.53  \n",
       "4  au_nz_mobile_product_launch  Construction                 24.50  "
      ]
     },
     "execution_count": 38,
     "metadata": {},
     "output_type": "execute_result"
    }
   ],
   "source": [
    "all_data.head()"
   ]
  },
  {
   "cell_type": "code",
   "execution_count": 39,
   "metadata": {},
   "outputs": [],
   "source": [
    "all_data['date_time'] = pd.to_datetime(all_data['event_date'])"
   ]
  },
  {
   "cell_type": "markdown",
   "metadata": {},
   "source": [
    "### Checking data integrity"
   ]
  },
  {
   "cell_type": "code",
   "execution_count": 42,
   "metadata": {},
   "outputs": [
    {
     "data": {
      "text/html": [
       "<div>\n",
       "<style scoped>\n",
       "    .dataframe tbody tr th:only-of-type {\n",
       "        vertical-align: middle;\n",
       "    }\n",
       "\n",
       "    .dataframe tbody tr th {\n",
       "        vertical-align: top;\n",
       "    }\n",
       "\n",
       "    .dataframe thead th {\n",
       "        text-align: right;\n",
       "    }\n",
       "</style>\n",
       "<table border=\"1\" class=\"dataframe\">\n",
       "  <thead>\n",
       "    <tr style=\"text-align: right;\">\n",
       "      <th></th>\n",
       "      <th>user_id</th>\n",
       "      <th>event_date</th>\n",
       "      <th>country</th>\n",
       "      <th>subscribed</th>\n",
       "      <th>devices</th>\n",
       "      <th>email_open_rate</th>\n",
       "      <th>referrer_channels</th>\n",
       "      <th>campaigns</th>\n",
       "      <th>industries</th>\n",
       "      <th>time_in_product_mins</th>\n",
       "      <th>date_time</th>\n",
       "    </tr>\n",
       "  </thead>\n",
       "  <tbody>\n",
       "    <tr>\n",
       "      <th>0</th>\n",
       "      <td>e7a484c4-6a87-44b8-a4d4-87f0cba58f18</td>\n",
       "      <td>2017-07-23 04:46:53.433953</td>\n",
       "      <td>NZ</td>\n",
       "      <td>False</td>\n",
       "      <td>Desktop</td>\n",
       "      <td>14.0</td>\n",
       "      <td>Organic</td>\n",
       "      <td>au_nz_eofy</td>\n",
       "      <td>Construction</td>\n",
       "      <td>62.45</td>\n",
       "      <td>2017-07-23 04:46:53.433953</td>\n",
       "    </tr>\n",
       "    <tr>\n",
       "      <th>1</th>\n",
       "      <td>5c6d1410-6e36-4cf0-bef1-ffc150e3127b</td>\n",
       "      <td>2017-07-12 12:56:59.982910</td>\n",
       "      <td>NZ</td>\n",
       "      <td>False</td>\n",
       "      <td>Mobile</td>\n",
       "      <td>23.0</td>\n",
       "      <td>Direct</td>\n",
       "      <td>au_nz_mobile_product_launch</td>\n",
       "      <td>Education</td>\n",
       "      <td>19.35</td>\n",
       "      <td>2017-07-12 12:56:59.982910</td>\n",
       "    </tr>\n",
       "    <tr>\n",
       "      <th>2</th>\n",
       "      <td>71207879-645a-4e41-bd46-133ba26524bf</td>\n",
       "      <td>2017-07-21 16:51:50.866545</td>\n",
       "      <td>NZ</td>\n",
       "      <td>False</td>\n",
       "      <td>Mobile</td>\n",
       "      <td>97.0</td>\n",
       "      <td>Paid adversiting</td>\n",
       "      <td>au_nz_mobile_product_launch</td>\n",
       "      <td>Education</td>\n",
       "      <td>76.48</td>\n",
       "      <td>2017-07-21 16:51:50.866545</td>\n",
       "    </tr>\n",
       "    <tr>\n",
       "      <th>3</th>\n",
       "      <td>41219462-d4c1-4c94-ac21-7b7846298de5</td>\n",
       "      <td>2017-07-08 21:53:13.940203</td>\n",
       "      <td>NZ</td>\n",
       "      <td>False</td>\n",
       "      <td>Mobile</td>\n",
       "      <td>57.0</td>\n",
       "      <td>Paid adversiting</td>\n",
       "      <td>au_nz_mobile_product_launch</td>\n",
       "      <td>Construction</td>\n",
       "      <td>22.53</td>\n",
       "      <td>2017-07-08 21:53:13.940203</td>\n",
       "    </tr>\n",
       "    <tr>\n",
       "      <th>4</th>\n",
       "      <td>2eb9a1fe-58e4-4793-8e73-91595d52dacf</td>\n",
       "      <td>2017-08-09 14:23:23.109747</td>\n",
       "      <td>NZ</td>\n",
       "      <td>False</td>\n",
       "      <td>Mobile</td>\n",
       "      <td>83.0</td>\n",
       "      <td>Direct</td>\n",
       "      <td>au_nz_mobile_product_launch</td>\n",
       "      <td>Construction</td>\n",
       "      <td>24.50</td>\n",
       "      <td>2017-08-09 14:23:23.109747</td>\n",
       "    </tr>\n",
       "  </tbody>\n",
       "</table>\n",
       "</div>"
      ],
      "text/plain": [
       "                                user_id                  event_date country  \\\n",
       "0  e7a484c4-6a87-44b8-a4d4-87f0cba58f18  2017-07-23 04:46:53.433953      NZ   \n",
       "1  5c6d1410-6e36-4cf0-bef1-ffc150e3127b  2017-07-12 12:56:59.982910      NZ   \n",
       "2  71207879-645a-4e41-bd46-133ba26524bf  2017-07-21 16:51:50.866545      NZ   \n",
       "3  41219462-d4c1-4c94-ac21-7b7846298de5  2017-07-08 21:53:13.940203      NZ   \n",
       "4  2eb9a1fe-58e4-4793-8e73-91595d52dacf  2017-08-09 14:23:23.109747      NZ   \n",
       "\n",
       "   subscribed  devices  email_open_rate referrer_channels  \\\n",
       "0       False  Desktop             14.0           Organic   \n",
       "1       False   Mobile             23.0            Direct   \n",
       "2       False   Mobile             97.0  Paid adversiting   \n",
       "3       False   Mobile             57.0  Paid adversiting   \n",
       "4       False   Mobile             83.0            Direct   \n",
       "\n",
       "                     campaigns    industries  time_in_product_mins  \\\n",
       "0                   au_nz_eofy  Construction                 62.45   \n",
       "1  au_nz_mobile_product_launch     Education                 19.35   \n",
       "2  au_nz_mobile_product_launch     Education                 76.48   \n",
       "3  au_nz_mobile_product_launch  Construction                 22.53   \n",
       "4  au_nz_mobile_product_launch  Construction                 24.50   \n",
       "\n",
       "                   date_time  \n",
       "0 2017-07-23 04:46:53.433953  \n",
       "1 2017-07-12 12:56:59.982910  \n",
       "2 2017-07-21 16:51:50.866545  \n",
       "3 2017-07-08 21:53:13.940203  \n",
       "4 2017-08-09 14:23:23.109747  "
      ]
     },
     "execution_count": 42,
     "metadata": {},
     "output_type": "execute_result"
    }
   ],
   "source": [
    "all_data.head()"
   ]
  },
  {
   "cell_type": "code",
   "execution_count": 46,
   "metadata": {},
   "outputs": [
    {
     "data": {
      "text/plain": [
       "(50000, 11)"
      ]
     },
     "execution_count": 46,
     "metadata": {},
     "output_type": "execute_result"
    }
   ],
   "source": [
    "all_data.shape"
   ]
  },
  {
   "cell_type": "code",
   "execution_count": 51,
   "metadata": {},
   "outputs": [
    {
     "data": {
      "text/plain": [
       "user_id                    0\n",
       "event_date                 0\n",
       "country                    0\n",
       "subscribed                 0\n",
       "devices                    0\n",
       "email_open_rate            0\n",
       "referrer_channels       5028\n",
       "campaigns                  0\n",
       "industries                 0\n",
       "time_in_product_mins       0\n",
       "date_time                  0\n",
       "dtype: int64"
      ]
     },
     "execution_count": 51,
     "metadata": {},
     "output_type": "execute_result"
    }
   ],
   "source": [
    "## check for any missing values\n",
    "all_data.isnull().sum()"
   ]
  },
  {
   "cell_type": "markdown",
   "metadata": {},
   "source": [
    "#### Note:\n",
    "About 10% of the referrer_channel is missing. For now, these missing value are given a string value of 'none'. Will use this as an extra category for referrer channel for now. "
   ]
  },
  {
   "cell_type": "code",
   "execution_count": 53,
   "metadata": {},
   "outputs": [
    {
     "data": {
      "text/plain": [
       "array(['Organic', 'Direct', 'Paid adversiting', None], dtype=object)"
      ]
     },
     "execution_count": 53,
     "metadata": {},
     "output_type": "execute_result"
    }
   ],
   "source": [
    "all_data['referrer_channels'].unique()"
   ]
  },
  {
   "cell_type": "code",
   "execution_count": 57,
   "metadata": {},
   "outputs": [],
   "source": [
    "all_data['referrer_channels'].fillna('None', inplace = True)"
   ]
  },
  {
   "cell_type": "code",
   "execution_count": 60,
   "metadata": {},
   "outputs": [
    {
     "data": {
      "text/plain": [
       "user_id                 0\n",
       "event_date              0\n",
       "country                 0\n",
       "subscribed              0\n",
       "devices                 0\n",
       "email_open_rate         0\n",
       "referrer_channels       0\n",
       "campaigns               0\n",
       "industries              0\n",
       "time_in_product_mins    0\n",
       "date_time               0\n",
       "dtype: int64"
      ]
     },
     "execution_count": 60,
     "metadata": {},
     "output_type": "execute_result"
    }
   ],
   "source": [
    "all_data.isnull().sum()"
   ]
  },
  {
   "cell_type": "code",
   "execution_count": 73,
   "metadata": {},
   "outputs": [],
   "source": [
    "def getYear(value):\n",
    "    return value.year\n",
    "\n",
    "def getMonth(value):\n",
    "    return value.month"
   ]
  },
  {
   "cell_type": "code",
   "execution_count": 75,
   "metadata": {},
   "outputs": [],
   "source": [
    "all_data['year'] = all_data['date_time'].apply(getYear)"
   ]
  },
  {
   "cell_type": "code",
   "execution_count": 76,
   "metadata": {},
   "outputs": [],
   "source": [
    "all_data['month'] = all_data['date_time'].apply(getMonth)"
   ]
  },
  {
   "cell_type": "markdown",
   "metadata": {},
   "source": [
    "### EDA"
   ]
  },
  {
   "cell_type": "code",
   "execution_count": 62,
   "metadata": {},
   "outputs": [],
   "source": [
    "from sklearn.preprocessing import LabelEncoder"
   ]
  },
  {
   "cell_type": "code",
   "execution_count": 63,
   "metadata": {},
   "outputs": [],
   "source": [
    "le = LabelEncoder()\n",
    "all_data['target'] = le.fit_transform(all_data['subscribed'])"
   ]
  },
  {
   "cell_type": "code",
   "execution_count": 68,
   "metadata": {},
   "outputs": [
    {
     "data": {
      "text/plain": [
       "(14827,)"
      ]
     },
     "execution_count": 68,
     "metadata": {},
     "output_type": "execute_result"
    }
   ],
   "source": [
    "all_data['target'][all_data['target'] == 1].shape"
   ]
  },
  {
   "cell_type": "code",
   "execution_count": 70,
   "metadata": {},
   "outputs": [
    {
     "data": {
      "text/plain": [
       "(35173,)"
      ]
     },
     "execution_count": 70,
     "metadata": {},
     "output_type": "execute_result"
    }
   ],
   "source": [
    "all_data['target'][all_data['target'] == 0].shape"
   ]
  },
  {
   "cell_type": "markdown",
   "metadata": {},
   "source": [
    "Note: class is inbalanced, will resample the smaller class later on"
   ]
  },
  {
   "cell_type": "code",
   "execution_count": 71,
   "metadata": {},
   "outputs": [],
   "source": [
    "from cLiML.eda import edaCategorical"
   ]
  },
  {
   "cell_type": "code",
   "execution_count": 77,
   "metadata": {},
   "outputs": [
    {
     "data": {
      "text/plain": [
       "user_id                         object\n",
       "event_date                      object\n",
       "country                         object\n",
       "subscribed                        bool\n",
       "devices                         object\n",
       "email_open_rate                float64\n",
       "referrer_channels               object\n",
       "campaigns                       object\n",
       "industries                      object\n",
       "time_in_product_mins           float64\n",
       "date_time               datetime64[ns]\n",
       "target                           int64\n",
       "year                             int64\n",
       "month                            int64\n",
       "dtype: object"
      ]
     },
     "execution_count": 77,
     "metadata": {},
     "output_type": "execute_result"
    }
   ],
   "source": [
    "all_data.dtypes"
   ]
  },
  {
   "cell_type": "code",
   "execution_count": 85,
   "metadata": {},
   "outputs": [
    {
     "data": {
      "image/png": "[encoded data removed]",
      "text/plain": [
       "<Figure size 1152x2304 with 8 Axes>"
      ]
     },
     "metadata": {},
     "output_type": "display_data"
    }
   ],
   "source": [
    "edaCategorical(all_data[['country','devices','referrer_channels','campaigns','industries','year','month','target']], target = 'target', aggre='mean')"
   ]
  },
  {
   "cell_type": "code",
   "execution_count": 86,
   "metadata": {},
   "outputs": [],
   "source": [
    "from cLiML import eda"
   ]
  },
  {
   "cell_type": "code",
   "execution_count": 88,
   "metadata": {},
   "outputs": [
    {
     "data": {
      "image/png": "[encoded data removed]",
      "text/plain": [
       "<Figure size 1152x1152 with 4 Axes>"
      ]
     },
     "metadata": {},
     "output_type": "display_data"
    }
   ],
   "source": [
    "eda.edaContinuous(all_data, 'target', max_y_axis= 1.1)"
   ]
  },
  {
   "cell_type": "markdown",
   "metadata": {},
   "source": [
    "### Oversample"
   ]
  },
  {
   "cell_type": "code",
   "execution_count": 93,
   "metadata": {},
   "outputs": [
    {
     "data": {
      "text/plain": [
       "user_id                         object\n",
       "event_date                      object\n",
       "country                         object\n",
       "subscribed                        bool\n",
       "devices                         object\n",
       "email_open_rate                float64\n",
       "referrer_channels               object\n",
       "campaigns                       object\n",
       "industries                      object\n",
       "time_in_product_mins           float64\n",
       "date_time               datetime64[ns]\n",
       "target                           int64\n",
       "year                             int64\n",
       "month                            int64\n",
       "dtype: object"
      ]
     },
     "execution_count": 93,
     "metadata": {},
     "output_type": "execute_result"
    }
   ],
   "source": [
    "all_data.dtypes"
   ]
  },
  {
   "cell_type": "code",
   "execution_count": 94,
   "metadata": {},
   "outputs": [],
   "source": [
    "X = all_data[['country','devices','email_open_rate','referrer_channels', 'campaigns', 'industries','time_in_product_mins','year','month']]"
   ]
  },
  {
   "cell_type": "code",
   "execution_count": 95,
   "metadata": {},
   "outputs": [],
   "source": [
    "y = all_data['target']"
   ]
  },
  {
   "cell_type": "code",
   "execution_count": 98,
   "metadata": {},
   "outputs": [],
   "source": [
    "dummy_variables = ['country','devices','referrer_channels', 'campaigns', 'industries','year','month']"
   ]
  },
  {
   "cell_type": "code",
   "execution_count": 101,
   "metadata": {},
   "outputs": [],
   "source": [
    "from sklearn.model_selection import train_test_split"
   ]
  },
  {
   "cell_type": "code",
   "execution_count": null,
   "metadata": {},
   "outputs": [],
   "source": [
    "Xtrain, Xtest, ytrain, ytest = train_test_split(X,y, test_size = 0.3, )"
   ]
  },
  {
   "cell_type": "code",
   "execution_count": null,
   "metadata": {},
   "outputs": [],
   "source": []
  },
  {
   "cell_type": "code",
   "execution_count": null,
   "metadata": {},
   "outputs": [],
   "source": []
  },
  {
   "cell_type": "code",
   "execution_count": null,
   "metadata": {},
   "outputs": [],
   "source": []
  }
 ],
 "metadata": {
  "kernelspec": {
   "display_name": "Python 3",
   "language": "python",
   "name": "python3"
  },
  "language_info": {
   "codemirror_mode": {
    "name": "ipython",
    "version": 3
   },
   "file_extension": ".py",
   "mimetype": "text/x-python",
   "name": "python",
   "nbconvert_exporter": "python",
   "pygments_lexer": "ipython3",
   "version": "3.6.5"
  }
 },
 "nbformat": 4,
 "nbformat_minor": 2
}
