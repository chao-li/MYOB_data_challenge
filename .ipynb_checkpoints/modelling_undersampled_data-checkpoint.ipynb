{
 "cells": [
  {
   "cell_type": "code",
   "execution_count": 1,
   "metadata": {},
   "outputs": [],
   "source": [
    "import numpy as np\n",
    "import pandas as pd\n",
    "import seaborn as sns\n",
    "import matplotlib.pyplot as plt\n",
    "%matplotlib inline\n",
    "%config InlineBackend.figure_format = 'retina'"
   ]
  },
  {
   "cell_type": "markdown",
   "metadata": {},
   "source": [
    "### Loading data"
   ]
  },
  {
   "cell_type": "code",
   "execution_count": 2,
   "metadata": {},
   "outputs": [],
   "source": [
    "X_train = pd.read_csv('./oversampled_data/X_train.csv')\n",
    "X_test = pd.read_csv('./oversampled_data/X_test.csv')\n",
    "y_train = pd.read_csv('./oversampled_data/y_train.csv',header = None)\n",
    "y_test = pd.read_csv('./oversampled_data/y_test.csv',header = None)"
   ]
  },
  {
   "cell_type": "code",
   "execution_count": 3,
   "metadata": {},
   "outputs": [
    {
     "data": {
      "text/plain": [
       "(49242, 15)"
      ]
     },
     "execution_count": 3,
     "metadata": {},
     "output_type": "execute_result"
    }
   ],
   "source": [
    "X_train.shape"
   ]
  },
  {
   "cell_type": "code",
   "execution_count": 4,
   "metadata": {},
   "outputs": [
    {
     "data": {
      "text/plain": [
       "(49242, 2)"
      ]
     },
     "execution_count": 4,
     "metadata": {},
     "output_type": "execute_result"
    }
   ],
   "source": [
    "y_train.shape"
   ]
  },
  {
   "cell_type": "code",
   "execution_count": 5,
   "metadata": {},
   "outputs": [],
   "source": [
    "X_train.drop(columns = ['Unnamed: 0'], inplace = True)\n",
    "X_test.drop(columns = ['Unnamed: 0'], inplace = True)"
   ]
  },
  {
   "cell_type": "code",
   "execution_count": 6,
   "metadata": {},
   "outputs": [],
   "source": [
    "y_train.drop(columns = [y_train.columns.values.tolist()[0]], inplace = True)\n",
    "y_test.drop(columns = [y_test.columns.values.tolist()[0]], inplace = True)"
   ]
  },
  {
   "cell_type": "code",
   "execution_count": 7,
   "metadata": {},
   "outputs": [],
   "source": [
    "y_train.columns = ['subscribed']\n",
    "y_test.columns = ['subscribed']"
   ]
  },
  {
   "cell_type": "code",
   "execution_count": 8,
   "metadata": {},
   "outputs": [
    {
     "data": {
      "text/plain": [
       "(49242, 14)"
      ]
     },
     "execution_count": 8,
     "metadata": {},
     "output_type": "execute_result"
    }
   ],
   "source": [
    "X_train.shape"
   ]
  },
  {
   "cell_type": "code",
   "execution_count": 9,
   "metadata": {},
   "outputs": [],
   "source": [
    "y_train = y_train['subscribed']"
   ]
  },
  {
   "cell_type": "markdown",
   "metadata": {},
   "source": [
    "### Feature Selection"
   ]
  },
  {
   "cell_type": "code",
   "execution_count": 10,
   "metadata": {},
   "outputs": [],
   "source": [
    "from cLiML.model_prep import feature_select_logistic_reg"
   ]
  },
  {
   "cell_type": "code",
   "execution_count": 11,
   "metadata": {},
   "outputs": [],
   "source": [
    "df_feature = feature_select_logistic_reg(X_train, y_train, cv = 5)"
   ]
  },
  {
   "cell_type": "code",
   "execution_count": 12,
   "metadata": {},
   "outputs": [
    {
     "data": {
      "text/html": [
       "<div>\n",
       "<style scoped>\n",
       "    .dataframe tbody tr th:only-of-type {\n",
       "        vertical-align: middle;\n",
       "    }\n",
       "\n",
       "    .dataframe tbody tr th {\n",
       "        vertical-align: top;\n",
       "    }\n",
       "\n",
       "    .dataframe thead th {\n",
       "        text-align: right;\n",
       "    }\n",
       "</style>\n",
       "<table border=\"1\" class=\"dataframe\">\n",
       "  <thead>\n",
       "    <tr style=\"text-align: right;\">\n",
       "      <th></th>\n",
       "      <th>variable_RFECV</th>\n",
       "      <th>support</th>\n",
       "      <th>ranking</th>\n",
       "      <th>variable_skb</th>\n",
       "      <th>score</th>\n",
       "    </tr>\n",
       "  </thead>\n",
       "  <tbody>\n",
       "    <tr>\n",
       "      <th>0</th>\n",
       "      <td>email_open_rate</td>\n",
       "      <td>True</td>\n",
       "      <td>1</td>\n",
       "      <td>time_in_product_mins</td>\n",
       "      <td>1175.251042</td>\n",
       "    </tr>\n",
       "    <tr>\n",
       "      <th>1</th>\n",
       "      <td>time_in_product_mins</td>\n",
       "      <td>True</td>\n",
       "      <td>1</td>\n",
       "      <td>referrer_channels_Direct</td>\n",
       "      <td>557.035790</td>\n",
       "    </tr>\n",
       "    <tr>\n",
       "      <th>2</th>\n",
       "      <td>country_AU</td>\n",
       "      <td>True</td>\n",
       "      <td>1</td>\n",
       "      <td>devices_Desktop</td>\n",
       "      <td>377.505467</td>\n",
       "    </tr>\n",
       "    <tr>\n",
       "      <th>3</th>\n",
       "      <td>devices_Desktop</td>\n",
       "      <td>True</td>\n",
       "      <td>1</td>\n",
       "      <td>campaigns_au_nz_mobile_product_launch</td>\n",
       "      <td>291.852953</td>\n",
       "    </tr>\n",
       "    <tr>\n",
       "      <th>4</th>\n",
       "      <td>referrer_channels_Direct</td>\n",
       "      <td>True</td>\n",
       "      <td>1</td>\n",
       "      <td>referrer_channels_Organic</td>\n",
       "      <td>171.701061</td>\n",
       "    </tr>\n",
       "    <tr>\n",
       "      <th>5</th>\n",
       "      <td>referrer_channels_None</td>\n",
       "      <td>True</td>\n",
       "      <td>1</td>\n",
       "      <td>campaigns_au_nz_eofy</td>\n",
       "      <td>110.853816</td>\n",
       "    </tr>\n",
       "    <tr>\n",
       "      <th>6</th>\n",
       "      <td>referrer_channels_Organic</td>\n",
       "      <td>True</td>\n",
       "      <td>1</td>\n",
       "      <td>referrer_channels_None</td>\n",
       "      <td>6.116821</td>\n",
       "    </tr>\n",
       "    <tr>\n",
       "      <th>7</th>\n",
       "      <td>campaigns_au_nz_eofy</td>\n",
       "      <td>True</td>\n",
       "      <td>1</td>\n",
       "      <td>industries_Construction</td>\n",
       "      <td>2.492286</td>\n",
       "    </tr>\n",
       "    <tr>\n",
       "      <th>8</th>\n",
       "      <td>campaigns_au_nz_mobile_product_launch</td>\n",
       "      <td>True</td>\n",
       "      <td>1</td>\n",
       "      <td>industries_Healthcare</td>\n",
       "      <td>2.400590</td>\n",
       "    </tr>\n",
       "    <tr>\n",
       "      <th>9</th>\n",
       "      <td>industries_Construction</td>\n",
       "      <td>True</td>\n",
       "      <td>1</td>\n",
       "      <td>industries_Education</td>\n",
       "      <td>1.738473</td>\n",
       "    </tr>\n",
       "    <tr>\n",
       "      <th>10</th>\n",
       "      <td>industries_Education</td>\n",
       "      <td>True</td>\n",
       "      <td>1</td>\n",
       "      <td>industries_Hospitality</td>\n",
       "      <td>1.540333</td>\n",
       "    </tr>\n",
       "    <tr>\n",
       "      <th>11</th>\n",
       "      <td>industries_Finance</td>\n",
       "      <td>True</td>\n",
       "      <td>1</td>\n",
       "      <td>country_AU</td>\n",
       "      <td>1.331537</td>\n",
       "    </tr>\n",
       "    <tr>\n",
       "      <th>12</th>\n",
       "      <td>industries_Healthcare</td>\n",
       "      <td>True</td>\n",
       "      <td>1</td>\n",
       "      <td>email_open_rate</td>\n",
       "      <td>0.546980</td>\n",
       "    </tr>\n",
       "    <tr>\n",
       "      <th>13</th>\n",
       "      <td>industries_Hospitality</td>\n",
       "      <td>True</td>\n",
       "      <td>1</td>\n",
       "      <td>industries_Finance</td>\n",
       "      <td>0.000994</td>\n",
       "    </tr>\n",
       "  </tbody>\n",
       "</table>\n",
       "</div>"
      ],
      "text/plain": [
       "                           variable_RFECV  support  ranking  \\\n",
       "0                         email_open_rate     True        1   \n",
       "1                    time_in_product_mins     True        1   \n",
       "2                              country_AU     True        1   \n",
       "3                         devices_Desktop     True        1   \n",
       "4                referrer_channels_Direct     True        1   \n",
       "5                  referrer_channels_None     True        1   \n",
       "6               referrer_channels_Organic     True        1   \n",
       "7                    campaigns_au_nz_eofy     True        1   \n",
       "8   campaigns_au_nz_mobile_product_launch     True        1   \n",
       "9                 industries_Construction     True        1   \n",
       "10                   industries_Education     True        1   \n",
       "11                     industries_Finance     True        1   \n",
       "12                  industries_Healthcare     True        1   \n",
       "13                 industries_Hospitality     True        1   \n",
       "\n",
       "                             variable_skb        score  \n",
       "0                    time_in_product_mins  1175.251042  \n",
       "1                referrer_channels_Direct   557.035790  \n",
       "2                         devices_Desktop   377.505467  \n",
       "3   campaigns_au_nz_mobile_product_launch   291.852953  \n",
       "4               referrer_channels_Organic   171.701061  \n",
       "5                    campaigns_au_nz_eofy   110.853816  \n",
       "6                  referrer_channels_None     6.116821  \n",
       "7                 industries_Construction     2.492286  \n",
       "8                   industries_Healthcare     2.400590  \n",
       "9                    industries_Education     1.738473  \n",
       "10                 industries_Hospitality     1.540333  \n",
       "11                             country_AU     1.331537  \n",
       "12                        email_open_rate     0.546980  \n",
       "13                     industries_Finance     0.000994  "
      ]
     },
     "execution_count": 12,
     "metadata": {},
     "output_type": "execute_result"
    }
   ],
   "source": [
    "df_feature"
   ]
  },
  {
   "cell_type": "markdown",
   "metadata": {},
   "source": [
    "### Logistic Regression"
   ]
  },
  {
   "cell_type": "code",
   "execution_count": 13,
   "metadata": {},
   "outputs": [],
   "source": [
    "from sklearn.linear_model import LogisticRegression"
   ]
  },
  {
   "cell_type": "code",
   "execution_count": 14,
   "metadata": {},
   "outputs": [
    {
     "data": {
      "text/plain": [
       "0.5894764631818367"
      ]
     },
     "execution_count": 14,
     "metadata": {},
     "output_type": "execute_result"
    }
   ],
   "source": [
    "lr = LogisticRegression()\n",
    "lr.fit(X_train, y_train)\n",
    "lr.score(X_train, y_train)"
   ]
  },
  {
   "cell_type": "code",
   "execution_count": 15,
   "metadata": {},
   "outputs": [
    {
     "data": {
      "text/plain": [
       "0.5860974222896134"
      ]
     },
     "execution_count": 15,
     "metadata": {},
     "output_type": "execute_result"
    }
   ],
   "source": [
    "lr.score(X_test, y_test)"
   ]
  },
  {
   "cell_type": "code",
   "execution_count": 16,
   "metadata": {},
   "outputs": [],
   "source": [
    "lr_coef_df = pd.DataFrame({'Variables': X_train.columns.tolist(),\n",
    "                          'Coefficients': lr.coef_[0].tolist(),\n",
    "                          'Abs_Coefs': abs(lr.coef_[0])})"
   ]
  },
  {
   "cell_type": "code",
   "execution_count": 17,
   "metadata": {},
   "outputs": [
    {
     "data": {
      "text/html": [
       "<div>\n",
       "<style scoped>\n",
       "    .dataframe tbody tr th:only-of-type {\n",
       "        vertical-align: middle;\n",
       "    }\n",
       "\n",
       "    .dataframe tbody tr th {\n",
       "        vertical-align: top;\n",
       "    }\n",
       "\n",
       "    .dataframe thead th {\n",
       "        text-align: right;\n",
       "    }\n",
       "</style>\n",
       "<table border=\"1\" class=\"dataframe\">\n",
       "  <thead>\n",
       "    <tr style=\"text-align: right;\">\n",
       "      <th></th>\n",
       "      <th>Variables</th>\n",
       "      <th>Coefficients</th>\n",
       "      <th>Abs_Coefs</th>\n",
       "    </tr>\n",
       "  </thead>\n",
       "  <tbody>\n",
       "    <tr>\n",
       "      <th>4</th>\n",
       "      <td>referrer_channels_Direct</td>\n",
       "      <td>0.490973</td>\n",
       "      <td>0.490973</td>\n",
       "    </tr>\n",
       "    <tr>\n",
       "      <th>3</th>\n",
       "      <td>devices_Desktop</td>\n",
       "      <td>0.345014</td>\n",
       "      <td>0.345014</td>\n",
       "    </tr>\n",
       "    <tr>\n",
       "      <th>5</th>\n",
       "      <td>referrer_channels_None</td>\n",
       "      <td>0.221744</td>\n",
       "      <td>0.221744</td>\n",
       "    </tr>\n",
       "    <tr>\n",
       "      <th>9</th>\n",
       "      <td>industries_Construction</td>\n",
       "      <td>-0.054024</td>\n",
       "      <td>0.054024</td>\n",
       "    </tr>\n",
       "    <tr>\n",
       "      <th>12</th>\n",
       "      <td>industries_Healthcare</td>\n",
       "      <td>-0.049979</td>\n",
       "      <td>0.049979</td>\n",
       "    </tr>\n",
       "    <tr>\n",
       "      <th>6</th>\n",
       "      <td>referrer_channels_Organic</td>\n",
       "      <td>-0.048651</td>\n",
       "      <td>0.048651</td>\n",
       "    </tr>\n",
       "    <tr>\n",
       "      <th>7</th>\n",
       "      <td>campaigns_au_nz_eofy</td>\n",
       "      <td>0.040257</td>\n",
       "      <td>0.040257</td>\n",
       "    </tr>\n",
       "    <tr>\n",
       "      <th>11</th>\n",
       "      <td>industries_Finance</td>\n",
       "      <td>-0.029981</td>\n",
       "      <td>0.029981</td>\n",
       "    </tr>\n",
       "    <tr>\n",
       "      <th>2</th>\n",
       "      <td>country_AU</td>\n",
       "      <td>-0.029053</td>\n",
       "      <td>0.029053</td>\n",
       "    </tr>\n",
       "    <tr>\n",
       "      <th>1</th>\n",
       "      <td>time_in_product_mins</td>\n",
       "      <td>0.013065</td>\n",
       "      <td>0.013065</td>\n",
       "    </tr>\n",
       "    <tr>\n",
       "      <th>8</th>\n",
       "      <td>campaigns_au_nz_mobile_product_launch</td>\n",
       "      <td>-0.004002</td>\n",
       "      <td>0.004002</td>\n",
       "    </tr>\n",
       "    <tr>\n",
       "      <th>10</th>\n",
       "      <td>industries_Education</td>\n",
       "      <td>0.002076</td>\n",
       "      <td>0.002076</td>\n",
       "    </tr>\n",
       "    <tr>\n",
       "      <th>13</th>\n",
       "      <td>industries_Hospitality</td>\n",
       "      <td>0.001243</td>\n",
       "      <td>0.001243</td>\n",
       "    </tr>\n",
       "    <tr>\n",
       "      <th>0</th>\n",
       "      <td>email_open_rate</td>\n",
       "      <td>-0.000211</td>\n",
       "      <td>0.000211</td>\n",
       "    </tr>\n",
       "  </tbody>\n",
       "</table>\n",
       "</div>"
      ],
      "text/plain": [
       "                                Variables  Coefficients  Abs_Coefs\n",
       "4                referrer_channels_Direct      0.490973   0.490973\n",
       "3                         devices_Desktop      0.345014   0.345014\n",
       "5                  referrer_channels_None      0.221744   0.221744\n",
       "9                 industries_Construction     -0.054024   0.054024\n",
       "12                  industries_Healthcare     -0.049979   0.049979\n",
       "6               referrer_channels_Organic     -0.048651   0.048651\n",
       "7                    campaigns_au_nz_eofy      0.040257   0.040257\n",
       "11                     industries_Finance     -0.029981   0.029981\n",
       "2                              country_AU     -0.029053   0.029053\n",
       "1                    time_in_product_mins      0.013065   0.013065\n",
       "8   campaigns_au_nz_mobile_product_launch     -0.004002   0.004002\n",
       "10                   industries_Education      0.002076   0.002076\n",
       "13                 industries_Hospitality      0.001243   0.001243\n",
       "0                         email_open_rate     -0.000211   0.000211"
      ]
     },
     "execution_count": 17,
     "metadata": {},
     "output_type": "execute_result"
    }
   ],
   "source": [
    "lr_coef_df.sort_values('Abs_Coefs', ascending = False)"
   ]
  },
  {
   "cell_type": "markdown",
   "metadata": {},
   "source": [
    "As can be seen here, the referral type of \"Direct\" and device type of \"Desktop\" are the highest indicator of the user will subscribe to the service."
   ]
  },
  {
   "cell_type": "code",
   "execution_count": 18,
   "metadata": {},
   "outputs": [
    {
     "name": "stdout",
     "output_type": "stream",
     "text": [
      "[0.59236703 0.58834281 0.58915516 0.59199838 0.57676686 0.59199838\n",
      " 0.60113729 0.57250203 0.59138911 0.59260764]\n",
      "0.588826467626642\n"
     ]
    }
   ],
   "source": [
    "from sklearn.model_selection import cross_val_score\n",
    "LR = LogisticRegression()\n",
    "cv_scores = cross_val_score(LR, X_train, y_train, cv = 10)\n",
    "print(cv_scores)\n",
    "print(cv_scores.mean())"
   ]
  },
  {
   "cell_type": "markdown",
   "metadata": {},
   "source": [
    "Cross validation is just conducted to ensure that result obtained from the train test split is represetative. For smaller data sets, the splitting of data set may be biased, causing the model accuracy to fluctuate wildly depending on how the data set were cut. This problem doesn't usually occur for data set of signifcant size."
   ]
  },
  {
   "cell_type": "markdown",
   "metadata": {},
   "source": [
    "### Random Forest"
   ]
  },
  {
   "cell_type": "code",
   "execution_count": 19,
   "metadata": {},
   "outputs": [
    {
     "name": "stderr",
     "output_type": "stream",
     "text": [
      "/anaconda3/lib/python3.6/site-packages/sklearn/ensemble/weight_boosting.py:29: DeprecationWarning: numpy.core.umath_tests is an internal NumPy module and should not be imported. It will be removed in a future NumPy release.\n",
      "  from numpy.core.umath_tests import inner1d\n"
     ]
    }
   ],
   "source": [
    "from sklearn.ensemble import RandomForestClassifier"
   ]
  },
  {
   "cell_type": "code",
   "execution_count": 20,
   "metadata": {},
   "outputs": [
    {
     "data": {
      "text/plain": [
       "RandomForestClassifier(bootstrap=True, class_weight=None, criterion='gini',\n",
       "            max_depth=None, max_features='auto', max_leaf_nodes=None,\n",
       "            min_impurity_decrease=0.0, min_impurity_split=None,\n",
       "            min_samples_leaf=1, min_samples_split=2,\n",
       "            min_weight_fraction_leaf=0.0, n_estimators=10, n_jobs=1,\n",
       "            oob_score=False, random_state=None, verbose=0,\n",
       "            warm_start=False)"
      ]
     },
     "execution_count": 20,
     "metadata": {},
     "output_type": "execute_result"
    }
   ],
   "source": [
    "rfc = RandomForestClassifier()\n",
    "rfc.fit(X_train, y_train)\n"
   ]
  },
  {
   "cell_type": "code",
   "execution_count": 21,
   "metadata": {},
   "outputs": [
    {
     "data": {
      "text/plain": [
       "0.9914706957475325"
      ]
     },
     "execution_count": 21,
     "metadata": {},
     "output_type": "execute_result"
    }
   ],
   "source": [
    "rfc.score(X_train, y_train)"
   ]
  },
  {
   "cell_type": "code",
   "execution_count": 22,
   "metadata": {},
   "outputs": [
    {
     "data": {
      "text/plain": [
       "0.5300416982562547"
      ]
     },
     "execution_count": 22,
     "metadata": {},
     "output_type": "execute_result"
    }
   ],
   "source": [
    "rfc.score(X_test, y_test)"
   ]
  },
  {
   "cell_type": "markdown",
   "metadata": {},
   "source": [
    "### Random Forest Grid Search"
   ]
  },
  {
   "cell_type": "code",
   "execution_count": 23,
   "metadata": {},
   "outputs": [],
   "source": [
    "from sklearn.model_selection import GridSearchCV"
   ]
  },
  {
   "cell_type": "code",
   "execution_count": 24,
   "metadata": {},
   "outputs": [
    {
     "data": {
      "text/plain": [
       "GridSearchCV(cv=10, error_score='raise',\n",
       "       estimator=RandomForestClassifier(bootstrap=True, class_weight=None, criterion='gini',\n",
       "            max_depth=None, max_features='auto', max_leaf_nodes=None,\n",
       "            min_impurity_decrease=0.0, min_impurity_split=None,\n",
       "            min_samples_leaf=1, min_samples_split=2,\n",
       "            min_weight_fraction_leaf=0.0, n_estimators=10, n_jobs=1,\n",
       "            oob_score=False, random_state=None, verbose=0,\n",
       "            warm_start=False),\n",
       "       fit_params=None, iid=True, n_jobs=-1,\n",
       "       param_grid={'max_depth': [1, 5, 10, 14], 'max_features': [1, 5, 10, 14]},\n",
       "       pre_dispatch='2*n_jobs', refit=True, return_train_score='warn',\n",
       "       scoring=None, verbose=0)"
      ]
     },
     "execution_count": 24,
     "metadata": {},
     "output_type": "execute_result"
    }
   ],
   "source": [
    "params = {'max_depth': [1,5,10,14],\n",
    "         'max_features': [1,5,10,14]}\n",
    "\n",
    "rfct = RandomForestClassifier()\n",
    "rfct_gs = GridSearchCV(rfct, params, n_jobs = -1, cv = 10)\n",
    "rfct_gs.fit(X_train, y_train)"
   ]
  },
  {
   "cell_type": "code",
   "execution_count": 25,
   "metadata": {},
   "outputs": [
    {
     "data": {
      "text/plain": [
       "{'max_depth': 14, 'max_features': 1}"
      ]
     },
     "execution_count": 25,
     "metadata": {},
     "output_type": "execute_result"
    }
   ],
   "source": [
    "rfct_gs.best_params_"
   ]
  },
  {
   "cell_type": "code",
   "execution_count": 26,
   "metadata": {},
   "outputs": [
    {
     "data": {
      "text/plain": [
       "0.8250071077535437"
      ]
     },
     "execution_count": 26,
     "metadata": {},
     "output_type": "execute_result"
    }
   ],
   "source": [
    "rfct_gs.score(X_train, y_train)"
   ]
  },
  {
   "cell_type": "code",
   "execution_count": 27,
   "metadata": {},
   "outputs": [
    {
     "data": {
      "text/plain": [
       "0.5543972706595905"
      ]
     },
     "execution_count": 27,
     "metadata": {},
     "output_type": "execute_result"
    }
   ],
   "source": [
    "rfct_gs.score(X_test, y_test)"
   ]
  },
  {
   "cell_type": "markdown",
   "metadata": {},
   "source": [
    "Usually, I don't bother to tune hyper-parameter if the test accuracy is low. Hyper-parameter tuning is extremely good at getting rid of overfitting, but it does very little to raise the overall accuracy of the model. Given our model's accuracy is around 55%, doing further hyper-parameter tuning will not bring it up much."
   ]
  },
  {
   "cell_type": "markdown",
   "metadata": {},
   "source": [
    "### CATBOOST"
   ]
  },
  {
   "cell_type": "code",
   "execution_count": 28,
   "metadata": {},
   "outputs": [],
   "source": [
    "from catboost import CatBoostClassifier, Pool, cv"
   ]
  },
  {
   "cell_type": "code",
   "execution_count": 29,
   "metadata": {},
   "outputs": [],
   "source": [
    "from sklearn.metrics import accuracy_score"
   ]
  },
  {
   "cell_type": "code",
   "execution_count": 30,
   "metadata": {},
   "outputs": [
    {
     "data": {
      "text/plain": [
       "<catboost.core.CatBoostClassifier at 0x1a1d147f98>"
      ]
     },
     "execution_count": 30,
     "metadata": {},
     "output_type": "execute_result"
    }
   ],
   "source": [
    "catboost = CatBoostClassifier(custom_loss=['Accuracy'], logging_level='Silent')\n",
    "\n",
    "catboost.fit(X_train, y_train)"
   ]
  },
  {
   "cell_type": "code",
   "execution_count": 31,
   "metadata": {},
   "outputs": [
    {
     "data": {
      "text/plain": [
       "0.6109824946184151"
      ]
     },
     "execution_count": 31,
     "metadata": {},
     "output_type": "execute_result"
    }
   ],
   "source": [
    "catboost.score(X_train, y_train)"
   ]
  },
  {
   "cell_type": "code",
   "execution_count": 32,
   "metadata": {},
   "outputs": [
    {
     "data": {
      "text/plain": [
       "0.5846758908263836"
      ]
     },
     "execution_count": 32,
     "metadata": {},
     "output_type": "execute_result"
    }
   ],
   "source": [
    "catboost.score(X_test, y_test)"
   ]
  },
  {
   "cell_type": "markdown",
   "metadata": {},
   "source": [
    "### Neural Network"
   ]
  },
  {
   "cell_type": "code",
   "execution_count": 33,
   "metadata": {},
   "outputs": [
    {
     "name": "stderr",
     "output_type": "stream",
     "text": [
      "/anaconda3/lib/python3.6/site-packages/h5py/__init__.py:36: FutureWarning: Conversion of the second argument of issubdtype from `float` to `np.floating` is deprecated. In future, it will be treated as `np.float64 == np.dtype(float).type`.\n",
      "  from ._conv import register_converters as _register_converters\n",
      "Using TensorFlow backend.\n"
     ]
    }
   ],
   "source": [
    "from keras.models import Sequential\n",
    "from keras.layers.core import Activation\n",
    "from keras.layers.core import Dropout\n",
    "from keras.layers.core import Dense\n",
    "from keras import optimizers\n"
   ]
  },
  {
   "cell_type": "code",
   "execution_count": 34,
   "metadata": {},
   "outputs": [
    {
     "data": {
      "text/plain": [
       "(49242, 14)"
      ]
     },
     "execution_count": 34,
     "metadata": {},
     "output_type": "execute_result"
    }
   ],
   "source": [
    "X_train.shape"
   ]
  },
  {
   "cell_type": "code",
   "execution_count": 35,
   "metadata": {},
   "outputs": [],
   "source": [
    "model = Sequential()\n",
    "model.add(Dense(units = 14, activation = 'relu', kernel_initializer = 'uniform', input_dim = 14))\n",
    "model.add(Dense(units = 14, activation = 'relu', kernel_initializer = 'uniform', input_dim = 14))\n",
    "model.add(Dense(units = 14, activation = 'relu', kernel_initializer = 'uniform', input_dim = 14))\n",
    "model.add(Dense(units = 1, activation = 'sigmoid'))"
   ]
  },
  {
   "cell_type": "code",
   "execution_count": 36,
   "metadata": {},
   "outputs": [
    {
     "name": "stdout",
     "output_type": "stream",
     "text": [
      "_________________________________________________________________\n",
      "Layer (type)                 Output Shape              Param #   \n",
      "=================================================================\n",
      "dense_1 (Dense)              (None, 14)                210       \n",
      "_________________________________________________________________\n",
      "dense_2 (Dense)              (None, 14)                210       \n",
      "_________________________________________________________________\n",
      "dense_3 (Dense)              (None, 14)                210       \n",
      "_________________________________________________________________\n",
      "dense_4 (Dense)              (None, 1)                 15        \n",
      "=================================================================\n",
      "Total params: 645\n",
      "Trainable params: 645\n",
      "Non-trainable params: 0\n",
      "_________________________________________________________________\n"
     ]
    }
   ],
   "source": [
    "model.compile(loss = 'binary_crossentropy', optimizer = optimizers.Adam(lr = 0.001), metrics = ['binary_accuracy'])\n",
    "model.summary()"
   ]
  },
  {
   "cell_type": "code",
   "execution_count": 37,
   "metadata": {},
   "outputs": [
    {
     "name": "stdout",
     "output_type": "stream",
     "text": [
      "Epoch 1/20\n",
      "49242/49242 [==============================] - 3s 52us/step - loss: 0.6791 - binary_accuracy: 0.5735\n",
      "Epoch 2/20\n",
      "49242/49242 [==============================] - 2s 46us/step - loss: 0.6737 - binary_accuracy: 0.5856\n",
      "Epoch 3/20\n",
      "49242/49242 [==============================] - 2s 44us/step - loss: 0.6729 - binary_accuracy: 0.5849: 1s - loss: 0.6721 - \n",
      "Epoch 4/20\n",
      "49242/49242 [==============================] - 3s 53us/step - loss: 0.6729 - binary_accuracy: 0.5864\n",
      "Epoch 5/20\n",
      "49242/49242 [==============================] - 2s 45us/step - loss: 0.6725 - binary_accuracy: 0.5859\n",
      "Epoch 6/20\n",
      "49242/49242 [==============================] - 2s 45us/step - loss: 0.6723 - binary_accuracy: 0.5872\n",
      "Epoch 7/20\n",
      "49242/49242 [==============================] - 2s 44us/step - loss: 0.6725 - binary_accuracy: 0.5875: 1s - l\n",
      "Epoch 8/20\n",
      "49242/49242 [==============================] - 2s 43us/step - loss: 0.6723 - binary_accuracy: 0.5871\n",
      "Epoch 9/20\n",
      "49242/49242 [==============================] - 2s 47us/step - loss: 0.6720 - binary_accuracy: 0.5870\n",
      "Epoch 10/20\n",
      "49242/49242 [==============================] - 2s 45us/step - loss: 0.6723 - binary_accuracy: 0.5854\n",
      "Epoch 11/20\n",
      "49242/49242 [==============================] - 2s 45us/step - loss: 0.6723 - binary_accuracy: 0.5883: 0s - loss: 0.6721 - binary_accurac\n",
      "Epoch 12/20\n",
      "49242/49242 [==============================] - 2s 47us/step - loss: 0.6721 - binary_accuracy: 0.5873: 0s - loss: 0.6720 - bina\n",
      "Epoch 13/20\n",
      "49242/49242 [==============================] - 2s 46us/step - loss: 0.6721 - binary_accuracy: 0.5862\n",
      "Epoch 14/20\n",
      "49242/49242 [==============================] - 2s 45us/step - loss: 0.6718 - binary_accuracy: 0.5869: 0s - loss: 0.6713 - binary_a\n",
      "Epoch 15/20\n",
      "49242/49242 [==============================] - 2s 42us/step - loss: 0.6720 - binary_accuracy: 0.5868\n",
      "Epoch 16/20\n",
      "49242/49242 [==============================] - 2s 42us/step - loss: 0.6718 - binary_accuracy: 0.5877\n",
      "Epoch 17/20\n",
      "49242/49242 [==============================] - 2s 38us/step - loss: 0.6720 - binary_accuracy: 0.5867\n",
      "Epoch 18/20\n",
      "49242/49242 [==============================] - 2s 34us/step - loss: 0.6718 - binary_accuracy: 0.5877: 0s - loss: 0.6712 - binary_accura\n",
      "Epoch 19/20\n",
      "49242/49242 [==============================] - 2s 36us/step - loss: 0.6717 - binary_accuracy: 0.5871\n",
      "Epoch 20/20\n",
      "49242/49242 [==============================] - 2s 36us/step - loss: 0.6717 - binary_accuracy: 0.5872\n"
     ]
    },
    {
     "data": {
      "text/plain": [
       "<keras.callbacks.History at 0x1a1e5464a8>"
      ]
     },
     "execution_count": 37,
     "metadata": {},
     "output_type": "execute_result"
    }
   ],
   "source": [
    "model.fit(X_train, y_train, batch_size = 30, epochs = 20)"
   ]
  },
  {
   "cell_type": "code",
   "execution_count": 38,
   "metadata": {},
   "outputs": [],
   "source": [
    "y_pred = model.predict(X_test)"
   ]
  },
  {
   "cell_type": "code",
   "execution_count": 39,
   "metadata": {},
   "outputs": [],
   "source": [
    "y_pred = (y_pred > 0.5)"
   ]
  },
  {
   "cell_type": "code",
   "execution_count": 40,
   "metadata": {},
   "outputs": [],
   "source": [
    "from sklearn.metrics import accuracy_score"
   ]
  },
  {
   "cell_type": "code",
   "execution_count": 41,
   "metadata": {},
   "outputs": [
    {
     "data": {
      "text/plain": [
       "0.5857657316148598"
      ]
     },
     "execution_count": 41,
     "metadata": {},
     "output_type": "execute_result"
    }
   ],
   "source": [
    "accuracy_score(y_test, y_pred)"
   ]
  },
  {
   "cell_type": "code",
   "execution_count": 42,
   "metadata": {},
   "outputs": [],
   "source": [
    "y_train_pred = model.predict(X_train)"
   ]
  },
  {
   "cell_type": "code",
   "execution_count": 43,
   "metadata": {},
   "outputs": [],
   "source": [
    "y_train_pred = (y_train_pred > 0.5)"
   ]
  },
  {
   "cell_type": "code",
   "execution_count": 44,
   "metadata": {},
   "outputs": [
    {
     "data": {
      "text/plain": [
       "0.5879736810040209"
      ]
     },
     "execution_count": 44,
     "metadata": {},
     "output_type": "execute_result"
    }
   ],
   "source": [
    "accuracy_score(y_train, y_train_pred)"
   ]
  }
 ],
 "metadata": {
  "kernelspec": {
   "display_name": "Python 3",
   "language": "python",
   "name": "python3"
  },
  "language_info": {
   "codemirror_mode": {
    "name": "ipython",
    "version": 3
   },
   "file_extension": ".py",
   "mimetype": "text/x-python",
   "name": "python",
   "nbconvert_exporter": "python",
   "pygments_lexer": "ipython3",
   "version": "3.6.5"
  }
 },
 "nbformat": 4,
 "nbformat_minor": 2
}
