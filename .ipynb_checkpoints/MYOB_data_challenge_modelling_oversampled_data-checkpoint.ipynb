{
 "cells": [
  {
   "cell_type": "code",
   "execution_count": 1,
   "metadata": {},
   "outputs": [],
   "source": [
    "import numpy as np\n",
    "import pandas as pd\n",
    "import seaborn as sns\n",
    "import matplotlib.pyplot as plt\n",
    "%matplotlib inline\n",
    "%config InlineBackend.figure_format = 'retina'"
   ]
  },
  {
   "cell_type": "markdown",
   "metadata": {},
   "source": [
    "### Loading data"
   ]
  },
  {
   "cell_type": "code",
   "execution_count": 2,
   "metadata": {},
   "outputs": [],
   "source": [
    "X_train = pd.read_csv('./oversampled_data/X_train.csv')\n",
    "X_test = pd.read_csv('./oversampled_data/X_test.csv')\n",
    "y_train = pd.read_csv('./oversampled_data/y_train.csv',header = None)\n",
    "y_test = pd.read_csv('./oversampled_data/y_test.csv',header = None)"
   ]
  },
  {
   "cell_type": "code",
   "execution_count": 3,
   "metadata": {},
   "outputs": [
    {
     "data": {
      "text/plain": [
       "(49242, 15)"
      ]
     },
     "execution_count": 3,
     "metadata": {},
     "output_type": "execute_result"
    }
   ],
   "source": [
    "X_train.shape"
   ]
  },
  {
   "cell_type": "code",
   "execution_count": 4,
   "metadata": {},
   "outputs": [
    {
     "data": {
      "text/plain": [
       "(49242, 2)"
      ]
     },
     "execution_count": 4,
     "metadata": {},
     "output_type": "execute_result"
    }
   ],
   "source": [
    "y_train.shape"
   ]
  },
  {
   "cell_type": "code",
   "execution_count": 5,
   "metadata": {},
   "outputs": [],
   "source": [
    "X_train.drop(columns = ['Unnamed: 0'], inplace = True)\n",
    "X_test.drop(columns = ['Unnamed: 0'], inplace = True)"
   ]
  },
  {
   "cell_type": "code",
   "execution_count": 6,
   "metadata": {},
   "outputs": [],
   "source": [
    "y_train.drop(columns = [y_train.columns.values.tolist()[0]], inplace = True)\n",
    "y_test.drop(columns = [y_test.columns.values.tolist()[0]], inplace = True)"
   ]
  },
  {
   "cell_type": "code",
   "execution_count": 7,
   "metadata": {},
   "outputs": [],
   "source": [
    "y_train.columns = ['subscribed']\n",
    "y_test.columns = ['subscribed']"
   ]
  },
  {
   "cell_type": "code",
   "execution_count": 8,
   "metadata": {},
   "outputs": [
    {
     "data": {
      "text/plain": [
       "(49242, 14)"
      ]
     },
     "execution_count": 8,
     "metadata": {},
     "output_type": "execute_result"
    }
   ],
   "source": [
    "X_train.shape"
   ]
  },
  {
   "cell_type": "code",
   "execution_count": 9,
   "metadata": {},
   "outputs": [],
   "source": [
    "y_train = y_train['subscribed']"
   ]
  },
  {
   "cell_type": "code",
   "execution_count": 10,
   "metadata": {},
   "outputs": [
    {
     "data": {
      "text/plain": [
       "0        1\n",
       "1        1\n",
       "2        0\n",
       "3        0\n",
       "4        1\n",
       "5        0\n",
       "6        1\n",
       "7        0\n",
       "8        0\n",
       "9        1\n",
       "10       1\n",
       "11       1\n",
       "12       1\n",
       "13       0\n",
       "14       1\n",
       "15       0\n",
       "16       1\n",
       "17       0\n",
       "18       0\n",
       "19       1\n",
       "20       1\n",
       "21       0\n",
       "22       0\n",
       "23       1\n",
       "24       1\n",
       "25       0\n",
       "26       0\n",
       "27       0\n",
       "28       1\n",
       "29       0\n",
       "        ..\n",
       "49212    1\n",
       "49213    1\n",
       "49214    1\n",
       "49215    0\n",
       "49216    1\n",
       "49217    0\n",
       "49218    1\n",
       "49219    0\n",
       "49220    1\n",
       "49221    1\n",
       "49222    0\n",
       "49223    0\n",
       "49224    0\n",
       "49225    1\n",
       "49226    0\n",
       "49227    1\n",
       "49228    0\n",
       "49229    1\n",
       "49230    0\n",
       "49231    1\n",
       "49232    1\n",
       "49233    1\n",
       "49234    1\n",
       "49235    1\n",
       "49236    1\n",
       "49237    0\n",
       "49238    0\n",
       "49239    0\n",
       "49240    1\n",
       "49241    1\n",
       "Name: subscribed, Length: 49242, dtype: int64"
      ]
     },
     "execution_count": 10,
     "metadata": {},
     "output_type": "execute_result"
    }
   ],
   "source": [
    "y_train"
   ]
  },
  {
   "cell_type": "markdown",
   "metadata": {},
   "source": [
    "### Feature Selection"
   ]
  },
  {
   "cell_type": "code",
   "execution_count": 11,
   "metadata": {},
   "outputs": [],
   "source": [
    "from cLiML.model_prep import feature_select_logistic_reg"
   ]
  },
  {
   "cell_type": "code",
   "execution_count": 12,
   "metadata": {},
   "outputs": [],
   "source": [
    "df_feature = feature_select_logistic_reg(X_train, y_train, cv = 5)"
   ]
  },
  {
   "cell_type": "code",
   "execution_count": 13,
   "metadata": {},
   "outputs": [
    {
     "data": {
      "text/html": [
       "<div>\n",
       "<style scoped>\n",
       "    .dataframe tbody tr th:only-of-type {\n",
       "        vertical-align: middle;\n",
       "    }\n",
       "\n",
       "    .dataframe tbody tr th {\n",
       "        vertical-align: top;\n",
       "    }\n",
       "\n",
       "    .dataframe thead th {\n",
       "        text-align: right;\n",
       "    }\n",
       "</style>\n",
       "<table border=\"1\" class=\"dataframe\">\n",
       "  <thead>\n",
       "    <tr style=\"text-align: right;\">\n",
       "      <th></th>\n",
       "      <th>variable_RFECV</th>\n",
       "      <th>support</th>\n",
       "      <th>ranking</th>\n",
       "      <th>variable_skb</th>\n",
       "      <th>score</th>\n",
       "    </tr>\n",
       "  </thead>\n",
       "  <tbody>\n",
       "    <tr>\n",
       "      <th>0</th>\n",
       "      <td>time_in_product_mins</td>\n",
       "      <td>True</td>\n",
       "      <td>1</td>\n",
       "      <td>time_in_product_mins</td>\n",
       "      <td>1172.951983</td>\n",
       "    </tr>\n",
       "    <tr>\n",
       "      <th>1</th>\n",
       "      <td>country_AU</td>\n",
       "      <td>True</td>\n",
       "      <td>1</td>\n",
       "      <td>referrer_channels_Direct</td>\n",
       "      <td>484.666470</td>\n",
       "    </tr>\n",
       "    <tr>\n",
       "      <th>2</th>\n",
       "      <td>devices_Desktop</td>\n",
       "      <td>True</td>\n",
       "      <td>1</td>\n",
       "      <td>devices_Desktop</td>\n",
       "      <td>254.802811</td>\n",
       "    </tr>\n",
       "    <tr>\n",
       "      <th>3</th>\n",
       "      <td>referrer_channels_Direct</td>\n",
       "      <td>True</td>\n",
       "      <td>1</td>\n",
       "      <td>campaigns_au_nz_mobile_product_launch</td>\n",
       "      <td>182.590298</td>\n",
       "    </tr>\n",
       "    <tr>\n",
       "      <th>4</th>\n",
       "      <td>referrer_channels_None</td>\n",
       "      <td>True</td>\n",
       "      <td>1</td>\n",
       "      <td>referrer_channels_Organic</td>\n",
       "      <td>149.282323</td>\n",
       "    </tr>\n",
       "    <tr>\n",
       "      <th>5</th>\n",
       "      <td>referrer_channels_Organic</td>\n",
       "      <td>True</td>\n",
       "      <td>1</td>\n",
       "      <td>campaigns_au_nz_eofy</td>\n",
       "      <td>75.063839</td>\n",
       "    </tr>\n",
       "    <tr>\n",
       "      <th>6</th>\n",
       "      <td>campaigns_au_nz_eofy</td>\n",
       "      <td>True</td>\n",
       "      <td>1</td>\n",
       "      <td>industries_Healthcare</td>\n",
       "      <td>8.970992</td>\n",
       "    </tr>\n",
       "    <tr>\n",
       "      <th>7</th>\n",
       "      <td>campaigns_au_nz_mobile_product_launch</td>\n",
       "      <td>True</td>\n",
       "      <td>1</td>\n",
       "      <td>industries_Education</td>\n",
       "      <td>2.432550</td>\n",
       "    </tr>\n",
       "    <tr>\n",
       "      <th>8</th>\n",
       "      <td>industries_Construction</td>\n",
       "      <td>True</td>\n",
       "      <td>1</td>\n",
       "      <td>referrer_channels_None</td>\n",
       "      <td>2.113623</td>\n",
       "    </tr>\n",
       "    <tr>\n",
       "      <th>9</th>\n",
       "      <td>industries_Finance</td>\n",
       "      <td>True</td>\n",
       "      <td>1</td>\n",
       "      <td>industries_Hospitality</td>\n",
       "      <td>0.890609</td>\n",
       "    </tr>\n",
       "    <tr>\n",
       "      <th>10</th>\n",
       "      <td>industries_Healthcare</td>\n",
       "      <td>True</td>\n",
       "      <td>1</td>\n",
       "      <td>country_AU</td>\n",
       "      <td>0.337327</td>\n",
       "    </tr>\n",
       "    <tr>\n",
       "      <th>11</th>\n",
       "      <td>industries_Hospitality</td>\n",
       "      <td>True</td>\n",
       "      <td>1</td>\n",
       "      <td>email_open_rate</td>\n",
       "      <td>0.072254</td>\n",
       "    </tr>\n",
       "    <tr>\n",
       "      <th>12</th>\n",
       "      <td>industries_Education</td>\n",
       "      <td>False</td>\n",
       "      <td>2</td>\n",
       "      <td>industries_Finance</td>\n",
       "      <td>0.044477</td>\n",
       "    </tr>\n",
       "    <tr>\n",
       "      <th>13</th>\n",
       "      <td>email_open_rate</td>\n",
       "      <td>False</td>\n",
       "      <td>3</td>\n",
       "      <td>industries_Construction</td>\n",
       "      <td>0.001004</td>\n",
       "    </tr>\n",
       "  </tbody>\n",
       "</table>\n",
       "</div>"
      ],
      "text/plain": [
       "                           variable_RFECV  support  ranking  \\\n",
       "0                    time_in_product_mins     True        1   \n",
       "1                              country_AU     True        1   \n",
       "2                         devices_Desktop     True        1   \n",
       "3                referrer_channels_Direct     True        1   \n",
       "4                  referrer_channels_None     True        1   \n",
       "5               referrer_channels_Organic     True        1   \n",
       "6                    campaigns_au_nz_eofy     True        1   \n",
       "7   campaigns_au_nz_mobile_product_launch     True        1   \n",
       "8                 industries_Construction     True        1   \n",
       "9                      industries_Finance     True        1   \n",
       "10                  industries_Healthcare     True        1   \n",
       "11                 industries_Hospitality     True        1   \n",
       "12                   industries_Education    False        2   \n",
       "13                        email_open_rate    False        3   \n",
       "\n",
       "                             variable_skb        score  \n",
       "0                    time_in_product_mins  1172.951983  \n",
       "1                referrer_channels_Direct   484.666470  \n",
       "2                         devices_Desktop   254.802811  \n",
       "3   campaigns_au_nz_mobile_product_launch   182.590298  \n",
       "4               referrer_channels_Organic   149.282323  \n",
       "5                    campaigns_au_nz_eofy    75.063839  \n",
       "6                   industries_Healthcare     8.970992  \n",
       "7                    industries_Education     2.432550  \n",
       "8                  referrer_channels_None     2.113623  \n",
       "9                  industries_Hospitality     0.890609  \n",
       "10                             country_AU     0.337327  \n",
       "11                        email_open_rate     0.072254  \n",
       "12                     industries_Finance     0.044477  \n",
       "13                industries_Construction     0.001004  "
      ]
     },
     "execution_count": 13,
     "metadata": {},
     "output_type": "execute_result"
    }
   ],
   "source": [
    "df_feature"
   ]
  },
  {
   "cell_type": "markdown",
   "metadata": {},
   "source": [
    "### Logistic Regression"
   ]
  },
  {
   "cell_type": "code",
   "execution_count": 14,
   "metadata": {},
   "outputs": [],
   "source": [
    "from sklearn.linear_model import LogisticRegression"
   ]
  },
  {
   "cell_type": "code",
   "execution_count": 15,
   "metadata": {},
   "outputs": [
    {
     "data": {
      "text/plain": [
       "0.5841761098249462"
      ]
     },
     "execution_count": 15,
     "metadata": {},
     "output_type": "execute_result"
    }
   ],
   "source": [
    "lr = LogisticRegression()\n",
    "lr.fit(X_train, y_train)\n",
    "lr.score(X_train, y_train)"
   ]
  },
  {
   "cell_type": "code",
   "execution_count": 16,
   "metadata": {},
   "outputs": [
    {
     "data": {
      "text/plain": [
       "0.5944844579226687"
      ]
     },
     "execution_count": 16,
     "metadata": {},
     "output_type": "execute_result"
    }
   ],
   "source": [
    "lr.score(X_test, y_test)"
   ]
  },
  {
   "cell_type": "code",
   "execution_count": 17,
   "metadata": {},
   "outputs": [],
   "source": [
    "lr_coef_df = pd.DataFrame({'Variables': X_train.columns.tolist(),\n",
    "                          'Coefficients': lr.coef_[0].tolist(),\n",
    "                          'Abs_Coefs': abs(lr.coef_[0])})"
   ]
  },
  {
   "cell_type": "code",
   "execution_count": 18,
   "metadata": {},
   "outputs": [
    {
     "data": {
      "text/html": [
       "<div>\n",
       "<style scoped>\n",
       "    .dataframe tbody tr th:only-of-type {\n",
       "        vertical-align: middle;\n",
       "    }\n",
       "\n",
       "    .dataframe tbody tr th {\n",
       "        vertical-align: top;\n",
       "    }\n",
       "\n",
       "    .dataframe thead th {\n",
       "        text-align: right;\n",
       "    }\n",
       "</style>\n",
       "<table border=\"1\" class=\"dataframe\">\n",
       "  <thead>\n",
       "    <tr style=\"text-align: right;\">\n",
       "      <th></th>\n",
       "      <th>Variables</th>\n",
       "      <th>Coefficients</th>\n",
       "      <th>Abs_Coefs</th>\n",
       "    </tr>\n",
       "  </thead>\n",
       "  <tbody>\n",
       "    <tr>\n",
       "      <th>4</th>\n",
       "      <td>referrer_channels_Direct</td>\n",
       "      <td>0.450970</td>\n",
       "      <td>0.450970</td>\n",
       "    </tr>\n",
       "    <tr>\n",
       "      <th>3</th>\n",
       "      <td>devices_Desktop</td>\n",
       "      <td>0.318998</td>\n",
       "      <td>0.318998</td>\n",
       "    </tr>\n",
       "    <tr>\n",
       "      <th>5</th>\n",
       "      <td>referrer_channels_None</td>\n",
       "      <td>0.178581</td>\n",
       "      <td>0.178581</td>\n",
       "    </tr>\n",
       "    <tr>\n",
       "      <th>12</th>\n",
       "      <td>industries_Healthcare</td>\n",
       "      <td>-0.083180</td>\n",
       "      <td>0.083180</td>\n",
       "    </tr>\n",
       "    <tr>\n",
       "      <th>6</th>\n",
       "      <td>referrer_channels_Organic</td>\n",
       "      <td>-0.057689</td>\n",
       "      <td>0.057689</td>\n",
       "    </tr>\n",
       "    <tr>\n",
       "      <th>11</th>\n",
       "      <td>industries_Finance</td>\n",
       "      <td>-0.040504</td>\n",
       "      <td>0.040504</td>\n",
       "    </tr>\n",
       "    <tr>\n",
       "      <th>8</th>\n",
       "      <td>campaigns_au_nz_mobile_product_launch</td>\n",
       "      <td>0.033251</td>\n",
       "      <td>0.033251</td>\n",
       "    </tr>\n",
       "    <tr>\n",
       "      <th>9</th>\n",
       "      <td>industries_Construction</td>\n",
       "      <td>-0.031827</td>\n",
       "      <td>0.031827</td>\n",
       "    </tr>\n",
       "    <tr>\n",
       "      <th>7</th>\n",
       "      <td>campaigns_au_nz_eofy</td>\n",
       "      <td>0.024958</td>\n",
       "      <td>0.024958</td>\n",
       "    </tr>\n",
       "    <tr>\n",
       "      <th>2</th>\n",
       "      <td>country_AU</td>\n",
       "      <td>-0.018894</td>\n",
       "      <td>0.018894</td>\n",
       "    </tr>\n",
       "    <tr>\n",
       "      <th>1</th>\n",
       "      <td>time_in_product_mins</td>\n",
       "      <td>0.012985</td>\n",
       "      <td>0.012985</td>\n",
       "    </tr>\n",
       "    <tr>\n",
       "      <th>13</th>\n",
       "      <td>industries_Hospitality</td>\n",
       "      <td>-0.009173</td>\n",
       "      <td>0.009173</td>\n",
       "    </tr>\n",
       "    <tr>\n",
       "      <th>10</th>\n",
       "      <td>industries_Education</td>\n",
       "      <td>-0.008143</td>\n",
       "      <td>0.008143</td>\n",
       "    </tr>\n",
       "    <tr>\n",
       "      <th>0</th>\n",
       "      <td>email_open_rate</td>\n",
       "      <td>-0.000205</td>\n",
       "      <td>0.000205</td>\n",
       "    </tr>\n",
       "  </tbody>\n",
       "</table>\n",
       "</div>"
      ],
      "text/plain": [
       "                                Variables  Coefficients  Abs_Coefs\n",
       "4                referrer_channels_Direct      0.450970   0.450970\n",
       "3                         devices_Desktop      0.318998   0.318998\n",
       "5                  referrer_channels_None      0.178581   0.178581\n",
       "12                  industries_Healthcare     -0.083180   0.083180\n",
       "6               referrer_channels_Organic     -0.057689   0.057689\n",
       "11                     industries_Finance     -0.040504   0.040504\n",
       "8   campaigns_au_nz_mobile_product_launch      0.033251   0.033251\n",
       "9                 industries_Construction     -0.031827   0.031827\n",
       "7                    campaigns_au_nz_eofy      0.024958   0.024958\n",
       "2                              country_AU     -0.018894   0.018894\n",
       "1                    time_in_product_mins      0.012985   0.012985\n",
       "13                 industries_Hospitality     -0.009173   0.009173\n",
       "10                   industries_Education     -0.008143   0.008143\n",
       "0                         email_open_rate     -0.000205   0.000205"
      ]
     },
     "execution_count": 18,
     "metadata": {},
     "output_type": "execute_result"
    }
   ],
   "source": [
    "lr_coef_df.sort_values('Abs_Coefs', ascending = False)"
   ]
  },
  {
   "cell_type": "markdown",
   "metadata": {},
   "source": [
    "As can be seen here, the referral type of \"Direct\" and device type of \"Desktop\" are the highest indicator of the user will subscribe to the service."
   ]
  },
  {
   "cell_type": "code",
   "execution_count": 19,
   "metadata": {},
   "outputs": [
    {
     "name": "stdout",
     "output_type": "stream",
     "text": [
      "[0.57998376 0.58874898 0.58184403 0.58184403 0.59727864 0.56539399\n",
      " 0.58874898 0.59687246 0.57656377 0.58143786]\n",
      "0.583871649725441\n"
     ]
    }
   ],
   "source": [
    "from sklearn.model_selection import cross_val_score\n",
    "LR = LogisticRegression()\n",
    "cv_scores = cross_val_score(LR, X_train, y_train, cv = 10)\n",
    "print(cv_scores)\n",
    "print(cv_scores.mean())"
   ]
  },
  {
   "cell_type": "markdown",
   "metadata": {},
   "source": [
    "Cross validation is just conducted to ensure that result obtained from the train test split is represetative. For smaller data sets, the splitting of data set may be biased, causing the model accuracy to fluctuate wildly depending on how the data set were cut. This problem doesn't usually occur for data set of signifcant size."
   ]
  },
  {
   "cell_type": "markdown",
   "metadata": {},
   "source": [
    "### Random Forest"
   ]
  },
  {
   "cell_type": "code",
   "execution_count": 20,
   "metadata": {},
   "outputs": [
    {
     "name": "stderr",
     "output_type": "stream",
     "text": [
      "/anaconda3/lib/python3.6/site-packages/sklearn/ensemble/weight_boosting.py:29: DeprecationWarning: numpy.core.umath_tests is an internal NumPy module and should not be imported. It will be removed in a future NumPy release.\n",
      "  from numpy.core.umath_tests import inner1d\n"
     ]
    }
   ],
   "source": [
    "from sklearn.ensemble import RandomForestClassifier"
   ]
  },
  {
   "cell_type": "code",
   "execution_count": 21,
   "metadata": {},
   "outputs": [
    {
     "data": {
      "text/plain": [
       "RandomForestClassifier(bootstrap=True, class_weight=None, criterion='gini',\n",
       "            max_depth=None, max_features='auto', max_leaf_nodes=None,\n",
       "            min_impurity_decrease=0.0, min_impurity_split=None,\n",
       "            min_samples_leaf=1, min_samples_split=2,\n",
       "            min_weight_fraction_leaf=0.0, n_estimators=10, n_jobs=1,\n",
       "            oob_score=False, random_state=None, verbose=0,\n",
       "            warm_start=False)"
      ]
     },
     "execution_count": 21,
     "metadata": {},
     "output_type": "execute_result"
    }
   ],
   "source": [
    "rfc = RandomForestClassifier()\n",
    "rfc.fit(X_train, y_train)\n"
   ]
  },
  {
   "cell_type": "code",
   "execution_count": 22,
   "metadata": {},
   "outputs": [
    {
     "data": {
      "text/plain": [
       "0.9919987002964948"
      ]
     },
     "execution_count": 22,
     "metadata": {},
     "output_type": "execute_result"
    }
   ],
   "source": [
    "rfc.score(X_train, y_train)"
   ]
  },
  {
   "cell_type": "code",
   "execution_count": 23,
   "metadata": {},
   "outputs": [
    {
     "data": {
      "text/plain": [
       "0.5274355572403336"
      ]
     },
     "execution_count": 23,
     "metadata": {},
     "output_type": "execute_result"
    }
   ],
   "source": [
    "rfc.score(X_test, y_test)"
   ]
  },
  {
   "cell_type": "markdown",
   "metadata": {},
   "source": [
    "### Random Forest Grid Search"
   ]
  },
  {
   "cell_type": "code",
   "execution_count": 24,
   "metadata": {},
   "outputs": [],
   "source": [
    "from sklearn.model_selection import GridSearchCV"
   ]
  },
  {
   "cell_type": "code",
   "execution_count": 25,
   "metadata": {},
   "outputs": [
    {
     "data": {
      "text/plain": [
       "GridSearchCV(cv=10, error_score='raise',\n",
       "       estimator=RandomForestClassifier(bootstrap=True, class_weight=None, criterion='gini',\n",
       "            max_depth=None, max_features='auto', max_leaf_nodes=None,\n",
       "            min_impurity_decrease=0.0, min_impurity_split=None,\n",
       "            min_samples_leaf=1, min_samples_split=2,\n",
       "            min_weight_fraction_leaf=0.0, n_estimators=10, n_jobs=1,\n",
       "            oob_score=False, random_state=None, verbose=0,\n",
       "            warm_start=False),\n",
       "       fit_params=None, iid=True, n_jobs=-1,\n",
       "       param_grid={'max_depth': [1, 5, 10, 14], 'max_features': [1, 5, 10, 14]},\n",
       "       pre_dispatch='2*n_jobs', refit=True, return_train_score='warn',\n",
       "       scoring=None, verbose=0)"
      ]
     },
     "execution_count": 25,
     "metadata": {},
     "output_type": "execute_result"
    }
   ],
   "source": [
    "params = {'max_depth': [1,5,10,14],\n",
    "         'max_features': [1,5,10,14]}\n",
    "\n",
    "rfct = RandomForestClassifier()\n",
    "rfct_gs = GridSearchCV(rfct, params, n_jobs = -1, cv = 10)\n",
    "rfct_gs.fit(X_train, y_train)"
   ]
  },
  {
   "cell_type": "code",
   "execution_count": 26,
   "metadata": {},
   "outputs": [
    {
     "data": {
      "text/plain": [
       "{'max_depth': 14, 'max_features': 1}"
      ]
     },
     "execution_count": 26,
     "metadata": {},
     "output_type": "execute_result"
    }
   ],
   "source": [
    "rfct_gs.best_params_"
   ]
  },
  {
   "cell_type": "code",
   "execution_count": 27,
   "metadata": {},
   "outputs": [
    {
     "data": {
      "text/plain": [
       "0.8167011900410219"
      ]
     },
     "execution_count": 27,
     "metadata": {},
     "output_type": "execute_result"
    }
   ],
   "source": [
    "rfct_gs.score(X_train, y_train)"
   ]
  },
  {
   "cell_type": "code",
   "execution_count": 28,
   "metadata": {},
   "outputs": [
    {
     "data": {
      "text/plain": [
       "0.5502274450341168"
      ]
     },
     "execution_count": 28,
     "metadata": {},
     "output_type": "execute_result"
    }
   ],
   "source": [
    "rfct_gs.score(X_test, y_test)"
   ]
  },
  {
   "cell_type": "markdown",
   "metadata": {},
   "source": [
    "Usually, I don't bother to tune hyper-parameter if the test accuracy is low. Hyper-parameter tuning is extremely good at getting rid of overfitting, but it does very little to raise the overall accuracy of the model. Given our model's accuracy is around 55%, doing further hyper-parameter tuning will not bring it up much."
   ]
  },
  {
   "cell_type": "markdown",
   "metadata": {},
   "source": [
    "### CATBOOST"
   ]
  },
  {
   "cell_type": "code",
   "execution_count": 29,
   "metadata": {},
   "outputs": [],
   "source": [
    "from catboost import CatBoostClassifier, Pool, cv"
   ]
  },
  {
   "cell_type": "code",
   "execution_count": 30,
   "metadata": {},
   "outputs": [],
   "source": [
    "from sklearn.metrics import accuracy_score"
   ]
  },
  {
   "cell_type": "code",
   "execution_count": 31,
   "metadata": {},
   "outputs": [
    {
     "data": {
      "text/plain": [
       "<catboost.core.CatBoostClassifier at 0x1a1e14e320>"
      ]
     },
     "execution_count": 31,
     "metadata": {},
     "output_type": "execute_result"
    }
   ],
   "source": [
    "catboost = CatBoostClassifier(custom_loss=['Accuracy'], logging_level='Silent')\n",
    "\n",
    "catboost.fit(X_train, y_train)"
   ]
  },
  {
   "cell_type": "code",
   "execution_count": 32,
   "metadata": {},
   "outputs": [
    {
     "data": {
      "text/plain": [
       "0.6051135209780268"
      ]
     },
     "execution_count": 32,
     "metadata": {},
     "output_type": "execute_result"
    }
   ],
   "source": [
    "catboost.score(X_train, y_train)"
   ]
  },
  {
   "cell_type": "code",
   "execution_count": 33,
   "metadata": {},
   "outputs": [
    {
     "data": {
      "text/plain": [
       "0.5893669446550417"
      ]
     },
     "execution_count": 33,
     "metadata": {},
     "output_type": "execute_result"
    }
   ],
   "source": [
    "catboost.score(X_test, y_test)"
   ]
  },
  {
   "cell_type": "markdown",
   "metadata": {},
   "source": [
    "### Neural Network"
   ]
  },
  {
   "cell_type": "code",
   "execution_count": 52,
   "metadata": {},
   "outputs": [],
   "source": [
    "from keras.models import Sequential\n",
    "from keras.layers.core import Activation\n",
    "from keras.layers.core import Dropout\n",
    "from keras.layers.core import Dense\n",
    "from keras import optimizers\n"
   ]
  },
  {
   "cell_type": "code",
   "execution_count": 53,
   "metadata": {},
   "outputs": [
    {
     "data": {
      "text/plain": [
       "(49242, 14)"
      ]
     },
     "execution_count": 53,
     "metadata": {},
     "output_type": "execute_result"
    }
   ],
   "source": [
    "X_train.shape"
   ]
  },
  {
   "cell_type": "code",
   "execution_count": 76,
   "metadata": {},
   "outputs": [],
   "source": [
    "model = Sequential()\n",
    "model.add(Dense(units = 14, activation = 'relu', kernel_initializer = 'uniform', input_dim = 14))\n",
    "model.add(Dense(units = 14, activation = 'relu', kernel_initializer = 'uniform', input_dim = 14))\n",
    "model.add(Dense(units = 14, activation = 'relu', kernel_initializer = 'uniform', input_dim = 14))\n",
    "model.add(Dense(units = 1, activation = 'sigmoid'))"
   ]
  },
  {
   "cell_type": "code",
   "execution_count": 77,
   "metadata": {},
   "outputs": [
    {
     "name": "stdout",
     "output_type": "stream",
     "text": [
      "_________________________________________________________________\n",
      "Layer (type)                 Output Shape              Param #   \n",
      "=================================================================\n",
      "dense_26 (Dense)             (None, 14)                210       \n",
      "_________________________________________________________________\n",
      "dense_27 (Dense)             (None, 14)                210       \n",
      "_________________________________________________________________\n",
      "dense_28 (Dense)             (None, 14)                210       \n",
      "_________________________________________________________________\n",
      "dense_29 (Dense)             (None, 1)                 15        \n",
      "=================================================================\n",
      "Total params: 645\n",
      "Trainable params: 645\n",
      "Non-trainable params: 0\n",
      "_________________________________________________________________\n"
     ]
    }
   ],
   "source": [
    "model.compile(loss = 'binary_crossentropy', optimizer = optimizers.Adam(lr = 0.001), metrics = ['binary_accuracy'])\n",
    "model.summary()"
   ]
  },
  {
   "cell_type": "code",
   "execution_count": 78,
   "metadata": {},
   "outputs": [
    {
     "name": "stdout",
     "output_type": "stream",
     "text": [
      "Epoch 1/20\n",
      "49242/49242 [==============================] - 2s 47us/step - loss: 0.6809 - binary_accuracy: 0.5704\n",
      "Epoch 2/20\n",
      "49242/49242 [==============================] - 2s 38us/step - loss: 0.6760 - binary_accuracy: 0.5793: 0s - loss: 0.6766 - binary_acc\n",
      "Epoch 3/20\n",
      "49242/49242 [==============================] - 2s 39us/step - loss: 0.6756 - binary_accuracy: 0.5796\n",
      "Epoch 4/20\n",
      "49242/49242 [==============================] - 2s 38us/step - loss: 0.6752 - binary_accuracy: 0.5797\n",
      "Epoch 5/20\n",
      "49242/49242 [==============================] - 2s 38us/step - loss: 0.6747 - binary_accuracy: 0.5820\n",
      "Epoch 6/20\n",
      "49242/49242 [==============================] - 2s 39us/step - loss: 0.6745 - binary_accuracy: 0.5829: 1s - loss: 0.6\n",
      "Epoch 7/20\n",
      "49242/49242 [==============================] - 2s 39us/step - loss: 0.6746 - binary_accuracy: 0.5823\n",
      "Epoch 8/20\n",
      "49242/49242 [==============================] - 2s 39us/step - loss: 0.6745 - binary_accuracy: 0.5822\n",
      "Epoch 9/20\n",
      "49242/49242 [==============================] - 2s 40us/step - loss: 0.6745 - binary_accuracy: 0.5812\n",
      "Epoch 10/20\n",
      "49242/49242 [==============================] - 2s 39us/step - loss: 0.6742 - binary_accuracy: 0.5832\n",
      "Epoch 11/20\n",
      "49242/49242 [==============================] - 2s 39us/step - loss: 0.6743 - binary_accuracy: 0.5817\n",
      "Epoch 12/20\n",
      "49242/49242 [==============================] - 2s 40us/step - loss: 0.6741 - binary_accuracy: 0.5821\n",
      "Epoch 13/20\n",
      "49242/49242 [==============================] - 2s 43us/step - loss: 0.6737 - binary_accuracy: 0.5818\n",
      "Epoch 14/20\n",
      "49242/49242 [==============================] - 2s 44us/step - loss: 0.6738 - binary_accuracy: 0.5822: 1s \n",
      "Epoch 15/20\n",
      "49242/49242 [==============================] - 2s 39us/step - loss: 0.6737 - binary_accuracy: 0.5824\n",
      "Epoch 16/20\n",
      "49242/49242 [==============================] - 2s 41us/step - loss: 0.6736 - binary_accuracy: 0.5822\n",
      "Epoch 17/20\n",
      "49242/49242 [==============================] - 2s 43us/step - loss: 0.6735 - binary_accuracy: 0.5826: 1s - loss: 0.6718 - bin\n",
      "Epoch 18/20\n",
      "49242/49242 [==============================] - 2s 41us/step - loss: 0.6735 - binary_accuracy: 0.5830\n",
      "Epoch 19/20\n",
      "49242/49242 [==============================] - 2s 41us/step - loss: 0.6737 - binary_accuracy: 0.5827\n",
      "Epoch 20/20\n",
      "49242/49242 [==============================] - 2s 45us/step - loss: 0.6732 - binary_accuracy: 0.5841: 0s - loss: 0.6734 - binary_acc\n"
     ]
    },
    {
     "data": {
      "text/plain": [
       "<keras.callbacks.History at 0x1a3a290908>"
      ]
     },
     "execution_count": 78,
     "metadata": {},
     "output_type": "execute_result"
    }
   ],
   "source": [
    "model.fit(X_train, y_train, batch_size = 30, epochs = 20)"
   ]
  },
  {
   "cell_type": "code",
   "execution_count": 79,
   "metadata": {},
   "outputs": [],
   "source": [
    "y_pred = model.predict(X_test)"
   ]
  },
  {
   "cell_type": "code",
   "execution_count": 80,
   "metadata": {},
   "outputs": [],
   "source": [
    "y_pred = (y_pred > 0.5)"
   ]
  },
  {
   "cell_type": "code",
   "execution_count": 74,
   "metadata": {},
   "outputs": [],
   "source": [
    "from sklearn.metrics import accuracy_score"
   ]
  },
  {
   "cell_type": "code",
   "execution_count": 81,
   "metadata": {},
   "outputs": [
    {
     "data": {
      "text/plain": [
       "0.5899355572403336"
      ]
     },
     "execution_count": 81,
     "metadata": {},
     "output_type": "execute_result"
    }
   ],
   "source": [
    "accuracy_score(y_test, y_pred)"
   ]
  },
  {
   "cell_type": "code",
   "execution_count": 82,
   "metadata": {},
   "outputs": [],
   "source": [
    "y_train_pred = model.predict(X_train)"
   ]
  },
  {
   "cell_type": "code",
   "execution_count": 83,
   "metadata": {},
   "outputs": [],
   "source": [
    "y_train_pred = (y_train_pred > 0.5)"
   ]
  },
  {
   "cell_type": "code",
   "execution_count": 84,
   "metadata": {},
   "outputs": [
    {
     "data": {
      "text/plain": [
       "0.5833231793996995"
      ]
     },
     "execution_count": 84,
     "metadata": {},
     "output_type": "execute_result"
    }
   ],
   "source": [
    "accuracy_score(y_train, y_train_pred)"
   ]
  }
 ],
 "metadata": {
  "kernelspec": {
   "display_name": "Python 3",
   "language": "python",
   "name": "python3"
  },
  "language_info": {
   "codemirror_mode": {
    "name": "ipython",
    "version": 3
   },
   "file_extension": ".py",
   "mimetype": "text/x-python",
   "name": "python",
   "nbconvert_exporter": "python",
   "pygments_lexer": "ipython3",
   "version": "3.6.5"
  }
 },
 "nbformat": 4,
 "nbformat_minor": 2
}
