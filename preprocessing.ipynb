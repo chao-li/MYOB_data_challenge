{
 "cells": [
  {
   "cell_type": "code",
   "execution_count": 1,
   "metadata": {},
   "outputs": [],
   "source": [
    "import numpy as np\n",
    "import pandas as pd\n",
    "import json\n",
    "import matplotlib.pyplot as plt"
   ]
  },
  {
   "cell_type": "code",
   "execution_count": 2,
   "metadata": {},
   "outputs": [
    {
     "name": "stdout",
     "output_type": "stream",
     "text": [
      "\u001b[31mBenefits AU.pdf\u001b[m\u001b[m\r\n",
      "\u001b[31mData Scientist.pdf\u001b[m\u001b[m\r\n",
      "\u001b[31mMYOB data challenge[2].pdf\u001b[m\u001b[m\r\n",
      "MYOB_data_challenge_modelling_oversampled_data.ipynb\r\n",
      "MYOB_data_challenge_preprocessing.ipynb\r\n",
      "\u001b[34mcLiML\u001b[m\u001b[m\r\n",
      "\u001b[34mcatboost_info\u001b[m\u001b[m\r\n",
      "\u001b[31mmyob_challenge_dataset.csv\u001b[m\u001b[m\r\n",
      "\u001b[31mmyob_challenge_dataset.csv[2].gz\u001b[m\u001b[m\r\n",
      "\u001b[34moriginal_data\u001b[m\u001b[m\r\n",
      "\u001b[34moversampled_data\u001b[m\u001b[m\r\n",
      "\u001b[34mundersampled_data\u001b[m\u001b[m\r\n"
     ]
    }
   ],
   "source": [
    "!ls"
   ]
  },
  {
   "cell_type": "markdown",
   "metadata": {},
   "source": [
    "### Loading and extracting the data"
   ]
  },
  {
   "cell_type": "code",
   "execution_count": 3,
   "metadata": {},
   "outputs": [],
   "source": [
    "data = pd.read_csv('myob_challenge_dataset.csv')"
   ]
  },
  {
   "cell_type": "code",
   "execution_count": 4,
   "metadata": {},
   "outputs": [
    {
     "data": {
      "text/html": [
       "<div>\n",
       "<style scoped>\n",
       "    .dataframe tbody tr th:only-of-type {\n",
       "        vertical-align: middle;\n",
       "    }\n",
       "\n",
       "    .dataframe tbody tr th {\n",
       "        vertical-align: top;\n",
       "    }\n",
       "\n",
       "    .dataframe thead th {\n",
       "        text-align: right;\n",
       "    }\n",
       "</style>\n",
       "<table border=\"1\" class=\"dataframe\">\n",
       "  <thead>\n",
       "    <tr style=\"text-align: right;\">\n",
       "      <th></th>\n",
       "      <th>user_id</th>\n",
       "      <th>event_date</th>\n",
       "      <th>country</th>\n",
       "      <th>subscribed</th>\n",
       "      <th>payload</th>\n",
       "    </tr>\n",
       "  </thead>\n",
       "  <tbody>\n",
       "    <tr>\n",
       "      <th>0</th>\n",
       "      <td>e7a484c4-6a87-44b8-a4d4-87f0cba58f18</td>\n",
       "      <td>2017-07-23 04:46:53.433953</td>\n",
       "      <td>NZ</td>\n",
       "      <td>False</td>\n",
       "      <td>{\"analytics\": {\"device\": \"Desktop\", \"email_ope...</td>\n",
       "    </tr>\n",
       "    <tr>\n",
       "      <th>1</th>\n",
       "      <td>5c6d1410-6e36-4cf0-bef1-ffc150e3127b</td>\n",
       "      <td>2017-07-12 12:56:59.982910</td>\n",
       "      <td>NZ</td>\n",
       "      <td>False</td>\n",
       "      <td>{\"analytics\": {\"device\": \"Mobile\", \"email_open...</td>\n",
       "    </tr>\n",
       "    <tr>\n",
       "      <th>2</th>\n",
       "      <td>71207879-645a-4e41-bd46-133ba26524bf</td>\n",
       "      <td>2017-07-21 16:51:50.866545</td>\n",
       "      <td>NZ</td>\n",
       "      <td>False</td>\n",
       "      <td>{\"analytics\": {\"device\": \"Mobile\", \"email_open...</td>\n",
       "    </tr>\n",
       "    <tr>\n",
       "      <th>3</th>\n",
       "      <td>41219462-d4c1-4c94-ac21-7b7846298de5</td>\n",
       "      <td>2017-07-08 21:53:13.940203</td>\n",
       "      <td>NZ</td>\n",
       "      <td>False</td>\n",
       "      <td>{\"analytics\": {\"device\": \"Mobile\", \"email_open...</td>\n",
       "    </tr>\n",
       "    <tr>\n",
       "      <th>4</th>\n",
       "      <td>2eb9a1fe-58e4-4793-8e73-91595d52dacf</td>\n",
       "      <td>2017-08-09 14:23:23.109747</td>\n",
       "      <td>NZ</td>\n",
       "      <td>False</td>\n",
       "      <td>{\"analytics\": {\"device\": \"Mobile\", \"email_open...</td>\n",
       "    </tr>\n",
       "  </tbody>\n",
       "</table>\n",
       "</div>"
      ],
      "text/plain": [
       "                                user_id                  event_date country  \\\n",
       "0  e7a484c4-6a87-44b8-a4d4-87f0cba58f18  2017-07-23 04:46:53.433953      NZ   \n",
       "1  5c6d1410-6e36-4cf0-bef1-ffc150e3127b  2017-07-12 12:56:59.982910      NZ   \n",
       "2  71207879-645a-4e41-bd46-133ba26524bf  2017-07-21 16:51:50.866545      NZ   \n",
       "3  41219462-d4c1-4c94-ac21-7b7846298de5  2017-07-08 21:53:13.940203      NZ   \n",
       "4  2eb9a1fe-58e4-4793-8e73-91595d52dacf  2017-08-09 14:23:23.109747      NZ   \n",
       "\n",
       "   subscribed                                            payload  \n",
       "0       False  {\"analytics\": {\"device\": \"Desktop\", \"email_ope...  \n",
       "1       False  {\"analytics\": {\"device\": \"Mobile\", \"email_open...  \n",
       "2       False  {\"analytics\": {\"device\": \"Mobile\", \"email_open...  \n",
       "3       False  {\"analytics\": {\"device\": \"Mobile\", \"email_open...  \n",
       "4       False  {\"analytics\": {\"device\": \"Mobile\", \"email_open...  "
      ]
     },
     "execution_count": 4,
     "metadata": {},
     "output_type": "execute_result"
    }
   ],
   "source": [
    "data.head()"
   ]
  },
  {
   "cell_type": "markdown",
   "metadata": {},
   "source": [
    "### Further extract the data out of the \"payload\" column, and concat back to the original dataframe."
   ]
  },
  {
   "cell_type": "code",
   "execution_count": 5,
   "metadata": {},
   "outputs": [],
   "source": [
    "payload = data.payload.values"
   ]
  },
  {
   "cell_type": "code",
   "execution_count": 6,
   "metadata": {},
   "outputs": [
    {
     "data": {
      "text/plain": [
       "(50000, 5)"
      ]
     },
     "execution_count": 6,
     "metadata": {},
     "output_type": "execute_result"
    }
   ],
   "source": [
    "data.shape"
   ]
  },
  {
   "cell_type": "code",
   "execution_count": 7,
   "metadata": {},
   "outputs": [],
   "source": [
    "devices = []\n",
    "email_open_rate_percents = []\n",
    "referrer_channels = []\n",
    "campaigns = []\n",
    "industries = []\n",
    "time_in_product_mins = []\n",
    "user_ids = []\n",
    "\n",
    "for i,item in enumerate(payload):\n",
    "    user_ids.append(data.user_id.values[i])\n",
    "    item_dict = json.loads(item)\n",
    "    analytics = item_dict['analytics']\n",
    "    \n",
    "    devices.append(analytics['device'])\n",
    "    email_open_rate_percents.append(analytics['email_open_rate_percent'])\n",
    "    referrer_channels.append(analytics['referrer_channel'])\n",
    "    campaigns.append(analytics['campaign'])\n",
    "    \n",
    "    industries.append(item_dict['industry'])\n",
    "    time_in_product_mins.append(item_dict['time_in_product_mins'])\n",
    "    \n",
    "    \n",
    "    \n",
    "    "
   ]
  },
  {
   "cell_type": "code",
   "execution_count": 8,
   "metadata": {},
   "outputs": [],
   "source": [
    "extracted_data = pd.DataFrame({'user_id': user_ids,\n",
    "                              'devices': devices,\n",
    "                              'email_open_rate': email_open_rate_percents,\n",
    "                              'referrer_channels': referrer_channels,\n",
    "                              'campaigns': campaigns,\n",
    "                              'industries': industries,\n",
    "                              'time_in_product_mins': time_in_product_mins})"
   ]
  },
  {
   "cell_type": "code",
   "execution_count": 9,
   "metadata": {},
   "outputs": [],
   "source": [
    "all_data = data.merge(extracted_data, how = 'left',on = 'user_id')"
   ]
  },
  {
   "cell_type": "code",
   "execution_count": 10,
   "metadata": {},
   "outputs": [],
   "source": [
    "all_data.drop(columns = ['payload'], inplace = True)"
   ]
  },
  {
   "cell_type": "code",
   "execution_count": 11,
   "metadata": {},
   "outputs": [
    {
     "data": {
      "text/html": [
       "<div>\n",
       "<style scoped>\n",
       "    .dataframe tbody tr th:only-of-type {\n",
       "        vertical-align: middle;\n",
       "    }\n",
       "\n",
       "    .dataframe tbody tr th {\n",
       "        vertical-align: top;\n",
       "    }\n",
       "\n",
       "    .dataframe thead th {\n",
       "        text-align: right;\n",
       "    }\n",
       "</style>\n",
       "<table border=\"1\" class=\"dataframe\">\n",
       "  <thead>\n",
       "    <tr style=\"text-align: right;\">\n",
       "      <th></th>\n",
       "      <th>user_id</th>\n",
       "      <th>event_date</th>\n",
       "      <th>country</th>\n",
       "      <th>subscribed</th>\n",
       "      <th>devices</th>\n",
       "      <th>email_open_rate</th>\n",
       "      <th>referrer_channels</th>\n",
       "      <th>campaigns</th>\n",
       "      <th>industries</th>\n",
       "      <th>time_in_product_mins</th>\n",
       "    </tr>\n",
       "  </thead>\n",
       "  <tbody>\n",
       "    <tr>\n",
       "      <th>0</th>\n",
       "      <td>e7a484c4-6a87-44b8-a4d4-87f0cba58f18</td>\n",
       "      <td>2017-07-23 04:46:53.433953</td>\n",
       "      <td>NZ</td>\n",
       "      <td>False</td>\n",
       "      <td>Desktop</td>\n",
       "      <td>14.0</td>\n",
       "      <td>Organic</td>\n",
       "      <td>au_nz_eofy</td>\n",
       "      <td>Construction</td>\n",
       "      <td>62.45</td>\n",
       "    </tr>\n",
       "    <tr>\n",
       "      <th>1</th>\n",
       "      <td>5c6d1410-6e36-4cf0-bef1-ffc150e3127b</td>\n",
       "      <td>2017-07-12 12:56:59.982910</td>\n",
       "      <td>NZ</td>\n",
       "      <td>False</td>\n",
       "      <td>Mobile</td>\n",
       "      <td>23.0</td>\n",
       "      <td>Direct</td>\n",
       "      <td>au_nz_mobile_product_launch</td>\n",
       "      <td>Education</td>\n",
       "      <td>19.35</td>\n",
       "    </tr>\n",
       "    <tr>\n",
       "      <th>2</th>\n",
       "      <td>71207879-645a-4e41-bd46-133ba26524bf</td>\n",
       "      <td>2017-07-21 16:51:50.866545</td>\n",
       "      <td>NZ</td>\n",
       "      <td>False</td>\n",
       "      <td>Mobile</td>\n",
       "      <td>97.0</td>\n",
       "      <td>Paid adversiting</td>\n",
       "      <td>au_nz_mobile_product_launch</td>\n",
       "      <td>Education</td>\n",
       "      <td>76.48</td>\n",
       "    </tr>\n",
       "    <tr>\n",
       "      <th>3</th>\n",
       "      <td>41219462-d4c1-4c94-ac21-7b7846298de5</td>\n",
       "      <td>2017-07-08 21:53:13.940203</td>\n",
       "      <td>NZ</td>\n",
       "      <td>False</td>\n",
       "      <td>Mobile</td>\n",
       "      <td>57.0</td>\n",
       "      <td>Paid adversiting</td>\n",
       "      <td>au_nz_mobile_product_launch</td>\n",
       "      <td>Construction</td>\n",
       "      <td>22.53</td>\n",
       "    </tr>\n",
       "    <tr>\n",
       "      <th>4</th>\n",
       "      <td>2eb9a1fe-58e4-4793-8e73-91595d52dacf</td>\n",
       "      <td>2017-08-09 14:23:23.109747</td>\n",
       "      <td>NZ</td>\n",
       "      <td>False</td>\n",
       "      <td>Mobile</td>\n",
       "      <td>83.0</td>\n",
       "      <td>Direct</td>\n",
       "      <td>au_nz_mobile_product_launch</td>\n",
       "      <td>Construction</td>\n",
       "      <td>24.50</td>\n",
       "    </tr>\n",
       "  </tbody>\n",
       "</table>\n",
       "</div>"
      ],
      "text/plain": [
       "                                user_id                  event_date country  \\\n",
       "0  e7a484c4-6a87-44b8-a4d4-87f0cba58f18  2017-07-23 04:46:53.433953      NZ   \n",
       "1  5c6d1410-6e36-4cf0-bef1-ffc150e3127b  2017-07-12 12:56:59.982910      NZ   \n",
       "2  71207879-645a-4e41-bd46-133ba26524bf  2017-07-21 16:51:50.866545      NZ   \n",
       "3  41219462-d4c1-4c94-ac21-7b7846298de5  2017-07-08 21:53:13.940203      NZ   \n",
       "4  2eb9a1fe-58e4-4793-8e73-91595d52dacf  2017-08-09 14:23:23.109747      NZ   \n",
       "\n",
       "   subscribed  devices  email_open_rate referrer_channels  \\\n",
       "0       False  Desktop             14.0           Organic   \n",
       "1       False   Mobile             23.0            Direct   \n",
       "2       False   Mobile             97.0  Paid adversiting   \n",
       "3       False   Mobile             57.0  Paid adversiting   \n",
       "4       False   Mobile             83.0            Direct   \n",
       "\n",
       "                     campaigns    industries  time_in_product_mins  \n",
       "0                   au_nz_eofy  Construction                 62.45  \n",
       "1  au_nz_mobile_product_launch     Education                 19.35  \n",
       "2  au_nz_mobile_product_launch     Education                 76.48  \n",
       "3  au_nz_mobile_product_launch  Construction                 22.53  \n",
       "4  au_nz_mobile_product_launch  Construction                 24.50  "
      ]
     },
     "execution_count": 11,
     "metadata": {},
     "output_type": "execute_result"
    }
   ],
   "source": [
    "all_data.head()"
   ]
  },
  {
   "cell_type": "markdown",
   "metadata": {},
   "source": [
    "### Checking data integrity and clean data if necessary"
   ]
  },
  {
   "cell_type": "code",
   "execution_count": 12,
   "metadata": {},
   "outputs": [
    {
     "data": {
      "text/html": [
       "<div>\n",
       "<style scoped>\n",
       "    .dataframe tbody tr th:only-of-type {\n",
       "        vertical-align: middle;\n",
       "    }\n",
       "\n",
       "    .dataframe tbody tr th {\n",
       "        vertical-align: top;\n",
       "    }\n",
       "\n",
       "    .dataframe thead th {\n",
       "        text-align: right;\n",
       "    }\n",
       "</style>\n",
       "<table border=\"1\" class=\"dataframe\">\n",
       "  <thead>\n",
       "    <tr style=\"text-align: right;\">\n",
       "      <th></th>\n",
       "      <th>user_id</th>\n",
       "      <th>event_date</th>\n",
       "      <th>country</th>\n",
       "      <th>subscribed</th>\n",
       "      <th>devices</th>\n",
       "      <th>email_open_rate</th>\n",
       "      <th>referrer_channels</th>\n",
       "      <th>campaigns</th>\n",
       "      <th>industries</th>\n",
       "      <th>time_in_product_mins</th>\n",
       "    </tr>\n",
       "  </thead>\n",
       "  <tbody>\n",
       "    <tr>\n",
       "      <th>0</th>\n",
       "      <td>e7a484c4-6a87-44b8-a4d4-87f0cba58f18</td>\n",
       "      <td>2017-07-23 04:46:53.433953</td>\n",
       "      <td>NZ</td>\n",
       "      <td>False</td>\n",
       "      <td>Desktop</td>\n",
       "      <td>14.0</td>\n",
       "      <td>Organic</td>\n",
       "      <td>au_nz_eofy</td>\n",
       "      <td>Construction</td>\n",
       "      <td>62.45</td>\n",
       "    </tr>\n",
       "    <tr>\n",
       "      <th>1</th>\n",
       "      <td>5c6d1410-6e36-4cf0-bef1-ffc150e3127b</td>\n",
       "      <td>2017-07-12 12:56:59.982910</td>\n",
       "      <td>NZ</td>\n",
       "      <td>False</td>\n",
       "      <td>Mobile</td>\n",
       "      <td>23.0</td>\n",
       "      <td>Direct</td>\n",
       "      <td>au_nz_mobile_product_launch</td>\n",
       "      <td>Education</td>\n",
       "      <td>19.35</td>\n",
       "    </tr>\n",
       "    <tr>\n",
       "      <th>2</th>\n",
       "      <td>71207879-645a-4e41-bd46-133ba26524bf</td>\n",
       "      <td>2017-07-21 16:51:50.866545</td>\n",
       "      <td>NZ</td>\n",
       "      <td>False</td>\n",
       "      <td>Mobile</td>\n",
       "      <td>97.0</td>\n",
       "      <td>Paid adversiting</td>\n",
       "      <td>au_nz_mobile_product_launch</td>\n",
       "      <td>Education</td>\n",
       "      <td>76.48</td>\n",
       "    </tr>\n",
       "    <tr>\n",
       "      <th>3</th>\n",
       "      <td>41219462-d4c1-4c94-ac21-7b7846298de5</td>\n",
       "      <td>2017-07-08 21:53:13.940203</td>\n",
       "      <td>NZ</td>\n",
       "      <td>False</td>\n",
       "      <td>Mobile</td>\n",
       "      <td>57.0</td>\n",
       "      <td>Paid adversiting</td>\n",
       "      <td>au_nz_mobile_product_launch</td>\n",
       "      <td>Construction</td>\n",
       "      <td>22.53</td>\n",
       "    </tr>\n",
       "    <tr>\n",
       "      <th>4</th>\n",
       "      <td>2eb9a1fe-58e4-4793-8e73-91595d52dacf</td>\n",
       "      <td>2017-08-09 14:23:23.109747</td>\n",
       "      <td>NZ</td>\n",
       "      <td>False</td>\n",
       "      <td>Mobile</td>\n",
       "      <td>83.0</td>\n",
       "      <td>Direct</td>\n",
       "      <td>au_nz_mobile_product_launch</td>\n",
       "      <td>Construction</td>\n",
       "      <td>24.50</td>\n",
       "    </tr>\n",
       "  </tbody>\n",
       "</table>\n",
       "</div>"
      ],
      "text/plain": [
       "                                user_id                  event_date country  \\\n",
       "0  e7a484c4-6a87-44b8-a4d4-87f0cba58f18  2017-07-23 04:46:53.433953      NZ   \n",
       "1  5c6d1410-6e36-4cf0-bef1-ffc150e3127b  2017-07-12 12:56:59.982910      NZ   \n",
       "2  71207879-645a-4e41-bd46-133ba26524bf  2017-07-21 16:51:50.866545      NZ   \n",
       "3  41219462-d4c1-4c94-ac21-7b7846298de5  2017-07-08 21:53:13.940203      NZ   \n",
       "4  2eb9a1fe-58e4-4793-8e73-91595d52dacf  2017-08-09 14:23:23.109747      NZ   \n",
       "\n",
       "   subscribed  devices  email_open_rate referrer_channels  \\\n",
       "0       False  Desktop             14.0           Organic   \n",
       "1       False   Mobile             23.0            Direct   \n",
       "2       False   Mobile             97.0  Paid adversiting   \n",
       "3       False   Mobile             57.0  Paid adversiting   \n",
       "4       False   Mobile             83.0            Direct   \n",
       "\n",
       "                     campaigns    industries  time_in_product_mins  \n",
       "0                   au_nz_eofy  Construction                 62.45  \n",
       "1  au_nz_mobile_product_launch     Education                 19.35  \n",
       "2  au_nz_mobile_product_launch     Education                 76.48  \n",
       "3  au_nz_mobile_product_launch  Construction                 22.53  \n",
       "4  au_nz_mobile_product_launch  Construction                 24.50  "
      ]
     },
     "execution_count": 12,
     "metadata": {},
     "output_type": "execute_result"
    }
   ],
   "source": [
    "all_data.head()"
   ]
  },
  {
   "cell_type": "code",
   "execution_count": 13,
   "metadata": {},
   "outputs": [
    {
     "data": {
      "text/plain": [
       "(50000, 10)"
      ]
     },
     "execution_count": 13,
     "metadata": {},
     "output_type": "execute_result"
    }
   ],
   "source": [
    "all_data.shape"
   ]
  },
  {
   "cell_type": "code",
   "execution_count": 14,
   "metadata": {},
   "outputs": [
    {
     "data": {
      "text/plain": [
       "user_id                    0\n",
       "event_date                 0\n",
       "country                    0\n",
       "subscribed                 0\n",
       "devices                    0\n",
       "email_open_rate            0\n",
       "referrer_channels       5028\n",
       "campaigns                  0\n",
       "industries                 0\n",
       "time_in_product_mins       0\n",
       "dtype: int64"
      ]
     },
     "execution_count": 14,
     "metadata": {},
     "output_type": "execute_result"
    }
   ],
   "source": [
    "## check for any missing values\n",
    "all_data.isnull().sum()"
   ]
  },
  {
   "cell_type": "markdown",
   "metadata": {},
   "source": [
    "#### Note:\n",
    "About 10% of the referrer_channel is missing. For now, these missing value are given a string value of 'none'. Will use this as an extra category for referrer channel for now. "
   ]
  },
  {
   "cell_type": "code",
   "execution_count": 15,
   "metadata": {},
   "outputs": [
    {
     "data": {
      "text/plain": [
       "array(['Organic', 'Direct', 'Paid adversiting', None], dtype=object)"
      ]
     },
     "execution_count": 15,
     "metadata": {},
     "output_type": "execute_result"
    }
   ],
   "source": [
    "all_data['referrer_channels'].unique()"
   ]
  },
  {
   "cell_type": "code",
   "execution_count": 16,
   "metadata": {},
   "outputs": [],
   "source": [
    "all_data['referrer_channels'].fillna('None', inplace = True)"
   ]
  },
  {
   "cell_type": "code",
   "execution_count": 17,
   "metadata": {},
   "outputs": [
    {
     "data": {
      "text/plain": [
       "user_id                 0\n",
       "event_date              0\n",
       "country                 0\n",
       "subscribed              0\n",
       "devices                 0\n",
       "email_open_rate         0\n",
       "referrer_channels       0\n",
       "campaigns               0\n",
       "industries              0\n",
       "time_in_product_mins    0\n",
       "dtype: int64"
      ]
     },
     "execution_count": 17,
     "metadata": {},
     "output_type": "execute_result"
    }
   ],
   "source": [
    "all_data.isnull().sum()"
   ]
  },
  {
   "cell_type": "markdown",
   "metadata": {},
   "source": [
    "### Removing unnecessary columns"
   ]
  },
  {
   "cell_type": "code",
   "execution_count": 18,
   "metadata": {},
   "outputs": [
    {
     "data": {
      "text/html": [
       "<div>\n",
       "<style scoped>\n",
       "    .dataframe tbody tr th:only-of-type {\n",
       "        vertical-align: middle;\n",
       "    }\n",
       "\n",
       "    .dataframe tbody tr th {\n",
       "        vertical-align: top;\n",
       "    }\n",
       "\n",
       "    .dataframe thead th {\n",
       "        text-align: right;\n",
       "    }\n",
       "</style>\n",
       "<table border=\"1\" class=\"dataframe\">\n",
       "  <thead>\n",
       "    <tr style=\"text-align: right;\">\n",
       "      <th></th>\n",
       "      <th>user_id</th>\n",
       "      <th>event_date</th>\n",
       "      <th>country</th>\n",
       "      <th>subscribed</th>\n",
       "      <th>devices</th>\n",
       "      <th>email_open_rate</th>\n",
       "      <th>referrer_channels</th>\n",
       "      <th>campaigns</th>\n",
       "      <th>industries</th>\n",
       "      <th>time_in_product_mins</th>\n",
       "    </tr>\n",
       "  </thead>\n",
       "  <tbody>\n",
       "    <tr>\n",
       "      <th>0</th>\n",
       "      <td>e7a484c4-6a87-44b8-a4d4-87f0cba58f18</td>\n",
       "      <td>2017-07-23 04:46:53.433953</td>\n",
       "      <td>NZ</td>\n",
       "      <td>False</td>\n",
       "      <td>Desktop</td>\n",
       "      <td>14.0</td>\n",
       "      <td>Organic</td>\n",
       "      <td>au_nz_eofy</td>\n",
       "      <td>Construction</td>\n",
       "      <td>62.45</td>\n",
       "    </tr>\n",
       "  </tbody>\n",
       "</table>\n",
       "</div>"
      ],
      "text/plain": [
       "                                user_id                  event_date country  \\\n",
       "0  e7a484c4-6a87-44b8-a4d4-87f0cba58f18  2017-07-23 04:46:53.433953      NZ   \n",
       "\n",
       "   subscribed  devices  email_open_rate referrer_channels   campaigns  \\\n",
       "0       False  Desktop             14.0           Organic  au_nz_eofy   \n",
       "\n",
       "     industries  time_in_product_mins  \n",
       "0  Construction                 62.45  "
      ]
     },
     "execution_count": 18,
     "metadata": {},
     "output_type": "execute_result"
    }
   ],
   "source": [
    "all_data.head(1)"
   ]
  },
  {
   "cell_type": "markdown",
   "metadata": {},
   "source": [
    "To be removed:\n",
    "event_date: This is the date and time when the user subscribed. This cannot be used as a predictor.\n"
   ]
  },
  {
   "cell_type": "code",
   "execution_count": 19,
   "metadata": {},
   "outputs": [],
   "source": [
    "all_data.drop(columns = ['event_date'], inplace = True)"
   ]
  },
  {
   "cell_type": "markdown",
   "metadata": {},
   "source": [
    "### EDA"
   ]
  },
  {
   "cell_type": "code",
   "execution_count": 20,
   "metadata": {},
   "outputs": [],
   "source": [
    "from sklearn.preprocessing import LabelEncoder"
   ]
  },
  {
   "cell_type": "code",
   "execution_count": 21,
   "metadata": {},
   "outputs": [],
   "source": [
    "le = LabelEncoder()\n",
    "all_data['target'] = le.fit_transform(all_data['subscribed'])"
   ]
  },
  {
   "cell_type": "code",
   "execution_count": 22,
   "metadata": {},
   "outputs": [
    {
     "data": {
      "text/plain": [
       "(14827,)"
      ]
     },
     "execution_count": 22,
     "metadata": {},
     "output_type": "execute_result"
    }
   ],
   "source": [
    "all_data['target'][all_data['target'] == 1].shape"
   ]
  },
  {
   "cell_type": "code",
   "execution_count": 23,
   "metadata": {},
   "outputs": [
    {
     "data": {
      "text/plain": [
       "(35173,)"
      ]
     },
     "execution_count": 23,
     "metadata": {},
     "output_type": "execute_result"
    }
   ],
   "source": [
    "all_data['target'][all_data['target'] == 0].shape"
   ]
  },
  {
   "cell_type": "markdown",
   "metadata": {},
   "source": [
    "Note: class is inbalanced, will resample the smaller class later on"
   ]
  },
  {
   "cell_type": "markdown",
   "metadata": {},
   "source": [
    "#### EDA of categorical data"
   ]
  },
  {
   "cell_type": "code",
   "execution_count": 24,
   "metadata": {},
   "outputs": [],
   "source": [
    "from cLiML.eda import edaCategorical"
   ]
  },
  {
   "cell_type": "markdown",
   "metadata": {},
   "source": [
    "Note: Through out this analysis I will be using a lot of pre-written code from my own library \"cLiML\". This library is attached in this folder, so you can check out the code if you want."
   ]
  },
  {
   "cell_type": "code",
   "execution_count": 100,
   "metadata": {},
   "outputs": [
    {
     "data": {
      "image/png": "[encoded data removed]",
      "text/plain": [
       "<Figure size 1152x1728 with 6 Axes>"
      ]
     },
     "metadata": {},
     "output_type": "display_data"
    }
   ],
   "source": [
    "edaCategorical(all_data[['country','devices','referrer_channels','campaigns','industries','target']], target = 'target', aggre='mean', max_y_axis= 0.5)"
   ]
  },
  {
   "cell_type": "code",
   "execution_count": 110,
   "metadata": {},
   "outputs": [
    {
     "data": {
      "text/plain": [
       "<matplotlib.legend.Legend at 0x1a1b3947f0>"
      ]
     },
     "execution_count": 110,
     "metadata": {},
     "output_type": "execute_result"
    },
    {
     "data": {
      "image/png": "[encoded data removed]",
      "text/plain": [
       "<Figure size 1296x648 with 1 Axes>"
      ]
     },
     "metadata": {},
     "output_type": "display_data"
    }
   ],
   "source": [
    "ax = all_data.groupby('devices')[['target']].mean().plot(kind = 'bar',figsize = (18,9))\n",
    "ax.set_title('Probability of subscription based on device',\n",
    "            fontsize = 18)\n",
    "ax.set_ylabel('Probability of subscription', fontsize = 16)\n",
    "ax.set_xlabel('Devices', fontsize = 16)\n",
    "ax.tick_params(labelsize=16)\n",
    "ax.legend(loc=1, prop={'size': 16})"
   ]
  },
  {
   "cell_type": "code",
   "execution_count": 112,
   "metadata": {},
   "outputs": [
    {
     "data": {
      "text/plain": [
       "<matplotlib.legend.Legend at 0x1a1f271c88>"
      ]
     },
     "execution_count": 112,
     "metadata": {},
     "output_type": "execute_result"
    },
    {
     "data": {
      "image/png": "[encoded data removed]",
      "text/plain": [
       "<Figure size 1296x648 with 1 Axes>"
      ]
     },
     "metadata": {},
     "output_type": "display_data"
    }
   ],
   "source": [
    "ax = all_data.groupby('referrer_channels')[['target']].mean().plot(kind = 'bar',figsize = (18,9))\n",
    "ax.set_title('Probability of subscription based on referrer channels',\n",
    "            fontsize = 18)\n",
    "ax.set_ylabel('Probability of subscription', fontsize = 16)\n",
    "ax.set_xlabel('Referrer', fontsize = 16)\n",
    "ax.tick_params(labelsize=16)\n",
    "ax.legend(loc=1, prop={'size': 16})"
   ]
  },
  {
   "cell_type": "markdown",
   "metadata": {},
   "source": [
    "Each of the categorical variable's mean value is ploted against our target variable. From looking at above plots, it is clear that none of the categorical variables are going to be great predictors. Some points to note is that:\n",
    "- For advertising: Direct method is marginally better than all others.\n",
    "- For devices: Users using a desktop is more likely to signup.\n",
    "\n",
    "Both of these observations do make some sense. However we must be skeptical if these observation mean much, it is not yet sure if these difference are statistically significant. For that we will need to conduct a t-test. Which I will perform if time permits."
   ]
  },
  {
   "cell_type": "code",
   "execution_count": 26,
   "metadata": {},
   "outputs": [
    {
     "data": {
      "text/html": [
       "<div>\n",
       "<style scoped>\n",
       "    .dataframe tbody tr th:only-of-type {\n",
       "        vertical-align: middle;\n",
       "    }\n",
       "\n",
       "    .dataframe tbody tr th {\n",
       "        vertical-align: top;\n",
       "    }\n",
       "\n",
       "    .dataframe thead th {\n",
       "        text-align: right;\n",
       "    }\n",
       "</style>\n",
       "<table border=\"1\" class=\"dataframe\">\n",
       "  <thead>\n",
       "    <tr style=\"text-align: right;\">\n",
       "      <th></th>\n",
       "      <th>user_id</th>\n",
       "      <th>country</th>\n",
       "      <th>subscribed</th>\n",
       "      <th>devices</th>\n",
       "      <th>email_open_rate</th>\n",
       "      <th>referrer_channels</th>\n",
       "      <th>campaigns</th>\n",
       "      <th>industries</th>\n",
       "      <th>time_in_product_mins</th>\n",
       "      <th>target</th>\n",
       "    </tr>\n",
       "  </thead>\n",
       "  <tbody>\n",
       "    <tr>\n",
       "      <th>0</th>\n",
       "      <td>e7a484c4-6a87-44b8-a4d4-87f0cba58f18</td>\n",
       "      <td>NZ</td>\n",
       "      <td>False</td>\n",
       "      <td>Desktop</td>\n",
       "      <td>14.0</td>\n",
       "      <td>Organic</td>\n",
       "      <td>au_nz_eofy</td>\n",
       "      <td>Construction</td>\n",
       "      <td>62.45</td>\n",
       "      <td>0</td>\n",
       "    </tr>\n",
       "    <tr>\n",
       "      <th>1</th>\n",
       "      <td>5c6d1410-6e36-4cf0-bef1-ffc150e3127b</td>\n",
       "      <td>NZ</td>\n",
       "      <td>False</td>\n",
       "      <td>Mobile</td>\n",
       "      <td>23.0</td>\n",
       "      <td>Direct</td>\n",
       "      <td>au_nz_mobile_product_launch</td>\n",
       "      <td>Education</td>\n",
       "      <td>19.35</td>\n",
       "      <td>0</td>\n",
       "    </tr>\n",
       "  </tbody>\n",
       "</table>\n",
       "</div>"
      ],
      "text/plain": [
       "                                user_id country  subscribed  devices  \\\n",
       "0  e7a484c4-6a87-44b8-a4d4-87f0cba58f18      NZ       False  Desktop   \n",
       "1  5c6d1410-6e36-4cf0-bef1-ffc150e3127b      NZ       False   Mobile   \n",
       "\n",
       "   email_open_rate referrer_channels                    campaigns  \\\n",
       "0             14.0           Organic                   au_nz_eofy   \n",
       "1             23.0            Direct  au_nz_mobile_product_launch   \n",
       "\n",
       "     industries  time_in_product_mins  target  \n",
       "0  Construction                 62.45       0  \n",
       "1     Education                 19.35       0  "
      ]
     },
     "execution_count": 26,
     "metadata": {},
     "output_type": "execute_result"
    }
   ],
   "source": [
    "all_data.head(2)"
   ]
  },
  {
   "cell_type": "markdown",
   "metadata": {},
   "source": [
    "#### Test for statistical significance"
   ]
  },
  {
   "cell_type": "code",
   "execution_count": 27,
   "metadata": {},
   "outputs": [],
   "source": [
    "desktop_data = all_data[all_data['devices'] == 'Desktop']['target']"
   ]
  },
  {
   "cell_type": "code",
   "execution_count": 28,
   "metadata": {},
   "outputs": [],
   "source": [
    "mobile_data = all_data[all_data['devices'] == 'Mobile']['target']"
   ]
  },
  {
   "cell_type": "code",
   "execution_count": 29,
   "metadata": {},
   "outputs": [
    {
     "name": "stdout",
     "output_type": "stream",
     "text": [
      "t-value  15.987310104987017\n",
      "p-value  1.088776550943369e-57\n"
     ]
    }
   ],
   "source": [
    "from scipy.stats import stats\n",
    "\n",
    "#p-value is divided by 2 as we are doing a one tail test\n",
    "t_value = stats.ttest_ind(desktop_data, mobile_data, equal_var = False)[0]\n",
    "p_value = stats.ttest_ind(desktop_data, mobile_data, equal_var = False)[1]/2\n",
    "print('t-value ', t_value)\n",
    "print('p-value ', p_value)"
   ]
  },
  {
   "cell_type": "markdown",
   "metadata": {},
   "source": [
    "Here we conducted a t-test to see if Desktop users are indeed more likely to subscribe than Mobile users. So the Null hypothesis is that Desktop users are NOT more likely to subscribe than Mobile users. We got a t values of 15.8, which means that the difference between the Desktop and Mobile data is 15.8 greater than the difference within them selves. Also the p-value is extremely small, much smaller than 5%, so the probability that the difference we are seeing were caused by chance is very low. Therefore the Null hypothesis is reject.\n",
    "\n",
    "People using Desktop device are indeed more likely to purchase subscription than a Mobile device user."
   ]
  },
  {
   "cell_type": "code",
   "execution_count": 30,
   "metadata": {},
   "outputs": [
    {
     "data": {
      "text/html": [
       "<div>\n",
       "<style scoped>\n",
       "    .dataframe tbody tr th:only-of-type {\n",
       "        vertical-align: middle;\n",
       "    }\n",
       "\n",
       "    .dataframe tbody tr th {\n",
       "        vertical-align: top;\n",
       "    }\n",
       "\n",
       "    .dataframe thead th {\n",
       "        text-align: right;\n",
       "    }\n",
       "</style>\n",
       "<table border=\"1\" class=\"dataframe\">\n",
       "  <thead>\n",
       "    <tr style=\"text-align: right;\">\n",
       "      <th></th>\n",
       "      <th>user_id</th>\n",
       "      <th>country</th>\n",
       "      <th>subscribed</th>\n",
       "      <th>devices</th>\n",
       "      <th>email_open_rate</th>\n",
       "      <th>referrer_channels</th>\n",
       "      <th>campaigns</th>\n",
       "      <th>industries</th>\n",
       "      <th>time_in_product_mins</th>\n",
       "      <th>target</th>\n",
       "    </tr>\n",
       "  </thead>\n",
       "  <tbody>\n",
       "    <tr>\n",
       "      <th>0</th>\n",
       "      <td>e7a484c4-6a87-44b8-a4d4-87f0cba58f18</td>\n",
       "      <td>NZ</td>\n",
       "      <td>False</td>\n",
       "      <td>Desktop</td>\n",
       "      <td>14.0</td>\n",
       "      <td>Organic</td>\n",
       "      <td>au_nz_eofy</td>\n",
       "      <td>Construction</td>\n",
       "      <td>62.45</td>\n",
       "      <td>0</td>\n",
       "    </tr>\n",
       "    <tr>\n",
       "      <th>1</th>\n",
       "      <td>5c6d1410-6e36-4cf0-bef1-ffc150e3127b</td>\n",
       "      <td>NZ</td>\n",
       "      <td>False</td>\n",
       "      <td>Mobile</td>\n",
       "      <td>23.0</td>\n",
       "      <td>Direct</td>\n",
       "      <td>au_nz_mobile_product_launch</td>\n",
       "      <td>Education</td>\n",
       "      <td>19.35</td>\n",
       "      <td>0</td>\n",
       "    </tr>\n",
       "  </tbody>\n",
       "</table>\n",
       "</div>"
      ],
      "text/plain": [
       "                                user_id country  subscribed  devices  \\\n",
       "0  e7a484c4-6a87-44b8-a4d4-87f0cba58f18      NZ       False  Desktop   \n",
       "1  5c6d1410-6e36-4cf0-bef1-ffc150e3127b      NZ       False   Mobile   \n",
       "\n",
       "   email_open_rate referrer_channels                    campaigns  \\\n",
       "0             14.0           Organic                   au_nz_eofy   \n",
       "1             23.0            Direct  au_nz_mobile_product_launch   \n",
       "\n",
       "     industries  time_in_product_mins  target  \n",
       "0  Construction                 62.45       0  \n",
       "1     Education                 19.35       0  "
      ]
     },
     "execution_count": 30,
     "metadata": {},
     "output_type": "execute_result"
    }
   ],
   "source": [
    "all_data.head(2)"
   ]
  },
  {
   "cell_type": "code",
   "execution_count": 31,
   "metadata": {},
   "outputs": [
    {
     "data": {
      "text/plain": [
       "array(['Organic', 'Direct', 'Paid adversiting', 'None'], dtype=object)"
      ]
     },
     "execution_count": 31,
     "metadata": {},
     "output_type": "execute_result"
    }
   ],
   "source": [
    "all_data['referrer_channels'].unique()"
   ]
  },
  {
   "cell_type": "code",
   "execution_count": 32,
   "metadata": {},
   "outputs": [],
   "source": [
    "Direct_data = all_data[all_data['referrer_channels'] == 'Direct']['target']\n",
    "Organic_data = all_data[all_data['referrer_channels'] == 'Organic']['target']\n",
    "Paid_data = all_data[all_data['referrer_channels'] == 'Paid adversiting']['target']\n",
    "None_data = all_data[all_data['referrer_channels'] == 'None']['target']"
   ]
  },
  {
   "cell_type": "code",
   "execution_count": 33,
   "metadata": {},
   "outputs": [
    {
     "name": "stdout",
     "output_type": "stream",
     "text": [
      "Direct vs Organic t-value  19.018593508910172\n",
      "Direct vs Organic p-value  2.0349070730190955e-80\n",
      "Direct vs Paid t-value  19.036127740916935\n",
      "Direct vs Paid p-value  1.4108436708773041e-80\n",
      "Direct vs None t-value  7.923701995649126\n",
      "Direct vs None p-value  1.2837433800340455e-15\n"
     ]
    }
   ],
   "source": [
    "t_value = stats.ttest_ind(Direct_data, Organic_data, equal_var = False)[0]\n",
    "p_value = stats.ttest_ind(Direct_data, Organic_data, equal_var = False)[1]/2\n",
    "print('Direct vs Organic t-value ', t_value)\n",
    "print('Direct vs Organic p-value ', p_value)\n",
    "\n",
    "t_value = stats.ttest_ind(Direct_data, Paid_data, equal_var = False)[0]\n",
    "p_value = stats.ttest_ind(Direct_data, Paid_data, equal_var = False)[1]/2\n",
    "print('Direct vs Paid t-value ', t_value)\n",
    "print('Direct vs Paid p-value ', p_value)\n",
    "\n",
    "t_value = stats.ttest_ind(Direct_data, None_data, equal_var = False)[0]\n",
    "p_value = stats.ttest_ind(Direct_data, None_data, equal_var = False)[1]/2\n",
    "print('Direct vs None t-value ', t_value)\n",
    "print('Direct vs None p-value ', p_value)"
   ]
  },
  {
   "cell_type": "markdown",
   "metadata": {},
   "source": [
    "From above series of ttests, it is clear that Direct referral method does indeed result in a higher probability of a user subscribing to the service."
   ]
  },
  {
   "cell_type": "markdown",
   "metadata": {},
   "source": [
    "#### EDA of continuous data"
   ]
  },
  {
   "cell_type": "code",
   "execution_count": 34,
   "metadata": {},
   "outputs": [
    {
     "data": {
      "text/plain": [
       "<matplotlib.axes._subplots.AxesSubplot at 0x1a1b73d048>"
      ]
     },
     "execution_count": 34,
     "metadata": {},
     "output_type": "execute_result"
    },
    {
     "data": {
      "image/png": "[encoded data removed]",
      "text/plain": [
       "<Figure size 432x288 with 1 Axes>"
      ]
     },
     "metadata": {},
     "output_type": "display_data"
    }
   ],
   "source": [
    "all_data.plot(kind = 'scatter', x = 'email_open_rate', y = 'target')"
   ]
  },
  {
   "cell_type": "code",
   "execution_count": 35,
   "metadata": {},
   "outputs": [
    {
     "data": {
      "text/plain": [
       "<matplotlib.axes._subplots.AxesSubplot at 0x1a1e687630>"
      ]
     },
     "execution_count": 35,
     "metadata": {},
     "output_type": "execute_result"
    },
    {
     "data": {
      "image/png": "[encoded data removed]",
      "text/plain": [
       "<Figure size 432x288 with 1 Axes>"
      ]
     },
     "metadata": {},
     "output_type": "display_data"
    }
   ],
   "source": [
    "all_data.plot(kind = 'scatter', x = 'time_in_product_mins', y = 'target')"
   ]
  },
  {
   "cell_type": "markdown",
   "metadata": {},
   "source": [
    "The above plots shows the relationship between our two continuous variables against our target. Again both of which doesn't show too much predictive power when trying to determine whether the user will subscribe or not.\n",
    "\n",
    "Some note so far:\n",
    "At this point, it is pretty obvious that machine-learning model isn't going to be very accurate, probably will be around 60% accuracy at most (assuming we later balance the class using over or down sampling)."
   ]
  },
  {
   "cell_type": "markdown",
   "metadata": {},
   "source": [
    "### Train Test Split"
   ]
  },
  {
   "cell_type": "markdown",
   "metadata": {},
   "source": [
    "Note: I like to perform Train Test split early, as that keeps the two dataset apart early, this way it prevents information leakage. An example of that is if one is to perform oversampling prior to doing train-test split, it is possible to have duplicated rows of data appearing in both training and test set. This will then cause the model to have an unrealistic level of accuracy."
   ]
  },
  {
   "cell_type": "code",
   "execution_count": 36,
   "metadata": {},
   "outputs": [
    {
     "data": {
      "text/plain": [
       "(50000, 10)"
      ]
     },
     "execution_count": 36,
     "metadata": {},
     "output_type": "execute_result"
    }
   ],
   "source": [
    "all_data.shape"
   ]
  },
  {
   "cell_type": "code",
   "execution_count": 37,
   "metadata": {},
   "outputs": [
    {
     "data": {
      "text/plain": [
       "user_id                  object\n",
       "country                  object\n",
       "subscribed                 bool\n",
       "devices                  object\n",
       "email_open_rate         float64\n",
       "referrer_channels        object\n",
       "campaigns                object\n",
       "industries               object\n",
       "time_in_product_mins    float64\n",
       "target                    int64\n",
       "dtype: object"
      ]
     },
     "execution_count": 37,
     "metadata": {},
     "output_type": "execute_result"
    }
   ],
   "source": [
    "all_data.dtypes"
   ]
  },
  {
   "cell_type": "code",
   "execution_count": 38,
   "metadata": {},
   "outputs": [],
   "source": [
    "X = all_data[['country','devices','email_open_rate','referrer_channels', 'campaigns', 'industries','time_in_product_mins']]"
   ]
  },
  {
   "cell_type": "code",
   "execution_count": 39,
   "metadata": {},
   "outputs": [
    {
     "data": {
      "text/plain": [
       "(50000, 7)"
      ]
     },
     "execution_count": 39,
     "metadata": {},
     "output_type": "execute_result"
    }
   ],
   "source": [
    "X.shape"
   ]
  },
  {
   "cell_type": "code",
   "execution_count": 40,
   "metadata": {},
   "outputs": [],
   "source": [
    "y = all_data['target']"
   ]
  },
  {
   "cell_type": "code",
   "execution_count": 41,
   "metadata": {},
   "outputs": [],
   "source": [
    "from sklearn.model_selection import train_test_split"
   ]
  },
  {
   "cell_type": "code",
   "execution_count": 42,
   "metadata": {},
   "outputs": [],
   "source": [
    "Xtrain, Xtest, ytrain, ytest = train_test_split(X,y, test_size = 0.3, stratify = y)"
   ]
  },
  {
   "cell_type": "markdown",
   "metadata": {},
   "source": [
    "### Dummify "
   ]
  },
  {
   "cell_type": "code",
   "execution_count": 43,
   "metadata": {},
   "outputs": [],
   "source": [
    "dummy_variables = ['country','devices','referrer_channels', 'campaigns', 'industries']"
   ]
  },
  {
   "cell_type": "code",
   "execution_count": 44,
   "metadata": {},
   "outputs": [],
   "source": [
    "from cLiML import model_prep"
   ]
  },
  {
   "cell_type": "code",
   "execution_count": 45,
   "metadata": {},
   "outputs": [],
   "source": [
    "Xtrain = model_prep.dummify(Xtrain, categorical_var= dummy_variables)"
   ]
  },
  {
   "cell_type": "code",
   "execution_count": 46,
   "metadata": {},
   "outputs": [],
   "source": [
    "Xtest = model_prep.dummify_test(Xtest, categorical_var= dummy_variables)"
   ]
  },
  {
   "cell_type": "code",
   "execution_count": 47,
   "metadata": {},
   "outputs": [],
   "source": [
    "Xtest = model_prep.match_test_to_train_columns(Xtest, Xtrain)"
   ]
  },
  {
   "cell_type": "markdown",
   "metadata": {},
   "source": [
    "### Save data before over and undersampling"
   ]
  },
  {
   "cell_type": "code",
   "execution_count": 48,
   "metadata": {},
   "outputs": [],
   "source": [
    "# Xtrain.to_csv('./original_data/X_train.csv')\n",
    "# Xtest.to_csv('./original_data/X_test.csv')\n",
    "# ytrain.to_csv('./original_data/y_train.csv')\n",
    "# ytest.to_csv('./original_data/y_test.csv')"
   ]
  },
  {
   "cell_type": "markdown",
   "metadata": {},
   "source": [
    "### Oversample and undersample"
   ]
  },
  {
   "cell_type": "code",
   "execution_count": 49,
   "metadata": {},
   "outputs": [],
   "source": [
    "data_train = Xtrain.copy()"
   ]
  },
  {
   "cell_type": "code",
   "execution_count": 50,
   "metadata": {},
   "outputs": [],
   "source": [
    "data_train['target'] = ytrain"
   ]
  },
  {
   "cell_type": "code",
   "execution_count": 51,
   "metadata": {},
   "outputs": [],
   "source": [
    "data_test = Xtest.copy()"
   ]
  },
  {
   "cell_type": "code",
   "execution_count": 52,
   "metadata": {},
   "outputs": [],
   "source": [
    "data_test['target'] = ytest"
   ]
  },
  {
   "cell_type": "markdown",
   "metadata": {},
   "source": [
    "#### over sampling training data"
   ]
  },
  {
   "cell_type": "code",
   "execution_count": 53,
   "metadata": {},
   "outputs": [],
   "source": [
    "num_target1_train = data_train[data_train['target'] == 1].shape[0]"
   ]
  },
  {
   "cell_type": "code",
   "execution_count": 54,
   "metadata": {},
   "outputs": [],
   "source": [
    "num_target0_train = data_train[data_train['target'] == 0].shape[0]"
   ]
  },
  {
   "cell_type": "code",
   "execution_count": 55,
   "metadata": {},
   "outputs": [
    {
     "data": {
      "text/plain": [
       "24621"
      ]
     },
     "execution_count": 55,
     "metadata": {},
     "output_type": "execute_result"
    }
   ],
   "source": [
    "num_target0_train"
   ]
  },
  {
   "cell_type": "code",
   "execution_count": 56,
   "metadata": {},
   "outputs": [
    {
     "data": {
      "text/plain": [
       "10379"
      ]
     },
     "execution_count": 56,
     "metadata": {},
     "output_type": "execute_result"
    }
   ],
   "source": [
    "num_target1_train"
   ]
  },
  {
   "cell_type": "code",
   "execution_count": 57,
   "metadata": {},
   "outputs": [],
   "source": [
    "oversample_number_train = num_target0_train - num_target1_train"
   ]
  },
  {
   "cell_type": "code",
   "execution_count": 58,
   "metadata": {},
   "outputs": [],
   "source": [
    "data_train_1 = data_train[data_train['target'] ==1]"
   ]
  },
  {
   "cell_type": "code",
   "execution_count": 59,
   "metadata": {},
   "outputs": [],
   "source": [
    "sampled_train_1 = data_train_1.sample(oversample_number_train, replace = True).reset_index(drop = True)"
   ]
  },
  {
   "cell_type": "code",
   "execution_count": 60,
   "metadata": {},
   "outputs": [],
   "source": [
    "data_train_oversampled = pd.concat([data_train, sampled_train_1], axis = 0)"
   ]
  },
  {
   "cell_type": "code",
   "execution_count": 61,
   "metadata": {},
   "outputs": [],
   "source": [
    "data_train_oversampled = data_train_oversampled.sample(frac = 1).reset_index(drop = True)"
   ]
  },
  {
   "cell_type": "code",
   "execution_count": 62,
   "metadata": {},
   "outputs": [
    {
     "data": {
      "text/plain": [
       "0.5"
      ]
     },
     "execution_count": 62,
     "metadata": {},
     "output_type": "execute_result"
    }
   ],
   "source": [
    "data_train_oversampled['target'].mean() # class is now balanced"
   ]
  },
  {
   "cell_type": "markdown",
   "metadata": {},
   "source": [
    "#### over sampling test data"
   ]
  },
  {
   "cell_type": "code",
   "execution_count": 63,
   "metadata": {},
   "outputs": [],
   "source": [
    "num_target1_test = data_test[data_test['target'] == 1].shape[0]"
   ]
  },
  {
   "cell_type": "code",
   "execution_count": 64,
   "metadata": {},
   "outputs": [],
   "source": [
    "num_target0_test = data_test[data_test['target'] == 0].shape[0]"
   ]
  },
  {
   "cell_type": "code",
   "execution_count": 65,
   "metadata": {},
   "outputs": [],
   "source": [
    "oversample_number_test = num_target0_test - num_target1_test"
   ]
  },
  {
   "cell_type": "code",
   "execution_count": 66,
   "metadata": {},
   "outputs": [],
   "source": [
    "data_test_1 = data_test[data_test['target'] == 1]"
   ]
  },
  {
   "cell_type": "code",
   "execution_count": 67,
   "metadata": {},
   "outputs": [],
   "source": [
    "sampled_test_1 = data_test_1.sample(oversample_number_test, replace = True).reset_index(drop = True)"
   ]
  },
  {
   "cell_type": "code",
   "execution_count": 68,
   "metadata": {},
   "outputs": [],
   "source": [
    "data_test_oversampled = pd.concat([data_test, sampled_test_1], axis = 0)"
   ]
  },
  {
   "cell_type": "code",
   "execution_count": 69,
   "metadata": {},
   "outputs": [],
   "source": [
    "data_test_oversampled = data_test_oversampled.sample(frac = 1).reset_index(drop = True)"
   ]
  },
  {
   "cell_type": "code",
   "execution_count": 70,
   "metadata": {},
   "outputs": [
    {
     "data": {
      "text/plain": [
       "0.5"
      ]
     },
     "execution_count": 70,
     "metadata": {},
     "output_type": "execute_result"
    }
   ],
   "source": [
    "data_test_oversampled['target'].mean() # class is now balanced"
   ]
  },
  {
   "cell_type": "markdown",
   "metadata": {},
   "source": [
    "#### undersampling train data"
   ]
  },
  {
   "cell_type": "code",
   "execution_count": 71,
   "metadata": {},
   "outputs": [],
   "source": [
    "data_train_1 = data_train[data_train['target'] == 1]"
   ]
  },
  {
   "cell_type": "code",
   "execution_count": 72,
   "metadata": {},
   "outputs": [],
   "source": [
    "data_train_0 = data_train[data_train['target'] == 0]"
   ]
  },
  {
   "cell_type": "code",
   "execution_count": 73,
   "metadata": {},
   "outputs": [
    {
     "name": "stdout",
     "output_type": "stream",
     "text": [
      "True\n"
     ]
    }
   ],
   "source": [
    "print(data_train_0.shape[0] + data_train_1.shape[0] == data_train.shape[0])"
   ]
  },
  {
   "cell_type": "code",
   "execution_count": 74,
   "metadata": {},
   "outputs": [],
   "source": [
    "undersampled_train_0 = data_train_0.sample(data_train_1.shape[0]).reset_index(drop = True)"
   ]
  },
  {
   "cell_type": "code",
   "execution_count": 75,
   "metadata": {},
   "outputs": [],
   "source": [
    "data_train_undersampled = pd.concat([data_train_1, undersampled_train_0], axis = 0)"
   ]
  },
  {
   "cell_type": "code",
   "execution_count": 76,
   "metadata": {},
   "outputs": [],
   "source": [
    "data_train_undersampled = data_train_undersampled.sample(frac = 1).reset_index(drop = True)"
   ]
  },
  {
   "cell_type": "code",
   "execution_count": 77,
   "metadata": {},
   "outputs": [
    {
     "data": {
      "text/plain": [
       "0.5"
      ]
     },
     "execution_count": 77,
     "metadata": {},
     "output_type": "execute_result"
    }
   ],
   "source": [
    "data_train_undersampled['target'].mean() # class is now balanced"
   ]
  },
  {
   "cell_type": "markdown",
   "metadata": {},
   "source": [
    "#### undersampling test data"
   ]
  },
  {
   "cell_type": "code",
   "execution_count": 78,
   "metadata": {},
   "outputs": [],
   "source": [
    "data_test_1 = data_test[data_test['target'] == 1]"
   ]
  },
  {
   "cell_type": "code",
   "execution_count": 79,
   "metadata": {},
   "outputs": [],
   "source": [
    "data_test_0 = data_test[data_test['target'] == 0]"
   ]
  },
  {
   "cell_type": "code",
   "execution_count": 80,
   "metadata": {},
   "outputs": [
    {
     "name": "stdout",
     "output_type": "stream",
     "text": [
      "True\n"
     ]
    }
   ],
   "source": [
    "print(data_test_0.shape[0] + data_test_1.shape[0] == data_test.shape[0])"
   ]
  },
  {
   "cell_type": "code",
   "execution_count": 81,
   "metadata": {},
   "outputs": [],
   "source": [
    "undersampled_test_0 = data_test_0.sample(data_test_1.shape[0]).reset_index(drop = True)"
   ]
  },
  {
   "cell_type": "code",
   "execution_count": 82,
   "metadata": {},
   "outputs": [],
   "source": [
    "data_test_undersampled = pd.concat([data_test_1, undersampled_test_0], axis = 0)"
   ]
  },
  {
   "cell_type": "code",
   "execution_count": 83,
   "metadata": {},
   "outputs": [],
   "source": [
    "# shuffle\n",
    "data_test_undersampled = data_test_undersampled.sample(frac = 1).reset_index(drop = True)"
   ]
  },
  {
   "cell_type": "code",
   "execution_count": 84,
   "metadata": {},
   "outputs": [
    {
     "data": {
      "text/plain": [
       "0.5"
      ]
     },
     "execution_count": 84,
     "metadata": {},
     "output_type": "execute_result"
    }
   ],
   "source": [
    "data_test_undersampled['target'].mean()"
   ]
  },
  {
   "cell_type": "markdown",
   "metadata": {},
   "source": [
    "### Prepare oversampled data for modelling"
   ]
  },
  {
   "cell_type": "code",
   "execution_count": 85,
   "metadata": {},
   "outputs": [],
   "source": [
    "X_train = data_train_oversampled.drop(columns= ['target'])"
   ]
  },
  {
   "cell_type": "code",
   "execution_count": 86,
   "metadata": {},
   "outputs": [
    {
     "data": {
      "text/plain": [
       "(49242, 14)"
      ]
     },
     "execution_count": 86,
     "metadata": {},
     "output_type": "execute_result"
    }
   ],
   "source": [
    "X_train.shape"
   ]
  },
  {
   "cell_type": "code",
   "execution_count": 87,
   "metadata": {},
   "outputs": [],
   "source": [
    "y_train = data_train_oversampled.target"
   ]
  },
  {
   "cell_type": "code",
   "execution_count": 88,
   "metadata": {},
   "outputs": [
    {
     "data": {
      "text/plain": [
       "(49242,)"
      ]
     },
     "execution_count": 88,
     "metadata": {},
     "output_type": "execute_result"
    }
   ],
   "source": [
    "y_train.shape"
   ]
  },
  {
   "cell_type": "code",
   "execution_count": 89,
   "metadata": {},
   "outputs": [],
   "source": [
    "X_test = data_test_oversampled.drop(columns = ['target'])"
   ]
  },
  {
   "cell_type": "code",
   "execution_count": 90,
   "metadata": {},
   "outputs": [],
   "source": [
    "y_test = data_test_oversampled.target"
   ]
  },
  {
   "cell_type": "code",
   "execution_count": 91,
   "metadata": {},
   "outputs": [],
   "source": [
    "# X_train.to_csv('./oversampled_data/X_train.csv')\n",
    "# X_test.to_csv('./oversampled_data/X_test.csv')\n",
    "# y_train.to_csv('./oversampled_data/y_train.csv')\n",
    "# y_test.to_csv('./oversampled_data/y_test.csv')"
   ]
  },
  {
   "cell_type": "markdown",
   "metadata": {},
   "source": [
    "### Prepare undersampled data for modelling"
   ]
  },
  {
   "cell_type": "code",
   "execution_count": 92,
   "metadata": {},
   "outputs": [],
   "source": [
    "X_train = data_train_undersampled.drop(columns = ['target'])"
   ]
  },
  {
   "cell_type": "code",
   "execution_count": 93,
   "metadata": {},
   "outputs": [
    {
     "data": {
      "text/plain": [
       "(20758, 14)"
      ]
     },
     "execution_count": 93,
     "metadata": {},
     "output_type": "execute_result"
    }
   ],
   "source": [
    "X_train.shape"
   ]
  },
  {
   "cell_type": "code",
   "execution_count": 94,
   "metadata": {},
   "outputs": [],
   "source": [
    "y_train = data_train_undersampled.target"
   ]
  },
  {
   "cell_type": "code",
   "execution_count": 95,
   "metadata": {},
   "outputs": [
    {
     "data": {
      "text/plain": [
       "(20758,)"
      ]
     },
     "execution_count": 95,
     "metadata": {},
     "output_type": "execute_result"
    }
   ],
   "source": [
    "y_train.shape"
   ]
  },
  {
   "cell_type": "code",
   "execution_count": 96,
   "metadata": {},
   "outputs": [],
   "source": [
    "X_test = data_test_undersampled.drop(columns = ['target'])"
   ]
  },
  {
   "cell_type": "code",
   "execution_count": 97,
   "metadata": {},
   "outputs": [],
   "source": [
    "y_test = data_test_undersampled.target"
   ]
  },
  {
   "cell_type": "code",
   "execution_count": 98,
   "metadata": {},
   "outputs": [],
   "source": [
    "# X_train.to_csv('./undersampled_data/X_train.csv')\n",
    "# X_test.to_csv('./undersampled_data/X_test.csv')\n",
    "# y_train.to_csv('./undersampled_data/y_train.csv')\n",
    "# y_test.to_csv('./undersampled_data/y_test.csv')"
   ]
  },
  {
   "cell_type": "code",
   "execution_count": null,
   "metadata": {},
   "outputs": [],
   "source": []
  }
 ],
 "metadata": {
  "kernelspec": {
   "display_name": "Python 3",
   "language": "python",
   "name": "python3"
  },
  "language_info": {
   "codemirror_mode": {
    "name": "ipython",
    "version": 3
   },
   "file_extension": ".py",
   "mimetype": "text/x-python",
   "name": "python",
   "nbconvert_exporter": "python",
   "pygments_lexer": "ipython3",
   "version": "3.6.5"
  }
 },
 "nbformat": 4,
 "nbformat_minor": 2
}
